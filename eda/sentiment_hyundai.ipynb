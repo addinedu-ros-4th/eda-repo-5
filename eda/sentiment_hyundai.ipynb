{
 "cells": [
  {
   "cell_type": "markdown",
   "metadata": {},
   "source": [
    "# 감성분석 결과와 주가 데이터 비교"
   ]
  },
  {
   "cell_type": "markdown",
   "metadata": {},
   "source": [
    "## 감성분석 결과 데이터프레임"
   ]
  },
  {
   "cell_type": "code",
   "execution_count": 1,
   "metadata": {},
   "outputs": [
    {
     "data": {
      "text/html": [
       "<div>\n",
       "<style scoped>\n",
       "    .dataframe tbody tr th:only-of-type {\n",
       "        vertical-align: middle;\n",
       "    }\n",
       "\n",
       "    .dataframe tbody tr th {\n",
       "        vertical-align: top;\n",
       "    }\n",
       "\n",
       "    .dataframe thead th {\n",
       "        text-align: right;\n",
       "    }\n",
       "</style>\n",
       "<table border=\"1\" class=\"dataframe\">\n",
       "  <thead>\n",
       "    <tr style=\"text-align: right;\">\n",
       "      <th></th>\n",
       "      <th>month</th>\n",
       "      <th>company</th>\n",
       "      <th>prediction</th>\n",
       "      <th>score</th>\n",
       "    </tr>\n",
       "  </thead>\n",
       "  <tbody>\n",
       "    <tr>\n",
       "      <th>0</th>\n",
       "      <td>1</td>\n",
       "      <td>현대차</td>\n",
       "      <td>악재</td>\n",
       "      <td>5.234759</td>\n",
       "    </tr>\n",
       "    <tr>\n",
       "      <th>1</th>\n",
       "      <td>1</td>\n",
       "      <td>현대차</td>\n",
       "      <td>중립</td>\n",
       "      <td>5.075768</td>\n",
       "    </tr>\n",
       "    <tr>\n",
       "      <th>2</th>\n",
       "      <td>1</td>\n",
       "      <td>현대차</td>\n",
       "      <td>호재</td>\n",
       "      <td>4.679605</td>\n",
       "    </tr>\n",
       "    <tr>\n",
       "      <th>3</th>\n",
       "      <td>1</td>\n",
       "      <td>현대차</td>\n",
       "      <td>악재</td>\n",
       "      <td>6.213379</td>\n",
       "    </tr>\n",
       "    <tr>\n",
       "      <th>4</th>\n",
       "      <td>1</td>\n",
       "      <td>현대차</td>\n",
       "      <td>호재</td>\n",
       "      <td>6.677591</td>\n",
       "    </tr>\n",
       "    <tr>\n",
       "      <th>...</th>\n",
       "      <td>...</td>\n",
       "      <td>...</td>\n",
       "      <td>...</td>\n",
       "      <td>...</td>\n",
       "    </tr>\n",
       "    <tr>\n",
       "      <th>3300</th>\n",
       "      <td>12</td>\n",
       "      <td>현대차</td>\n",
       "      <td>호재</td>\n",
       "      <td>5.704594</td>\n",
       "    </tr>\n",
       "    <tr>\n",
       "      <th>3301</th>\n",
       "      <td>12</td>\n",
       "      <td>현대차</td>\n",
       "      <td>호재</td>\n",
       "      <td>6.631795</td>\n",
       "    </tr>\n",
       "    <tr>\n",
       "      <th>3302</th>\n",
       "      <td>12</td>\n",
       "      <td>현대차</td>\n",
       "      <td>중립</td>\n",
       "      <td>3.217138</td>\n",
       "    </tr>\n",
       "    <tr>\n",
       "      <th>3303</th>\n",
       "      <td>12</td>\n",
       "      <td>현대차</td>\n",
       "      <td>호재</td>\n",
       "      <td>6.663548</td>\n",
       "    </tr>\n",
       "    <tr>\n",
       "      <th>3304</th>\n",
       "      <td>12</td>\n",
       "      <td>현대차</td>\n",
       "      <td>중립</td>\n",
       "      <td>4.811832</td>\n",
       "    </tr>\n",
       "  </tbody>\n",
       "</table>\n",
       "<p>3305 rows × 4 columns</p>\n",
       "</div>"
      ],
      "text/plain": [
       "      month company prediction     score\n",
       "0         1     현대차         악재  5.234759\n",
       "1         1     현대차         중립  5.075768\n",
       "2         1     현대차         호재  4.679605\n",
       "3         1     현대차         악재  6.213379\n",
       "4         1     현대차         호재  6.677591\n",
       "...     ...     ...        ...       ...\n",
       "3300     12     현대차         호재  5.704594\n",
       "3301     12     현대차         호재  6.631795\n",
       "3302     12     현대차         중립  3.217138\n",
       "3303     12     현대차         호재  6.663548\n",
       "3304     12     현대차         중립  4.811832\n",
       "\n",
       "[3305 rows x 4 columns]"
      ]
     },
     "execution_count": 1,
     "metadata": {},
     "output_type": "execute_result"
    }
   ],
   "source": [
    "import koreanize_matplotlib\n",
    "import pandas as pd\n",
    "import numpy as np\n",
    "import seaborn as sns\n",
    "import matplotlib.pyplot as plt\n",
    "\n",
    "months = ['1월', '2월', '3월', '4월', '5월', '6월',\n",
    "           '7월', '8월', '9월', '10월', '11월', '12월']\n",
    "company = \"현대차\"\n",
    "\n",
    "sentiment_result = pd.read_csv(\"../data/project/predicted_현대차_2023.csv\") # 감성분석 결과 csv파일 읽어오기\n",
    "sentiment_result['date'] = pd.to_datetime(sentiment_result['date'])\n",
    "sentiment_result['month'] = sentiment_result['date'].dt.month\n",
    "\n",
    "# 감성분석 데이터프레임\n",
    "sentiments_data = []\n",
    "\n",
    "for index, row in sentiment_result.iterrows():\n",
    "    month = row['month']\n",
    "    prediction = row['prediction']\n",
    "    score = row['score']\n",
    "    sentiments_data.append([month, company, prediction, score])\n",
    "\n",
    "sentiments_df = pd.DataFrame(sentiments_data, columns=['month', 'company', 'prediction', 'score'])\n",
    "sentiments_df"
   ]
  },
  {
   "cell_type": "code",
   "execution_count": 2,
   "metadata": {},
   "outputs": [
    {
     "data": {
      "text/html": [
       "<div>\n",
       "<style scoped>\n",
       "    .dataframe tbody tr th:only-of-type {\n",
       "        vertical-align: middle;\n",
       "    }\n",
       "\n",
       "    .dataframe tbody tr th {\n",
       "        vertical-align: top;\n",
       "    }\n",
       "\n",
       "    .dataframe thead th {\n",
       "        text-align: right;\n",
       "    }\n",
       "</style>\n",
       "<table border=\"1\" class=\"dataframe\">\n",
       "  <thead>\n",
       "    <tr style=\"text-align: right;\">\n",
       "      <th>company</th>\n",
       "      <th>현대차</th>\n",
       "    </tr>\n",
       "    <tr>\n",
       "      <th>month</th>\n",
       "      <th></th>\n",
       "    </tr>\n",
       "  </thead>\n",
       "  <tbody>\n",
       "    <tr>\n",
       "      <th>1월</th>\n",
       "      <td>491.696390</td>\n",
       "    </tr>\n",
       "    <tr>\n",
       "      <th>2월</th>\n",
       "      <td>516.442365</td>\n",
       "    </tr>\n",
       "    <tr>\n",
       "      <th>3월</th>\n",
       "      <td>505.433772</td>\n",
       "    </tr>\n",
       "    <tr>\n",
       "      <th>4월</th>\n",
       "      <td>635.747800</td>\n",
       "    </tr>\n",
       "    <tr>\n",
       "      <th>5월</th>\n",
       "      <td>522.762326</td>\n",
       "    </tr>\n",
       "    <tr>\n",
       "      <th>6월</th>\n",
       "      <td>651.297531</td>\n",
       "    </tr>\n",
       "    <tr>\n",
       "      <th>7월</th>\n",
       "      <td>531.887810</td>\n",
       "    </tr>\n",
       "    <tr>\n",
       "      <th>8월</th>\n",
       "      <td>414.675050</td>\n",
       "    </tr>\n",
       "    <tr>\n",
       "      <th>9월</th>\n",
       "      <td>490.673383</td>\n",
       "    </tr>\n",
       "    <tr>\n",
       "      <th>10월</th>\n",
       "      <td>285.011404</td>\n",
       "    </tr>\n",
       "    <tr>\n",
       "      <th>11월</th>\n",
       "      <td>397.059007</td>\n",
       "    </tr>\n",
       "    <tr>\n",
       "      <th>12월</th>\n",
       "      <td>311.460804</td>\n",
       "    </tr>\n",
       "  </tbody>\n",
       "</table>\n",
       "</div>"
      ],
      "text/plain": [
       "company         현대차\n",
       "month              \n",
       "1월       491.696390\n",
       "2월       516.442365\n",
       "3월       505.433772\n",
       "4월       635.747800\n",
       "5월       522.762326\n",
       "6월       651.297531\n",
       "7월       531.887810\n",
       "8월       414.675050\n",
       "9월       490.673383\n",
       "10월      285.011404\n",
       "11월      397.059007\n",
       "12월      311.460804"
      ]
     },
     "execution_count": 2,
     "metadata": {},
     "output_type": "execute_result"
    }
   ],
   "source": [
    "# 감성에 따른 가중치 매핑\n",
    "weights = {'호재': 1, '악재': -1, '중립': 0}\n",
    "sentiments_df['total'] = sentiments_df['prediction'].map(weights) * sentiments_df['score']\n",
    "sentiments_df['month'] = sentiments_df['month'].astype(str) + '월'\n",
    "\n",
    "df_monthly_total = sentiments_df.groupby(['month', 'company'])['total'].sum().unstack()\n",
    "df_monthly_total = df_monthly_total.reindex(months)\n",
    "\n",
    "df_monthly_total"
   ]
  },
  {
   "cell_type": "code",
   "execution_count": 3,
   "metadata": {},
   "outputs": [
    {
     "name": "stdout",
     "output_type": "stream",
     "text": [
      "<class 'pandas.core.frame.DataFrame'>\n",
      "RangeIndex: 3305 entries, 0 to 3304\n",
      "Data columns (total 5 columns):\n",
      " #   Column      Non-Null Count  Dtype  \n",
      "---  ------      --------------  -----  \n",
      " 0   month       3305 non-null   object \n",
      " 1   company     3305 non-null   object \n",
      " 2   prediction  3305 non-null   object \n",
      " 3   score       3305 non-null   float64\n",
      " 4   total       3305 non-null   float64\n",
      "dtypes: float64(2), object(3)\n",
      "memory usage: 129.2+ KB\n"
     ]
    }
   ],
   "source": [
    "sentiments_df.info()"
   ]
  },
  {
   "cell_type": "code",
   "execution_count": 4,
   "metadata": {},
   "outputs": [
    {
     "data": {
      "text/html": [
       "<div>\n",
       "<style scoped>\n",
       "    .dataframe tbody tr th:only-of-type {\n",
       "        vertical-align: middle;\n",
       "    }\n",
       "\n",
       "    .dataframe tbody tr th {\n",
       "        vertical-align: top;\n",
       "    }\n",
       "\n",
       "    .dataframe thead th {\n",
       "        text-align: right;\n",
       "    }\n",
       "</style>\n",
       "<table border=\"1\" class=\"dataframe\">\n",
       "  <thead>\n",
       "    <tr style=\"text-align: right;\">\n",
       "      <th></th>\n",
       "      <th>Code</th>\n",
       "      <th>ISU_CD</th>\n",
       "      <th>Name</th>\n",
       "      <th>Market</th>\n",
       "      <th>Dept</th>\n",
       "      <th>Close</th>\n",
       "      <th>ChangeCode</th>\n",
       "      <th>Changes</th>\n",
       "      <th>ChagesRatio</th>\n",
       "      <th>Open</th>\n",
       "      <th>High</th>\n",
       "      <th>Low</th>\n",
       "      <th>Volume</th>\n",
       "      <th>Amount</th>\n",
       "      <th>Marcap</th>\n",
       "      <th>Stocks</th>\n",
       "      <th>MarketId</th>\n",
       "    </tr>\n",
       "  </thead>\n",
       "  <tbody>\n",
       "    <tr>\n",
       "      <th>6</th>\n",
       "      <td>005380</td>\n",
       "      <td>KR7005380001</td>\n",
       "      <td>현대차</td>\n",
       "      <td>KOSPI</td>\n",
       "      <td></td>\n",
       "      <td>184800</td>\n",
       "      <td>1</td>\n",
       "      <td>4700</td>\n",
       "      <td>2.61</td>\n",
       "      <td>181200</td>\n",
       "      <td>184800</td>\n",
       "      <td>180900</td>\n",
       "      <td>374215</td>\n",
       "      <td>68742717200</td>\n",
       "      <td>39091022308800</td>\n",
       "      <td>211531506</td>\n",
       "      <td>STK</td>\n",
       "    </tr>\n",
       "  </tbody>\n",
       "</table>\n",
       "</div>"
      ],
      "text/plain": [
       "     Code        ISU_CD Name Market Dept   Close ChangeCode  Changes  \\\n",
       "6  005380  KR7005380001  현대차  KOSPI       184800          1     4700   \n",
       "\n",
       "   ChagesRatio    Open    High     Low  Volume       Amount          Marcap  \\\n",
       "6         2.61  181200  184800  180900  374215  68742717200  39091022308800   \n",
       "\n",
       "      Stocks MarketId  \n",
       "6  211531506      STK  "
      ]
     },
     "execution_count": 4,
     "metadata": {},
     "output_type": "execute_result"
    }
   ],
   "source": [
    "import FinanceDataReader as fdr\n",
    "\n",
    "df_krx = fdr.StockListing('KRX')\n",
    "hyundai = df_krx[df_krx[\"Name\"].isin([\"현대차\"])]\n",
    "hyundai"
   ]
  },
  {
   "cell_type": "code",
   "execution_count": 5,
   "metadata": {},
   "outputs": [
    {
     "data": {
      "text/html": [
       "<div>\n",
       "<style scoped>\n",
       "    .dataframe tbody tr th:only-of-type {\n",
       "        vertical-align: middle;\n",
       "    }\n",
       "\n",
       "    .dataframe tbody tr th {\n",
       "        vertical-align: top;\n",
       "    }\n",
       "\n",
       "    .dataframe thead th {\n",
       "        text-align: right;\n",
       "    }\n",
       "</style>\n",
       "<table border=\"1\" class=\"dataframe\">\n",
       "  <thead>\n",
       "    <tr style=\"text-align: right;\">\n",
       "      <th></th>\n",
       "      <th>Open</th>\n",
       "      <th>High</th>\n",
       "      <th>Low</th>\n",
       "      <th>Close</th>\n",
       "      <th>Volume</th>\n",
       "      <th>Change</th>\n",
       "    </tr>\n",
       "    <tr>\n",
       "      <th>Date</th>\n",
       "      <th></th>\n",
       "      <th></th>\n",
       "      <th></th>\n",
       "      <th></th>\n",
       "      <th></th>\n",
       "      <th></th>\n",
       "    </tr>\n",
       "  </thead>\n",
       "  <tbody>\n",
       "    <tr>\n",
       "      <th>2023-01-02</th>\n",
       "      <td>154000</td>\n",
       "      <td>161000</td>\n",
       "      <td>154000</td>\n",
       "      <td>157000</td>\n",
       "      <td>1132256</td>\n",
       "      <td>0.039735</td>\n",
       "    </tr>\n",
       "    <tr>\n",
       "      <th>2023-01-03</th>\n",
       "      <td>158500</td>\n",
       "      <td>160500</td>\n",
       "      <td>156000</td>\n",
       "      <td>159000</td>\n",
       "      <td>787752</td>\n",
       "      <td>0.012739</td>\n",
       "    </tr>\n",
       "    <tr>\n",
       "      <th>2023-01-04</th>\n",
       "      <td>157500</td>\n",
       "      <td>161000</td>\n",
       "      <td>157500</td>\n",
       "      <td>160500</td>\n",
       "      <td>463444</td>\n",
       "      <td>0.009434</td>\n",
       "    </tr>\n",
       "    <tr>\n",
       "      <th>2023-01-05</th>\n",
       "      <td>161000</td>\n",
       "      <td>161500</td>\n",
       "      <td>158000</td>\n",
       "      <td>159000</td>\n",
       "      <td>577152</td>\n",
       "      <td>-0.009346</td>\n",
       "    </tr>\n",
       "    <tr>\n",
       "      <th>2023-01-06</th>\n",
       "      <td>157500</td>\n",
       "      <td>161500</td>\n",
       "      <td>157500</td>\n",
       "      <td>159500</td>\n",
       "      <td>502420</td>\n",
       "      <td>0.003145</td>\n",
       "    </tr>\n",
       "  </tbody>\n",
       "</table>\n",
       "</div>"
      ],
      "text/plain": [
       "              Open    High     Low   Close   Volume    Change\n",
       "Date                                                         \n",
       "2023-01-02  154000  161000  154000  157000  1132256  0.039735\n",
       "2023-01-03  158500  160500  156000  159000   787752  0.012739\n",
       "2023-01-04  157500  161000  157500  160500   463444  0.009434\n",
       "2023-01-05  161000  161500  158000  159000   577152 -0.009346\n",
       "2023-01-06  157500  161500  157500  159500   502420  0.003145"
      ]
     },
     "execution_count": 5,
     "metadata": {},
     "output_type": "execute_result"
    }
   ],
   "source": [
    "ds_stock = fdr.DataReader('005380', '2023-01-01', '2023-12-31')\n",
    "ds_stock.head()"
   ]
  },
  {
   "cell_type": "markdown",
   "metadata": {},
   "source": [
    "## 감성분석 결과 시각화"
   ]
  },
  {
   "cell_type": "code",
   "execution_count": 6,
   "metadata": {},
   "outputs": [
    {
     "data": {
      "image/png": "[encoded data removed]",
      "text/plain": [
       "<Figure size 1200x600 with 1 Axes>"
      ]
     },
     "metadata": {},
     "output_type": "display_data"
    }
   ],
   "source": [
    "import random\n",
    "import koreanize_matplotlib\n",
    "from datetime import datetime, timedelta\n",
    "import FinanceDataReader as fdr\n",
    "\n",
    "company = \"현대자동차\"\n",
    "\n",
    "sentiment_result = pd.read_csv(\"../data/project/predicted_현대차_2023.csv\") # 감성분석 결과 csv파일 읽어오기\n",
    "\n",
    "sentiment_result['date'] = pd.to_datetime(sentiment_result['date'])\n",
    "sentiment_result[\"date\"] = sentiment_result[\"date\"].dt.date\n",
    "\n",
    "sentiments_data = []\n",
    "\n",
    "for index, row in sentiment_result.iterrows():\n",
    "    date = row['date']\n",
    "    prediction = row['prediction']\n",
    "    score = row['score']\n",
    "    sentiments_data.append([date, company, prediction, score])\n",
    "\n",
    "sentiments_df2 = pd.DataFrame(sentiments_data, columns=['date', 'company', 'prediction', 'score'])\n",
    "\n",
    "# 감성에 따른 가중치 매핑\n",
    "weights = {'호재': 1, '악재': -1, '중립': 0}\n",
    "sentiments_df2['total'] = sentiments_df2['prediction'].map(weights) * sentiments_df2['score']\n",
    "\n",
    "df_hv = sentiments_df2.groupby(['date', 'company']).agg({'total': 'sum'}).reset_index()\n",
    "df_hv['date'] = pd.to_datetime(df_hv['date'])\n",
    "df_hv = df_hv.set_index('date')\n",
    "\n",
    "# 주가 데이터에 감성분석 결과 총점 추가\n",
    "hv_stock = fdr.DataReader('005380', '2023-01-01', '2023-12-31')\n",
    "hv_stock['Sentiment_Total'] = df_hv['total']\n",
    "hv_stock['Sentiment_Total'] = hv_stock['Sentiment_Total'].fillna(0)\n",
    "\n",
    "# 감성분석 결과 Scaling\n",
    "scaling_factor = 9.3\n",
    "hv_stock['Sentiment_Total'] = hv_stock['Sentiment_Total'] * scaling_factor\n",
    "\n",
    "# 누적 합 계산\n",
    "hv_stock['Sentiment_Total_Cumulative'] = hv_stock['Sentiment_Total'].cumsum()\n",
    "\n",
    "# 오프셋 설정\n",
    "offset = 157000\n",
    "hv_stock['Sentiment_Total_Cumulative_Offset'] = hv_stock['Sentiment_Total_Cumulative'] + offset\n",
    "\n",
    "plt.figure(figsize=(12, 6))\n",
    "plt.plot(hv_stock['Close'], label='현대자동차 주가', color='blue')\n",
    "plt.plot(hv_stock['Sentiment_Total_Cumulative_Offset'], label='예측 주가', linestyle='--', color='orange')\n",
    "plt.title('현대자동차 주가 예측 비교')\n",
    "plt.xlabel('날짜')\n",
    "plt.ylabel('가격')\n",
    "plt.legend()\n",
    "plt.show()"
   ]
  },
  {
   "cell_type": "code",
   "execution_count": 7,
   "metadata": {},
   "outputs": [
    {
     "data": {
      "text/html": [
       "<div>\n",
       "<style scoped>\n",
       "    .dataframe tbody tr th:only-of-type {\n",
       "        vertical-align: middle;\n",
       "    }\n",
       "\n",
       "    .dataframe tbody tr th {\n",
       "        vertical-align: top;\n",
       "    }\n",
       "\n",
       "    .dataframe thead th {\n",
       "        text-align: right;\n",
       "    }\n",
       "</style>\n",
       "<table border=\"1\" class=\"dataframe\">\n",
       "  <thead>\n",
       "    <tr style=\"text-align: right;\">\n",
       "      <th></th>\n",
       "      <th>Open</th>\n",
       "      <th>High</th>\n",
       "      <th>Low</th>\n",
       "      <th>Close</th>\n",
       "      <th>Volume</th>\n",
       "      <th>Change</th>\n",
       "      <th>Sentiment_Total</th>\n",
       "      <th>Sentiment_Total_Cumulative</th>\n",
       "      <th>Sentiment_Total_Cumulative_Offset</th>\n",
       "    </tr>\n",
       "    <tr>\n",
       "      <th>Date</th>\n",
       "      <th></th>\n",
       "      <th></th>\n",
       "      <th></th>\n",
       "      <th></th>\n",
       "      <th></th>\n",
       "      <th></th>\n",
       "      <th></th>\n",
       "      <th></th>\n",
       "      <th></th>\n",
       "    </tr>\n",
       "  </thead>\n",
       "  <tbody>\n",
       "    <tr>\n",
       "      <th>2023-01-02</th>\n",
       "      <td>154000</td>\n",
       "      <td>161000</td>\n",
       "      <td>154000</td>\n",
       "      <td>157000</td>\n",
       "      <td>1132256</td>\n",
       "      <td>0.039735</td>\n",
       "      <td>440.499356</td>\n",
       "      <td>440.499356</td>\n",
       "      <td>157440.499356</td>\n",
       "    </tr>\n",
       "    <tr>\n",
       "      <th>2023-01-03</th>\n",
       "      <td>158500</td>\n",
       "      <td>160500</td>\n",
       "      <td>156000</td>\n",
       "      <td>159000</td>\n",
       "      <td>787752</td>\n",
       "      <td>0.012739</td>\n",
       "      <td>23.560603</td>\n",
       "      <td>464.059959</td>\n",
       "      <td>157464.059959</td>\n",
       "    </tr>\n",
       "    <tr>\n",
       "      <th>2023-01-04</th>\n",
       "      <td>157500</td>\n",
       "      <td>161000</td>\n",
       "      <td>157500</td>\n",
       "      <td>160500</td>\n",
       "      <td>463444</td>\n",
       "      <td>0.009434</td>\n",
       "      <td>4.262972</td>\n",
       "      <td>468.322930</td>\n",
       "      <td>157468.322930</td>\n",
       "    </tr>\n",
       "    <tr>\n",
       "      <th>2023-01-05</th>\n",
       "      <td>161000</td>\n",
       "      <td>161500</td>\n",
       "      <td>158000</td>\n",
       "      <td>159000</td>\n",
       "      <td>577152</td>\n",
       "      <td>-0.009346</td>\n",
       "      <td>105.312657</td>\n",
       "      <td>573.635587</td>\n",
       "      <td>157573.635587</td>\n",
       "    </tr>\n",
       "    <tr>\n",
       "      <th>2023-01-06</th>\n",
       "      <td>157500</td>\n",
       "      <td>161500</td>\n",
       "      <td>157500</td>\n",
       "      <td>159500</td>\n",
       "      <td>502420</td>\n",
       "      <td>0.003145</td>\n",
       "      <td>49.002618</td>\n",
       "      <td>622.638206</td>\n",
       "      <td>157622.638206</td>\n",
       "    </tr>\n",
       "    <tr>\n",
       "      <th>...</th>\n",
       "      <td>...</td>\n",
       "      <td>...</td>\n",
       "      <td>...</td>\n",
       "      <td>...</td>\n",
       "      <td>...</td>\n",
       "      <td>...</td>\n",
       "      <td>...</td>\n",
       "      <td>...</td>\n",
       "      <td>...</td>\n",
       "    </tr>\n",
       "    <tr>\n",
       "      <th>2023-12-21</th>\n",
       "      <td>197500</td>\n",
       "      <td>202000</td>\n",
       "      <td>197100</td>\n",
       "      <td>198700</td>\n",
       "      <td>545031</td>\n",
       "      <td>-0.002009</td>\n",
       "      <td>-45.053935</td>\n",
       "      <td>45668.077045</td>\n",
       "      <td>202668.077045</td>\n",
       "    </tr>\n",
       "    <tr>\n",
       "      <th>2023-12-22</th>\n",
       "      <td>200000</td>\n",
       "      <td>200500</td>\n",
       "      <td>198500</td>\n",
       "      <td>199000</td>\n",
       "      <td>347866</td>\n",
       "      <td>0.001510</td>\n",
       "      <td>-103.781134</td>\n",
       "      <td>45564.295911</td>\n",
       "      <td>202564.295911</td>\n",
       "    </tr>\n",
       "    <tr>\n",
       "      <th>2023-12-26</th>\n",
       "      <td>200500</td>\n",
       "      <td>200500</td>\n",
       "      <td>197700</td>\n",
       "      <td>198800</td>\n",
       "      <td>409928</td>\n",
       "      <td>-0.001005</td>\n",
       "      <td>102.181362</td>\n",
       "      <td>45666.477273</td>\n",
       "      <td>202666.477273</td>\n",
       "    </tr>\n",
       "    <tr>\n",
       "      <th>2023-12-27</th>\n",
       "      <td>198700</td>\n",
       "      <td>199300</td>\n",
       "      <td>197200</td>\n",
       "      <td>198500</td>\n",
       "      <td>331186</td>\n",
       "      <td>-0.001509</td>\n",
       "      <td>-66.960929</td>\n",
       "      <td>45599.516343</td>\n",
       "      <td>202599.516343</td>\n",
       "    </tr>\n",
       "    <tr>\n",
       "      <th>2023-12-28</th>\n",
       "      <td>198800</td>\n",
       "      <td>203500</td>\n",
       "      <td>198400</td>\n",
       "      <td>203500</td>\n",
       "      <td>766503</td>\n",
       "      <td>0.025189</td>\n",
       "      <td>58.223055</td>\n",
       "      <td>45657.739398</td>\n",
       "      <td>202657.739398</td>\n",
       "    </tr>\n",
       "  </tbody>\n",
       "</table>\n",
       "<p>245 rows × 9 columns</p>\n",
       "</div>"
      ],
      "text/plain": [
       "              Open    High     Low   Close   Volume    Change  \\\n",
       "Date                                                            \n",
       "2023-01-02  154000  161000  154000  157000  1132256  0.039735   \n",
       "2023-01-03  158500  160500  156000  159000   787752  0.012739   \n",
       "2023-01-04  157500  161000  157500  160500   463444  0.009434   \n",
       "2023-01-05  161000  161500  158000  159000   577152 -0.009346   \n",
       "2023-01-06  157500  161500  157500  159500   502420  0.003145   \n",
       "...            ...     ...     ...     ...      ...       ...   \n",
       "2023-12-21  197500  202000  197100  198700   545031 -0.002009   \n",
       "2023-12-22  200000  200500  198500  199000   347866  0.001510   \n",
       "2023-12-26  200500  200500  197700  198800   409928 -0.001005   \n",
       "2023-12-27  198700  199300  197200  198500   331186 -0.001509   \n",
       "2023-12-28  198800  203500  198400  203500   766503  0.025189   \n",
       "\n",
       "            Sentiment_Total  Sentiment_Total_Cumulative  \\\n",
       "Date                                                      \n",
       "2023-01-02       440.499356                  440.499356   \n",
       "2023-01-03        23.560603                  464.059959   \n",
       "2023-01-04         4.262972                  468.322930   \n",
       "2023-01-05       105.312657                  573.635587   \n",
       "2023-01-06        49.002618                  622.638206   \n",
       "...                     ...                         ...   \n",
       "2023-12-21       -45.053935                45668.077045   \n",
       "2023-12-22      -103.781134                45564.295911   \n",
       "2023-12-26       102.181362                45666.477273   \n",
       "2023-12-27       -66.960929                45599.516343   \n",
       "2023-12-28        58.223055                45657.739398   \n",
       "\n",
       "            Sentiment_Total_Cumulative_Offset  \n",
       "Date                                           \n",
       "2023-01-02                      157440.499356  \n",
       "2023-01-03                      157464.059959  \n",
       "2023-01-04                      157468.322930  \n",
       "2023-01-05                      157573.635587  \n",
       "2023-01-06                      157622.638206  \n",
       "...                                       ...  \n",
       "2023-12-21                      202668.077045  \n",
       "2023-12-22                      202564.295911  \n",
       "2023-12-26                      202666.477273  \n",
       "2023-12-27                      202599.516343  \n",
       "2023-12-28                      202657.739398  \n",
       "\n",
       "[245 rows x 9 columns]"
      ]
     },
     "execution_count": 7,
     "metadata": {},
     "output_type": "execute_result"
    }
   ],
   "source": [
    "hv_stock"
   ]
  },
  {
   "cell_type": "markdown",
   "metadata": {},
   "source": [
    "### 감성분석 결과 기반 경향선과 주가 데이터 최적경향선 비교"
   ]
  },
  {
   "cell_type": "code",
   "execution_count": 8,
   "metadata": {},
   "outputs": [
    {
     "data": {
      "image/png": "[encoded data removed]",
      "text/plain": [
       "<Figure size 1200x600 with 1 Axes>"
      ]
     },
     "metadata": {},
     "output_type": "display_data"
    }
   ],
   "source": [
    "import FinanceDataReader as fdr\n",
    "import seaborn as sns\n",
    "import matplotlib.pyplot as plt\n",
    "\n",
    "hv_stock = fdr.DataReader('005380', '2023-01-01', '2023-12-31')\n",
    "\n",
    "# 감성분석 결과의 크기 Scaling\n",
    "scaling_factor = 5\n",
    "df_hv['Sentiment_Total'] = df_hv['total'] * scaling_factor\n",
    "\n",
    "hv_stock = hv_stock.sort_index()\n",
    "df_hv = df_hv.sort_index()\n",
    "\n",
    "# 날짜를 일로 나타내는 정수로 변환\n",
    "hv_stock['Date_Integer'] = (hv_stock.index - hv_stock.index.min()).days\n",
    "df_hv['Date_Integer'] = (df_hv.index - df_hv.index.min()).days\n",
    "\n",
    "# 주식 데이터와 감성분석 결과 날짜기준 병합\n",
    "merged_data = pd.merge(hv_stock, df_hv, left_on='Date_Integer', right_on='Date_Integer', how='left')\n",
    "\n",
    "# 결측치 처리\n",
    "merged_data['Sentiment_Total'] = merged_data['Sentiment_Total'].fillna(0)\n",
    "\n",
    "# 감성분석 결과기반 1차 함수의 계수 및 y값 계산\n",
    "coeff = np.polyfit(merged_data['Date_Integer'], merged_data['Sentiment_Total'].cumsum(), 1)\n",
    "merged_data['Sentiment_Linear'] = np.polyval(coeff, merged_data['Date_Integer'])\n",
    "\n",
    "# 오프셋 설정\n",
    "offset = merged_data['Close'].mean() - merged_data['Sentiment_Linear'].iloc[len(merged_data) // 2]\n",
    "merged_data['Sentiment_Linear_Offset'] = merged_data['Sentiment_Linear'] + offset\n",
    "\n",
    "plt.figure(figsize=(12, 6))\n",
    "plt.plot(merged_data['Close'], label='현대자동차주가', color='blue')\n",
    "plt.plot(merged_data['Sentiment_Linear_Offset'], label='감성분석 경향선', linestyle='--', color='orange')\n",
    "plt.title('현대자동차 주가 예측 비교')\n",
    "plt.xlabel('날짜')\n",
    "plt.ylabel('주가')\n",
    "plt.legend()\n",
    "plt.show()\n"
   ]
  },
  {
   "cell_type": "code",
   "execution_count": 9,
   "metadata": {},
   "outputs": [
    {
     "data": {
      "text/html": [
       "        <script type=\"text/javascript\">\n",
       "        window.PlotlyConfig = {MathJaxConfig: 'local'};\n",
       "        if (window.MathJax && window.MathJax.Hub && window.MathJax.Hub.Config) {window.MathJax.Hub.Config({SVG: {font: \"STIX-Web\"}});}\n",
       "        if (typeof require !== 'undefined') {\n",
       "        require.undef(\"plotly\");\n",
       "        requirejs.config({\n",
       "            paths: {\n",
       "                'plotly': ['https://cdn.plot.ly/plotly-2.27.0.min']\n",
       "            }\n",
       "        });\n",
       "        require(['plotly'], function(Plotly) {\n",
       "            window._Plotly = Plotly;\n",
       "        });\n",
       "        }\n",
       "        </script>\n",
       "        "
      ]
     },
     "metadata": {},
     "output_type": "display_data"
    },
    {
     "data": {
      "application/vnd.plotly.v1+json": {
       "config": {
        "linkText": "Export to plot.ly",
        "plotlyServerURL": "https://plot.ly",
        "showLink": true
       },
       "data": [
        {
         "line": {
          "color": "rgba(255, 153, 51, 1.0)",
          "dash": "solid",
          "shape": "linear",
          "width": 1.3
         },
         "mode": "lines",
         "name": "Close",
         "text": "",
         "type": "scatter",
         "x": [
          "2023-01-02",
          "2023-01-03",
          "2023-01-04",
          "2023-01-05",
          "2023-01-06",
          "2023-01-09",
          "2023-01-10",
          "2023-01-11",
          "2023-01-12",
          "2023-01-13",
          "2023-01-16",
          "2023-01-17",
          "2023-01-18",
          "2023-01-19",
          "2023-01-20",
          "2023-01-25",
          "2023-01-26",
          "2023-01-27",
          "2023-01-30",
          "2023-01-31",
          "2023-02-01",
          "2023-02-02",
          "2023-02-03",
          "2023-02-06",
          "2023-02-07",
          "2023-02-08",
          "2023-02-09",
          "2023-02-10",
          "2023-02-13",
          "2023-02-14",
          "2023-02-15",
          "2023-02-16",
          "2023-02-17",
          "2023-02-20",
          "2023-02-21",
          "2023-02-22",
          "2023-02-23",
          "2023-02-24",
          "2023-02-27",
          "2023-02-28",
          "2023-03-02",
          "2023-03-03",
          "2023-03-06",
          "2023-03-07",
          "2023-03-08",
          "2023-03-09",
          "2023-03-10",
          "2023-03-13",
          "2023-03-14",
          "2023-03-15",
          "2023-03-16",
          "2023-03-17",
          "2023-03-20",
          "2023-03-21",
          "2023-03-22",
          "2023-03-23",
          "2023-03-24",
          "2023-03-27",
          "2023-03-28",
          "2023-03-29",
          "2023-03-30",
          "2023-03-31",
          "2023-04-03",
          "2023-04-04",
          "2023-04-05",
          "2023-04-06",
          "2023-04-07",
          "2023-04-10",
          "2023-04-11",
          "2023-04-12",
          "2023-04-13",
          "2023-04-14",
          "2023-04-17",
          "2023-04-18",
          "2023-04-19",
          "2023-04-20",
          "2023-04-21",
          "2023-04-24",
          "2023-04-25",
          "2023-04-26",
          "2023-04-27",
          "2023-04-28",
          "2023-05-02",
          "2023-05-03",
          "2023-05-04",
          "2023-05-08",
          "2023-05-09",
          "2023-05-10",
          "2023-05-11",
          "2023-05-12",
          "2023-05-15",
          "2023-05-16",
          "2023-05-17",
          "2023-05-18",
          "2023-05-19",
          "2023-05-22",
          "2023-05-23",
          "2023-05-24",
          "2023-05-25",
          "2023-05-26",
          "2023-05-30",
          "2023-05-31",
          "2023-06-01",
          "2023-06-02",
          "2023-06-05",
          "2023-06-07",
          "2023-06-08",
          "2023-06-09",
          "2023-06-12",
          "2023-06-13",
          "2023-06-14",
          "2023-06-15",
          "2023-06-16",
          "2023-06-19",
          "2023-06-20",
          "2023-06-21",
          "2023-06-22",
          "2023-06-23",
          "2023-06-26",
          "2023-06-27",
          "2023-06-28",
          "2023-06-29",
          "2023-06-30",
          "2023-07-03",
          "2023-07-04",
          "2023-07-05",
          "2023-07-06",
          "2023-07-07",
          "2023-07-10",
          "2023-07-11",
          "2023-07-12",
          "2023-07-13",
          "2023-07-14",
          "2023-07-17",
          "2023-07-18",
          "2023-07-19",
          "2023-07-20",
          "2023-07-21",
          "2023-07-24",
          "2023-07-25",
          "2023-07-26",
          "2023-07-27",
          "2023-07-28",
          "2023-07-31",
          "2023-08-01",
          "2023-08-02",
          "2023-08-03",
          "2023-08-04",
          "2023-08-07",
          "2023-08-08",
          "2023-08-09",
          "2023-08-10",
          "2023-08-11",
          "2023-08-14",
          "2023-08-16",
          "2023-08-17",
          "2023-08-18",
          "2023-08-21",
          "2023-08-22",
          "2023-08-23",
          "2023-08-24",
          "2023-08-25",
          "2023-08-28",
          "2023-08-29",
          "2023-08-30",
          "2023-08-31",
          "2023-09-01",
          "2023-09-04",
          "2023-09-05",
          "2023-09-06",
          "2023-09-07",
          "2023-09-08",
          "2023-09-11",
          "2023-09-12",
          "2023-09-13",
          "2023-09-14",
          "2023-09-15",
          "2023-09-18",
          "2023-09-19",
          "2023-09-20",
          "2023-09-21",
          "2023-09-22",
          "2023-09-25",
          "2023-09-26",
          "2023-09-27",
          "2023-10-04",
          "2023-10-05",
          "2023-10-06",
          "2023-10-10",
          "2023-10-11",
          "2023-10-12",
          "2023-10-13",
          "2023-10-16",
          "2023-10-17",
          "2023-10-18",
          "2023-10-19",
          "2023-10-20",
          "2023-10-23",
          "2023-10-24",
          "2023-10-25",
          "2023-10-26",
          "2023-10-27",
          "2023-10-30",
          "2023-10-31",
          "2023-11-01",
          "2023-11-02",
          "2023-11-03",
          "2023-11-06",
          "2023-11-07",
          "2023-11-08",
          "2023-11-09",
          "2023-11-10",
          "2023-11-13",
          "2023-11-14",
          "2023-11-15",
          "2023-11-16",
          "2023-11-17",
          "2023-11-20",
          "2023-11-21",
          "2023-11-22",
          "2023-11-23",
          "2023-11-24",
          "2023-11-27",
          "2023-11-28",
          "2023-11-29",
          "2023-11-30",
          "2023-12-01",
          "2023-12-04",
          "2023-12-05",
          "2023-12-06",
          "2023-12-07",
          "2023-12-08",
          "2023-12-11",
          "2023-12-12",
          "2023-12-13",
          "2023-12-14",
          "2023-12-15",
          "2023-12-18",
          "2023-12-19",
          "2023-12-20",
          "2023-12-21",
          "2023-12-22",
          "2023-12-26",
          "2023-12-27",
          "2023-12-28"
         ],
         "y": [
          157000,
          159000,
          160500,
          159000,
          159500,
          164000,
          163000,
          164000,
          166500,
          169000,
          166500,
          166000,
          164500,
          164000,
          164500,
          165700,
          174900,
          173900,
          170000,
          167000,
          170000,
          169900,
          172800,
          170700,
          170500,
          172700,
          172600,
          173400,
          171600,
          173700,
          172700,
          179300,
          179000,
          178200,
          178200,
          174200,
          176200,
          173900,
          173300,
          176300,
          178500,
          176100,
          177500,
          175100,
          174900,
          176300,
          175000,
          176000,
          171000,
          174300,
          174000,
          176600,
          175100,
          175800,
          180300,
          180500,
          177700,
          176100,
          177100,
          180400,
          181200,
          184500,
          183600,
          183800,
          186700,
          185100,
          185100,
          185900,
          192100,
          198200,
          198900,
          196100,
          195000,
          191400,
          193600,
          192500,
          190400,
          191900,
          201000,
          201500,
          202000,
          197500,
          201500,
          201000,
          199200,
          202500,
          205000,
          210000,
          208000,
          208500,
          208000,
          202500,
          204500,
          206500,
          205500,
          207500,
          207500,
          207500,
          203500,
          205500,
          200500,
          200000,
          197500,
          199500,
          201000,
          196400,
          196700,
          197100,
          196200,
          198000,
          201000,
          199700,
          199400,
          199300,
          197900,
          204000,
          202000,
          199900,
          200500,
          206000,
          206000,
          204500,
          206500,
          208500,
          208000,
          205500,
          206500,
          204000,
          205500,
          207000,
          203500,
          203500,
          208500,
          203500,
          201500,
          202000,
          200500,
          200000,
          199200,
          200500,
          198700,
          197800,
          196800,
          196000,
          199400,
          192500,
          191700,
          192200,
          188000,
          188400,
          189400,
          188400,
          190500,
          188800,
          185800,
          184800,
          186100,
          186100,
          187900,
          187500,
          186400,
          186200,
          185400,
          186700,
          187800,
          189100,
          187400,
          187300,
          186600,
          186700,
          187200,
          185700,
          185500,
          186200,
          189800,
          190700,
          192200,
          191000,
          190000,
          194900,
          191900,
          191500,
          192900,
          190700,
          191100,
          190800,
          190500,
          192200,
          188400,
          189400,
          188000,
          187100,
          186800,
          188500,
          191800,
          188900,
          183500,
          185400,
          182800,
          182000,
          179500,
          175600,
          172500,
          169700,
          170300,
          172000,
          173400,
          177900,
          176100,
          174800,
          174700,
          173700,
          173300,
          175200,
          182500,
          184800,
          184400,
          183600,
          184200,
          183000,
          184800,
          184000,
          184900,
          185700,
          184800,
          184300,
          182800,
          181600,
          181400,
          182900,
          182600,
          185100,
          185400,
          185600,
          185000,
          184800,
          192800,
          192000,
          192200,
          199100,
          198700,
          199000,
          198800,
          198500,
          203500
         ]
        },
        {
         "line": {
          "color": "rgba(55, 128, 191, 1.0)",
          "dash": "dash",
          "shape": "linear",
          "width": 3
         },
         "mode": "lines",
         "name": "55.74*x+180534.97",
         "type": "scatter",
         "x": [
          "2023-01-02",
          "2023-01-03",
          "2023-01-04",
          "2023-01-05",
          "2023-01-06",
          "2023-01-09",
          "2023-01-10",
          "2023-01-11",
          "2023-01-12",
          "2023-01-13",
          "2023-01-16",
          "2023-01-17",
          "2023-01-18",
          "2023-01-19",
          "2023-01-20",
          "2023-01-25",
          "2023-01-26",
          "2023-01-27",
          "2023-01-30",
          "2023-01-31",
          "2023-02-01",
          "2023-02-02",
          "2023-02-03",
          "2023-02-06",
          "2023-02-07",
          "2023-02-08",
          "2023-02-09",
          "2023-02-10",
          "2023-02-13",
          "2023-02-14",
          "2023-02-15",
          "2023-02-16",
          "2023-02-17",
          "2023-02-20",
          "2023-02-21",
          "2023-02-22",
          "2023-02-23",
          "2023-02-24",
          "2023-02-27",
          "2023-02-28",
          "2023-03-02",
          "2023-03-03",
          "2023-03-06",
          "2023-03-07",
          "2023-03-08",
          "2023-03-09",
          "2023-03-10",
          "2023-03-13",
          "2023-03-14",
          "2023-03-15",
          "2023-03-16",
          "2023-03-17",
          "2023-03-20",
          "2023-03-21",
          "2023-03-22",
          "2023-03-23",
          "2023-03-24",
          "2023-03-27",
          "2023-03-28",
          "2023-03-29",
          "2023-03-30",
          "2023-03-31",
          "2023-04-03",
          "2023-04-04",
          "2023-04-05",
          "2023-04-06",
          "2023-04-07",
          "2023-04-10",
          "2023-04-11",
          "2023-04-12",
          "2023-04-13",
          "2023-04-14",
          "2023-04-17",
          "2023-04-18",
          "2023-04-19",
          "2023-04-20",
          "2023-04-21",
          "2023-04-24",
          "2023-04-25",
          "2023-04-26",
          "2023-04-27",
          "2023-04-28",
          "2023-05-02",
          "2023-05-03",
          "2023-05-04",
          "2023-05-08",
          "2023-05-09",
          "2023-05-10",
          "2023-05-11",
          "2023-05-12",
          "2023-05-15",
          "2023-05-16",
          "2023-05-17",
          "2023-05-18",
          "2023-05-19",
          "2023-05-22",
          "2023-05-23",
          "2023-05-24",
          "2023-05-25",
          "2023-05-26",
          "2023-05-30",
          "2023-05-31",
          "2023-06-01",
          "2023-06-02",
          "2023-06-05",
          "2023-06-07",
          "2023-06-08",
          "2023-06-09",
          "2023-06-12",
          "2023-06-13",
          "2023-06-14",
          "2023-06-15",
          "2023-06-16",
          "2023-06-19",
          "2023-06-20",
          "2023-06-21",
          "2023-06-22",
          "2023-06-23",
          "2023-06-26",
          "2023-06-27",
          "2023-06-28",
          "2023-06-29",
          "2023-06-30",
          "2023-07-03",
          "2023-07-04",
          "2023-07-05",
          "2023-07-06",
          "2023-07-07",
          "2023-07-10",
          "2023-07-11",
          "2023-07-12",
          "2023-07-13",
          "2023-07-14",
          "2023-07-17",
          "2023-07-18",
          "2023-07-19",
          "2023-07-20",
          "2023-07-21",
          "2023-07-24",
          "2023-07-25",
          "2023-07-26",
          "2023-07-27",
          "2023-07-28",
          "2023-07-31",
          "2023-08-01",
          "2023-08-02",
          "2023-08-03",
          "2023-08-04",
          "2023-08-07",
          "2023-08-08",
          "2023-08-09",
          "2023-08-10",
          "2023-08-11",
          "2023-08-14",
          "2023-08-16",
          "2023-08-17",
          "2023-08-18",
          "2023-08-21",
          "2023-08-22",
          "2023-08-23",
          "2023-08-24",
          "2023-08-25",
          "2023-08-28",
          "2023-08-29",
          "2023-08-30",
          "2023-08-31",
          "2023-09-01",
          "2023-09-04",
          "2023-09-05",
          "2023-09-06",
          "2023-09-07",
          "2023-09-08",
          "2023-09-11",
          "2023-09-12",
          "2023-09-13",
          "2023-09-14",
          "2023-09-15",
          "2023-09-18",
          "2023-09-19",
          "2023-09-20",
          "2023-09-21",
          "2023-09-22",
          "2023-09-25",
          "2023-09-26",
          "2023-09-27",
          "2023-10-04",
          "2023-10-05",
          "2023-10-06",
          "2023-10-10",
          "2023-10-11",
          "2023-10-12",
          "2023-10-13",
          "2023-10-16",
          "2023-10-17",
          "2023-10-18",
          "2023-10-19",
          "2023-10-20",
          "2023-10-23",
          "2023-10-24",
          "2023-10-25",
          "2023-10-26",
          "2023-10-27",
          "2023-10-30",
          "2023-10-31",
          "2023-11-01",
          "2023-11-02",
          "2023-11-03",
          "2023-11-06",
          "2023-11-07",
          "2023-11-08",
          "2023-11-09",
          "2023-11-10",
          "2023-11-13",
          "2023-11-14",
          "2023-11-15",
          "2023-11-16",
          "2023-11-17",
          "2023-11-20",
          "2023-11-21",
          "2023-11-22",
          "2023-11-23",
          "2023-11-24",
          "2023-11-27",
          "2023-11-28",
          "2023-11-29",
          "2023-11-30",
          "2023-12-01",
          "2023-12-04",
          "2023-12-05",
          "2023-12-06",
          "2023-12-07",
          "2023-12-08",
          "2023-12-11",
          "2023-12-12",
          "2023-12-13",
          "2023-12-14",
          "2023-12-15",
          "2023-12-18",
          "2023-12-19",
          "2023-12-20",
          "2023-12-21",
          "2023-12-22",
          "2023-12-26",
          "2023-12-27",
          "2023-12-28"
         ],
         "y": [
          180590.7117969139,
          180646.45203143233,
          180702.19226595078,
          180757.9325004692,
          180813.67273498766,
          180869.41296950608,
          180925.15320402454,
          180980.89343854296,
          181036.6336730614,
          181092.37390757984,
          181148.1141420983,
          181203.8543766167,
          181259.59461113517,
          181315.3348456536,
          181371.07508017204,
          181426.81531469047,
          181482.55554920892,
          181538.29578372734,
          181594.0360182458,
          181649.77625276422,
          181705.51648728267,
          181761.2567218011,
          181816.99695631955,
          181872.73719083797,
          181928.47742535642,
          181984.21765987485,
          182039.9578943933,
          182095.69812891172,
          182151.43836343018,
          182207.1785979486,
          182262.91883246705,
          182318.65906698548,
          182374.39930150393,
          182430.13953602235,
          182485.8797705408,
          182541.62000505923,
          182597.36023957768,
          182653.1004740961,
          182708.84070861456,
          182764.58094313298,
          182820.32117765144,
          182876.06141216986,
          182931.8016466883,
          182987.54188120674,
          183043.2821157252,
          183099.0223502436,
          183154.76258476207,
          183210.5028192805,
          183266.24305379894,
          183321.98328831737,
          183377.72352283582,
          183433.46375735424,
          183489.2039918727,
          183544.94422639112,
          183600.68446090957,
          183656.424695428,
          183712.16492994645,
          183767.90516446487,
          183823.64539898332,
          183879.38563350175,
          183935.1258680202,
          183990.86610253862,
          184046.60633705708,
          184102.3465715755,
          184158.08680609395,
          184213.82704061238,
          184269.56727513083,
          184325.30750964925,
          184381.0477441677,
          184436.78797868613,
          184492.52821320458,
          184548.268447723,
          184604.00868224146,
          184659.74891675988,
          184715.48915127834,
          184771.22938579676,
          184826.9696203152,
          184882.70985483364,
          184938.4500893521,
          184994.1903238705,
          185049.93055838897,
          185105.6707929074,
          185161.41102742584,
          185217.15126194427,
          185272.89149646272,
          185328.63173098114,
          185384.3719654996,
          185440.11220001802,
          185495.85243453647,
          185551.5926690549,
          185607.33290357335,
          185663.07313809177,
          185718.81337261022,
          185774.55360712865,
          185830.2938416471,
          185886.03407616552,
          185941.77431068398,
          185997.5145452024,
          186053.25477972085,
          186108.99501423928,
          186164.73524875773,
          186220.47548327615,
          186276.2157177946,
          186331.95595231303,
          186387.69618683148,
          186443.4364213499,
          186499.17665586836,
          186554.91689038678,
          186610.65712490524,
          186666.39735942366,
          186722.1375939421,
          186777.87782846054,
          186833.618062979,
          186889.3582974974,
          186945.09853201587,
          187000.8387665343,
          187056.57900105274,
          187112.31923557117,
          187168.05947008962,
          187223.79970460804,
          187279.5399391265,
          187335.28017364492,
          187391.02040816337,
          187446.7606426818,
          187502.50087720025,
          187558.24111171867,
          187613.98134623712,
          187669.72158075555,
          187725.461815274,
          187781.20204979242,
          187836.94228431088,
          187892.6825188293,
          187948.42275334775,
          188004.16298786618,
          188059.90322238463,
          188115.64345690305,
          188171.3836914215,
          188227.12392593993,
          188282.86416045838,
          188338.6043949768,
          188394.34462949526,
          188450.08486401368,
          188505.82509853214,
          188561.56533305056,
          188617.305567569,
          188673.04580208744,
          188728.7860366059,
          188784.5262711243,
          188840.26650564276,
          188896.0067401612,
          188951.74697467964,
          189007.48720919807,
          189063.22744371652,
          189118.96767823494,
          189174.7079127534,
          189230.44814727182,
          189286.18838179027,
          189341.9286163087,
          189397.66885082715,
          189453.40908534557,
          189509.14931986402,
          189564.88955438245,
          189620.6297889009,
          189676.37002341932,
          189732.11025793778,
          189787.8504924562,
          189843.59072697465,
          189899.33096149308,
          189955.07119601153,
          190010.81143052995,
          190066.5516650484,
          190122.29189956683,
          190178.03213408528,
          190233.7723686037,
          190289.51260312216,
          190345.25283764058,
          190400.99307215904,
          190456.7333066775,
          190512.4735411959,
          190568.21377571434,
          190623.9540102328,
          190679.69424475124,
          190735.43447926966,
          190791.1747137881,
          190846.91494830654,
          190902.655182825,
          190958.39541734342,
          191014.13565186184,
          191069.8758863803,
          191125.61612089875,
          191181.35635541717,
          191237.0965899356,
          191292.83682445405,
          191348.5770589725,
          191404.31729349092,
          191460.05752800935,
          191515.7977625278,
          191571.53799704625,
          191627.27823156468,
          191683.01846608313,
          191738.75870060155,
          191794.49893512,
          191850.23916963843,
          191905.97940415688,
          191961.7196386753,
          192017.45987319376,
          192073.20010771218,
          192128.94034223063,
          192184.68057674906,
          192240.4208112675,
          192296.16104578594,
          192351.9012803044,
          192407.6415148228,
          192463.38174934126,
          192519.1219838597,
          192574.86221837814,
          192630.60245289656,
          192686.34268741502,
          192742.08292193344,
          192797.8231564519,
          192853.56339097032,
          192909.30362548877,
          192965.0438600072,
          193020.78409452565,
          193076.52432904407,
          193132.26456356252,
          193188.00479808095,
          193243.7450325994,
          193299.48526711782,
          193355.22550163628,
          193410.9657361547,
          193466.70597067315,
          193522.44620519158,
          193578.18643971003,
          193633.92667422845,
          193689.6669087469,
          193745.40714326533,
          193801.14737778378,
          193856.8876123022,
          193912.62784682066,
          193968.36808133908,
          194024.10831585753,
          194079.84855037596,
          194135.5887848944,
          194191.32901941283
         ]
        }
       ],
       "layout": {
        "legend": {
         "bgcolor": "#F5F6F9",
         "font": {
          "color": "#4D5663"
         }
        },
        "paper_bgcolor": "#F5F6F9",
        "plot_bgcolor": "#F5F6F9",
        "template": {
         "data": {
          "bar": [
           {
            "error_x": {
             "color": "#2a3f5f"
            },
            "error_y": {
             "color": "#2a3f5f"
            },
            "marker": {
             "line": {
              "color": "#E5ECF6",
              "width": 0.5
             },
             "pattern": {
              "fillmode": "overlay",
              "size": 10,
              "solidity": 0.2
             }
            },
            "type": "bar"
           }
          ],
          "barpolar": [
           {
            "marker": {
             "line": {
              "color": "#E5ECF6",
              "width": 0.5
             },
             "pattern": {
              "fillmode": "overlay",
              "size": 10,
              "solidity": 0.2
             }
            },
            "type": "barpolar"
           }
          ],
          "carpet": [
           {
            "aaxis": {
             "endlinecolor": "#2a3f5f",
             "gridcolor": "white",
             "linecolor": "white",
             "minorgridcolor": "white",
             "startlinecolor": "#2a3f5f"
            },
            "baxis": {
             "endlinecolor": "#2a3f5f",
             "gridcolor": "white",
             "linecolor": "white",
             "minorgridcolor": "white",
             "startlinecolor": "#2a3f5f"
            },
            "type": "carpet"
           }
          ],
          "choropleth": [
           {
            "colorbar": {
             "outlinewidth": 0,
             "ticks": ""
            },
            "type": "choropleth"
           }
          ],
          "contour": [
           {
            "colorbar": {
             "outlinewidth": 0,
             "ticks": ""
            },
            "colorscale": [
             [
              0,
              "#0d0887"
             ],
             [
              0.1111111111111111,
              "#46039f"
             ],
             [
              0.2222222222222222,
              "#7201a8"
             ],
             [
              0.3333333333333333,
              "#9c179e"
             ],
             [
              0.4444444444444444,
              "#bd3786"
             ],
             [
              0.5555555555555556,
              "#d8576b"
             ],
             [
              0.6666666666666666,
              "#ed7953"
             ],
             [
              0.7777777777777778,
              "#fb9f3a"
             ],
             [
              0.8888888888888888,
              "#fdca26"
             ],
             [
              1,
              "#f0f921"
             ]
            ],
            "type": "contour"
           }
          ],
          "contourcarpet": [
           {
            "colorbar": {
             "outlinewidth": 0,
             "ticks": ""
            },
            "type": "contourcarpet"
           }
          ],
          "heatmap": [
           {
            "colorbar": {
             "outlinewidth": 0,
             "ticks": ""
            },
            "colorscale": [
             [
              0,
              "#0d0887"
             ],
             [
              0.1111111111111111,
              "#46039f"
             ],
             [
              0.2222222222222222,
              "#7201a8"
             ],
             [
              0.3333333333333333,
              "#9c179e"
             ],
             [
              0.4444444444444444,
              "#bd3786"
             ],
             [
              0.5555555555555556,
              "#d8576b"
             ],
             [
              0.6666666666666666,
              "#ed7953"
             ],
             [
              0.7777777777777778,
              "#fb9f3a"
             ],
             [
              0.8888888888888888,
              "#fdca26"
             ],
             [
              1,
              "#f0f921"
             ]
            ],
            "type": "heatmap"
           }
          ],
          "heatmapgl": [
           {
            "colorbar": {
             "outlinewidth": 0,
             "ticks": ""
            },
            "colorscale": [
             [
              0,
              "#0d0887"
             ],
             [
              0.1111111111111111,
              "#46039f"
             ],
             [
              0.2222222222222222,
              "#7201a8"
             ],
             [
              0.3333333333333333,
              "#9c179e"
             ],
             [
              0.4444444444444444,
              "#bd3786"
             ],
             [
              0.5555555555555556,
              "#d8576b"
             ],
             [
              0.6666666666666666,
              "#ed7953"
             ],
             [
              0.7777777777777778,
              "#fb9f3a"
             ],
             [
              0.8888888888888888,
              "#fdca26"
             ],
             [
              1,
              "#f0f921"
             ]
            ],
            "type": "heatmapgl"
           }
          ],
          "histogram": [
           {
            "marker": {
             "pattern": {
              "fillmode": "overlay",
              "size": 10,
              "solidity": 0.2
             }
            },
            "type": "histogram"
           }
          ],
          "histogram2d": [
           {
            "colorbar": {
             "outlinewidth": 0,
             "ticks": ""
            },
            "colorscale": [
             [
              0,
              "#0d0887"
             ],
             [
              0.1111111111111111,
              "#46039f"
             ],
             [
              0.2222222222222222,
              "#7201a8"
             ],
             [
              0.3333333333333333,
              "#9c179e"
             ],
             [
              0.4444444444444444,
              "#bd3786"
             ],
             [
              0.5555555555555556,
              "#d8576b"
             ],
             [
              0.6666666666666666,
              "#ed7953"
             ],
             [
              0.7777777777777778,
              "#fb9f3a"
             ],
             [
              0.8888888888888888,
              "#fdca26"
             ],
             [
              1,
              "#f0f921"
             ]
            ],
            "type": "histogram2d"
           }
          ],
          "histogram2dcontour": [
           {
            "colorbar": {
             "outlinewidth": 0,
             "ticks": ""
            },
            "colorscale": [
             [
              0,
              "#0d0887"
             ],
             [
              0.1111111111111111,
              "#46039f"
             ],
             [
              0.2222222222222222,
              "#7201a8"
             ],
             [
              0.3333333333333333,
              "#9c179e"
             ],
             [
              0.4444444444444444,
              "#bd3786"
             ],
             [
              0.5555555555555556,
              "#d8576b"
             ],
             [
              0.6666666666666666,
              "#ed7953"
             ],
             [
              0.7777777777777778,
              "#fb9f3a"
             ],
             [
              0.8888888888888888,
              "#fdca26"
             ],
             [
              1,
              "#f0f921"
             ]
            ],
            "type": "histogram2dcontour"
           }
          ],
          "mesh3d": [
           {
            "colorbar": {
             "outlinewidth": 0,
             "ticks": ""
            },
            "type": "mesh3d"
           }
          ],
          "parcoords": [
           {
            "line": {
             "colorbar": {
              "outlinewidth": 0,
              "ticks": ""
             }
            },
            "type": "parcoords"
           }
          ],
          "pie": [
           {
            "automargin": true,
            "type": "pie"
           }
          ],
          "scatter": [
           {
            "fillpattern": {
             "fillmode": "overlay",
             "size": 10,
             "solidity": 0.2
            },
            "type": "scatter"
           }
          ],
          "scatter3d": [
           {
            "line": {
             "colorbar": {
              "outlinewidth": 0,
              "ticks": ""
             }
            },
            "marker": {
             "colorbar": {
              "outlinewidth": 0,
              "ticks": ""
             }
            },
            "type": "scatter3d"
           }
          ],
          "scattercarpet": [
           {
            "marker": {
             "colorbar": {
              "outlinewidth": 0,
              "ticks": ""
             }
            },
            "type": "scattercarpet"
           }
          ],
          "scattergeo": [
           {
            "marker": {
             "colorbar": {
              "outlinewidth": 0,
              "ticks": ""
             }
            },
            "type": "scattergeo"
           }
          ],
          "scattergl": [
           {
            "marker": {
             "colorbar": {
              "outlinewidth": 0,
              "ticks": ""
             }
            },
            "type": "scattergl"
           }
          ],
          "scattermapbox": [
           {
            "marker": {
             "colorbar": {
              "outlinewidth": 0,
              "ticks": ""
             }
            },
            "type": "scattermapbox"
           }
          ],
          "scatterpolar": [
           {
            "marker": {
             "colorbar": {
              "outlinewidth": 0,
              "ticks": ""
             }
            },
            "type": "scatterpolar"
           }
          ],
          "scatterpolargl": [
           {
            "marker": {
             "colorbar": {
              "outlinewidth": 0,
              "ticks": ""
             }
            },
            "type": "scatterpolargl"
           }
          ],
          "scatterternary": [
           {
            "marker": {
             "colorbar": {
              "outlinewidth": 0,
              "ticks": ""
             }
            },
            "type": "scatterternary"
           }
          ],
          "surface": [
           {
            "colorbar": {
             "outlinewidth": 0,
             "ticks": ""
            },
            "colorscale": [
             [
              0,
              "#0d0887"
             ],
             [
              0.1111111111111111,
              "#46039f"
             ],
             [
              0.2222222222222222,
              "#7201a8"
             ],
             [
              0.3333333333333333,
              "#9c179e"
             ],
             [
              0.4444444444444444,
              "#bd3786"
             ],
             [
              0.5555555555555556,
              "#d8576b"
             ],
             [
              0.6666666666666666,
              "#ed7953"
             ],
             [
              0.7777777777777778,
              "#fb9f3a"
             ],
             [
              0.8888888888888888,
              "#fdca26"
             ],
             [
              1,
              "#f0f921"
             ]
            ],
            "type": "surface"
           }
          ],
          "table": [
           {
            "cells": {
             "fill": {
              "color": "#EBF0F8"
             },
             "line": {
              "color": "white"
             }
            },
            "header": {
             "fill": {
              "color": "#C8D4E3"
             },
             "line": {
              "color": "white"
             }
            },
            "type": "table"
           }
          ]
         },
         "layout": {
          "annotationdefaults": {
           "arrowcolor": "#2a3f5f",
           "arrowhead": 0,
           "arrowwidth": 1
          },
          "autotypenumbers": "strict",
          "coloraxis": {
           "colorbar": {
            "outlinewidth": 0,
            "ticks": ""
           }
          },
          "colorscale": {
           "diverging": [
            [
             0,
             "#8e0152"
            ],
            [
             0.1,
             "#c51b7d"
            ],
            [
             0.2,
             "#de77ae"
            ],
            [
             0.3,
             "#f1b6da"
            ],
            [
             0.4,
             "#fde0ef"
            ],
            [
             0.5,
             "#f7f7f7"
            ],
            [
             0.6,
             "#e6f5d0"
            ],
            [
             0.7,
             "#b8e186"
            ],
            [
             0.8,
             "#7fbc41"
            ],
            [
             0.9,
             "#4d9221"
            ],
            [
             1,
             "#276419"
            ]
           ],
           "sequential": [
            [
             0,
             "#0d0887"
            ],
            [
             0.1111111111111111,
             "#46039f"
            ],
            [
             0.2222222222222222,
             "#7201a8"
            ],
            [
             0.3333333333333333,
             "#9c179e"
            ],
            [
             0.4444444444444444,
             "#bd3786"
            ],
            [
             0.5555555555555556,
             "#d8576b"
            ],
            [
             0.6666666666666666,
             "#ed7953"
            ],
            [
             0.7777777777777778,
             "#fb9f3a"
            ],
            [
             0.8888888888888888,
             "#fdca26"
            ],
            [
             1,
             "#f0f921"
            ]
           ],
           "sequentialminus": [
            [
             0,
             "#0d0887"
            ],
            [
             0.1111111111111111,
             "#46039f"
            ],
            [
             0.2222222222222222,
             "#7201a8"
            ],
            [
             0.3333333333333333,
             "#9c179e"
            ],
            [
             0.4444444444444444,
             "#bd3786"
            ],
            [
             0.5555555555555556,
             "#d8576b"
            ],
            [
             0.6666666666666666,
             "#ed7953"
            ],
            [
             0.7777777777777778,
             "#fb9f3a"
            ],
            [
             0.8888888888888888,
             "#fdca26"
            ],
            [
             1,
             "#f0f921"
            ]
           ]
          },
          "colorway": [
           "#636efa",
           "#EF553B",
           "#00cc96",
           "#ab63fa",
           "#FFA15A",
           "#19d3f3",
           "#FF6692",
           "#B6E880",
           "#FF97FF",
           "#FECB52"
          ],
          "font": {
           "color": "#2a3f5f"
          },
          "geo": {
           "bgcolor": "white",
           "lakecolor": "white",
           "landcolor": "#E5ECF6",
           "showlakes": true,
           "showland": true,
           "subunitcolor": "white"
          },
          "hoverlabel": {
           "align": "left"
          },
          "hovermode": "closest",
          "mapbox": {
           "style": "light"
          },
          "paper_bgcolor": "white",
          "plot_bgcolor": "#E5ECF6",
          "polar": {
           "angularaxis": {
            "gridcolor": "white",
            "linecolor": "white",
            "ticks": ""
           },
           "bgcolor": "#E5ECF6",
           "radialaxis": {
            "gridcolor": "white",
            "linecolor": "white",
            "ticks": ""
           }
          },
          "scene": {
           "xaxis": {
            "backgroundcolor": "#E5ECF6",
            "gridcolor": "white",
            "gridwidth": 2,
            "linecolor": "white",
            "showbackground": true,
            "ticks": "",
            "zerolinecolor": "white"
           },
           "yaxis": {
            "backgroundcolor": "#E5ECF6",
            "gridcolor": "white",
            "gridwidth": 2,
            "linecolor": "white",
            "showbackground": true,
            "ticks": "",
            "zerolinecolor": "white"
           },
           "zaxis": {
            "backgroundcolor": "#E5ECF6",
            "gridcolor": "white",
            "gridwidth": 2,
            "linecolor": "white",
            "showbackground": true,
            "ticks": "",
            "zerolinecolor": "white"
           }
          },
          "shapedefaults": {
           "line": {
            "color": "#2a3f5f"
           }
          },
          "ternary": {
           "aaxis": {
            "gridcolor": "white",
            "linecolor": "white",
            "ticks": ""
           },
           "baxis": {
            "gridcolor": "white",
            "linecolor": "white",
            "ticks": ""
           },
           "bgcolor": "#E5ECF6",
           "caxis": {
            "gridcolor": "white",
            "linecolor": "white",
            "ticks": ""
           }
          },
          "title": {
           "x": 0.05
          },
          "xaxis": {
           "automargin": true,
           "gridcolor": "white",
           "linecolor": "white",
           "ticks": "",
           "title": {
            "standoff": 15
           },
           "zerolinecolor": "white",
           "zerolinewidth": 2
          },
          "yaxis": {
           "automargin": true,
           "gridcolor": "white",
           "linecolor": "white",
           "ticks": "",
           "title": {
            "standoff": 15
           },
           "zerolinecolor": "white",
           "zerolinewidth": 2
          }
         }
        },
        "title": {
         "font": {
          "color": "#4D5663"
         },
         "text": "현대자동차 최적경향선"
        },
        "xaxis": {
         "gridcolor": "#E1E5ED",
         "showgrid": true,
         "tickfont": {
          "color": "#4D5663"
         },
         "title": {
          "font": {
           "color": "#4D5663"
          },
          "text": ""
         },
         "zerolinecolor": "#E1E5ED"
        },
        "yaxis": {
         "gridcolor": "#E1E5ED",
         "showgrid": true,
         "tickfont": {
          "color": "#4D5663"
         },
         "title": {
          "font": {
           "color": "#4D5663"
          },
          "text": ""
         },
         "zerolinecolor": "#E1E5ED"
        }
       }
      },
      "text/html": [
       "<div>                            <div id=\"de6dc749-361a-4701-aca0-f6d799b40f43\" class=\"plotly-graph-div\" style=\"height:525px; width:100%;\"></div>            <script type=\"text/javascript\">                require([\"plotly\"], function(Plotly) {                    window.PLOTLYENV=window.PLOTLYENV || {};\n",
       "                    window.PLOTLYENV.BASE_URL='https://plot.ly';                                    if (document.getElementById(\"de6dc749-361a-4701-aca0-f6d799b40f43\")) {                    Plotly.newPlot(                        \"de6dc749-361a-4701-aca0-f6d799b40f43\",                        [{\"line\":{\"color\":\"rgba(255, 153, 51, 1.0)\",\"dash\":\"solid\",\"shape\":\"linear\",\"width\":1.3},\"mode\":\"lines\",\"name\":\"Close\",\"text\":\"\",\"x\":[\"2023-01-02\",\"2023-01-03\",\"2023-01-04\",\"2023-01-05\",\"2023-01-06\",\"2023-01-09\",\"2023-01-10\",\"2023-01-11\",\"2023-01-12\",\"2023-01-13\",\"2023-01-16\",\"2023-01-17\",\"2023-01-18\",\"2023-01-19\",\"2023-01-20\",\"2023-01-25\",\"2023-01-26\",\"2023-01-27\",\"2023-01-30\",\"2023-01-31\",\"2023-02-01\",\"2023-02-02\",\"2023-02-03\",\"2023-02-06\",\"2023-02-07\",\"2023-02-08\",\"2023-02-09\",\"2023-02-10\",\"2023-02-13\",\"2023-02-14\",\"2023-02-15\",\"2023-02-16\",\"2023-02-17\",\"2023-02-20\",\"2023-02-21\",\"2023-02-22\",\"2023-02-23\",\"2023-02-24\",\"2023-02-27\",\"2023-02-28\",\"2023-03-02\",\"2023-03-03\",\"2023-03-06\",\"2023-03-07\",\"2023-03-08\",\"2023-03-09\",\"2023-03-10\",\"2023-03-13\",\"2023-03-14\",\"2023-03-15\",\"2023-03-16\",\"2023-03-17\",\"2023-03-20\",\"2023-03-21\",\"2023-03-22\",\"2023-03-23\",\"2023-03-24\",\"2023-03-27\",\"2023-03-28\",\"2023-03-29\",\"2023-03-30\",\"2023-03-31\",\"2023-04-03\",\"2023-04-04\",\"2023-04-05\",\"2023-04-06\",\"2023-04-07\",\"2023-04-10\",\"2023-04-11\",\"2023-04-12\",\"2023-04-13\",\"2023-04-14\",\"2023-04-17\",\"2023-04-18\",\"2023-04-19\",\"2023-04-20\",\"2023-04-21\",\"2023-04-24\",\"2023-04-25\",\"2023-04-26\",\"2023-04-27\",\"2023-04-28\",\"2023-05-02\",\"2023-05-03\",\"2023-05-04\",\"2023-05-08\",\"2023-05-09\",\"2023-05-10\",\"2023-05-11\",\"2023-05-12\",\"2023-05-15\",\"2023-05-16\",\"2023-05-17\",\"2023-05-18\",\"2023-05-19\",\"2023-05-22\",\"2023-05-23\",\"2023-05-24\",\"2023-05-25\",\"2023-05-26\",\"2023-05-30\",\"2023-05-31\",\"2023-06-01\",\"2023-06-02\",\"2023-06-05\",\"2023-06-07\",\"2023-06-08\",\"2023-06-09\",\"2023-06-12\",\"2023-06-13\",\"2023-06-14\",\"2023-06-15\",\"2023-06-16\",\"2023-06-19\",\"2023-06-20\",\"2023-06-21\",\"2023-06-22\",\"2023-06-23\",\"2023-06-26\",\"2023-06-27\",\"2023-06-28\",\"2023-06-29\",\"2023-06-30\",\"2023-07-03\",\"2023-07-04\",\"2023-07-05\",\"2023-07-06\",\"2023-07-07\",\"2023-07-10\",\"2023-07-11\",\"2023-07-12\",\"2023-07-13\",\"2023-07-14\",\"2023-07-17\",\"2023-07-18\",\"2023-07-19\",\"2023-07-20\",\"2023-07-21\",\"2023-07-24\",\"2023-07-25\",\"2023-07-26\",\"2023-07-27\",\"2023-07-28\",\"2023-07-31\",\"2023-08-01\",\"2023-08-02\",\"2023-08-03\",\"2023-08-04\",\"2023-08-07\",\"2023-08-08\",\"2023-08-09\",\"2023-08-10\",\"2023-08-11\",\"2023-08-14\",\"2023-08-16\",\"2023-08-17\",\"2023-08-18\",\"2023-08-21\",\"2023-08-22\",\"2023-08-23\",\"2023-08-24\",\"2023-08-25\",\"2023-08-28\",\"2023-08-29\",\"2023-08-30\",\"2023-08-31\",\"2023-09-01\",\"2023-09-04\",\"2023-09-05\",\"2023-09-06\",\"2023-09-07\",\"2023-09-08\",\"2023-09-11\",\"2023-09-12\",\"2023-09-13\",\"2023-09-14\",\"2023-09-15\",\"2023-09-18\",\"2023-09-19\",\"2023-09-20\",\"2023-09-21\",\"2023-09-22\",\"2023-09-25\",\"2023-09-26\",\"2023-09-27\",\"2023-10-04\",\"2023-10-05\",\"2023-10-06\",\"2023-10-10\",\"2023-10-11\",\"2023-10-12\",\"2023-10-13\",\"2023-10-16\",\"2023-10-17\",\"2023-10-18\",\"2023-10-19\",\"2023-10-20\",\"2023-10-23\",\"2023-10-24\",\"2023-10-25\",\"2023-10-26\",\"2023-10-27\",\"2023-10-30\",\"2023-10-31\",\"2023-11-01\",\"2023-11-02\",\"2023-11-03\",\"2023-11-06\",\"2023-11-07\",\"2023-11-08\",\"2023-11-09\",\"2023-11-10\",\"2023-11-13\",\"2023-11-14\",\"2023-11-15\",\"2023-11-16\",\"2023-11-17\",\"2023-11-20\",\"2023-11-21\",\"2023-11-22\",\"2023-11-23\",\"2023-11-24\",\"2023-11-27\",\"2023-11-28\",\"2023-11-29\",\"2023-11-30\",\"2023-12-01\",\"2023-12-04\",\"2023-12-05\",\"2023-12-06\",\"2023-12-07\",\"2023-12-08\",\"2023-12-11\",\"2023-12-12\",\"2023-12-13\",\"2023-12-14\",\"2023-12-15\",\"2023-12-18\",\"2023-12-19\",\"2023-12-20\",\"2023-12-21\",\"2023-12-22\",\"2023-12-26\",\"2023-12-27\",\"2023-12-28\"],\"y\":[157000,159000,160500,159000,159500,164000,163000,164000,166500,169000,166500,166000,164500,164000,164500,165700,174900,173900,170000,167000,170000,169900,172800,170700,170500,172700,172600,173400,171600,173700,172700,179300,179000,178200,178200,174200,176200,173900,173300,176300,178500,176100,177500,175100,174900,176300,175000,176000,171000,174300,174000,176600,175100,175800,180300,180500,177700,176100,177100,180400,181200,184500,183600,183800,186700,185100,185100,185900,192100,198200,198900,196100,195000,191400,193600,192500,190400,191900,201000,201500,202000,197500,201500,201000,199200,202500,205000,210000,208000,208500,208000,202500,204500,206500,205500,207500,207500,207500,203500,205500,200500,200000,197500,199500,201000,196400,196700,197100,196200,198000,201000,199700,199400,199300,197900,204000,202000,199900,200500,206000,206000,204500,206500,208500,208000,205500,206500,204000,205500,207000,203500,203500,208500,203500,201500,202000,200500,200000,199200,200500,198700,197800,196800,196000,199400,192500,191700,192200,188000,188400,189400,188400,190500,188800,185800,184800,186100,186100,187900,187500,186400,186200,185400,186700,187800,189100,187400,187300,186600,186700,187200,185700,185500,186200,189800,190700,192200,191000,190000,194900,191900,191500,192900,190700,191100,190800,190500,192200,188400,189400,188000,187100,186800,188500,191800,188900,183500,185400,182800,182000,179500,175600,172500,169700,170300,172000,173400,177900,176100,174800,174700,173700,173300,175200,182500,184800,184400,183600,184200,183000,184800,184000,184900,185700,184800,184300,182800,181600,181400,182900,182600,185100,185400,185600,185000,184800,192800,192000,192200,199100,198700,199000,198800,198500,203500],\"type\":\"scatter\"},{\"line\":{\"color\":\"rgba(55, 128, 191, 1.0)\",\"dash\":\"dash\",\"shape\":\"linear\",\"width\":3},\"mode\":\"lines\",\"name\":\"55.74*x+180534.97\",\"x\":[\"2023-01-02\",\"2023-01-03\",\"2023-01-04\",\"2023-01-05\",\"2023-01-06\",\"2023-01-09\",\"2023-01-10\",\"2023-01-11\",\"2023-01-12\",\"2023-01-13\",\"2023-01-16\",\"2023-01-17\",\"2023-01-18\",\"2023-01-19\",\"2023-01-20\",\"2023-01-25\",\"2023-01-26\",\"2023-01-27\",\"2023-01-30\",\"2023-01-31\",\"2023-02-01\",\"2023-02-02\",\"2023-02-03\",\"2023-02-06\",\"2023-02-07\",\"2023-02-08\",\"2023-02-09\",\"2023-02-10\",\"2023-02-13\",\"2023-02-14\",\"2023-02-15\",\"2023-02-16\",\"2023-02-17\",\"2023-02-20\",\"2023-02-21\",\"2023-02-22\",\"2023-02-23\",\"2023-02-24\",\"2023-02-27\",\"2023-02-28\",\"2023-03-02\",\"2023-03-03\",\"2023-03-06\",\"2023-03-07\",\"2023-03-08\",\"2023-03-09\",\"2023-03-10\",\"2023-03-13\",\"2023-03-14\",\"2023-03-15\",\"2023-03-16\",\"2023-03-17\",\"2023-03-20\",\"2023-03-21\",\"2023-03-22\",\"2023-03-23\",\"2023-03-24\",\"2023-03-27\",\"2023-03-28\",\"2023-03-29\",\"2023-03-30\",\"2023-03-31\",\"2023-04-03\",\"2023-04-04\",\"2023-04-05\",\"2023-04-06\",\"2023-04-07\",\"2023-04-10\",\"2023-04-11\",\"2023-04-12\",\"2023-04-13\",\"2023-04-14\",\"2023-04-17\",\"2023-04-18\",\"2023-04-19\",\"2023-04-20\",\"2023-04-21\",\"2023-04-24\",\"2023-04-25\",\"2023-04-26\",\"2023-04-27\",\"2023-04-28\",\"2023-05-02\",\"2023-05-03\",\"2023-05-04\",\"2023-05-08\",\"2023-05-09\",\"2023-05-10\",\"2023-05-11\",\"2023-05-12\",\"2023-05-15\",\"2023-05-16\",\"2023-05-17\",\"2023-05-18\",\"2023-05-19\",\"2023-05-22\",\"2023-05-23\",\"2023-05-24\",\"2023-05-25\",\"2023-05-26\",\"2023-05-30\",\"2023-05-31\",\"2023-06-01\",\"2023-06-02\",\"2023-06-05\",\"2023-06-07\",\"2023-06-08\",\"2023-06-09\",\"2023-06-12\",\"2023-06-13\",\"2023-06-14\",\"2023-06-15\",\"2023-06-16\",\"2023-06-19\",\"2023-06-20\",\"2023-06-21\",\"2023-06-22\",\"2023-06-23\",\"2023-06-26\",\"2023-06-27\",\"2023-06-28\",\"2023-06-29\",\"2023-06-30\",\"2023-07-03\",\"2023-07-04\",\"2023-07-05\",\"2023-07-06\",\"2023-07-07\",\"2023-07-10\",\"2023-07-11\",\"2023-07-12\",\"2023-07-13\",\"2023-07-14\",\"2023-07-17\",\"2023-07-18\",\"2023-07-19\",\"2023-07-20\",\"2023-07-21\",\"2023-07-24\",\"2023-07-25\",\"2023-07-26\",\"2023-07-27\",\"2023-07-28\",\"2023-07-31\",\"2023-08-01\",\"2023-08-02\",\"2023-08-03\",\"2023-08-04\",\"2023-08-07\",\"2023-08-08\",\"2023-08-09\",\"2023-08-10\",\"2023-08-11\",\"2023-08-14\",\"2023-08-16\",\"2023-08-17\",\"2023-08-18\",\"2023-08-21\",\"2023-08-22\",\"2023-08-23\",\"2023-08-24\",\"2023-08-25\",\"2023-08-28\",\"2023-08-29\",\"2023-08-30\",\"2023-08-31\",\"2023-09-01\",\"2023-09-04\",\"2023-09-05\",\"2023-09-06\",\"2023-09-07\",\"2023-09-08\",\"2023-09-11\",\"2023-09-12\",\"2023-09-13\",\"2023-09-14\",\"2023-09-15\",\"2023-09-18\",\"2023-09-19\",\"2023-09-20\",\"2023-09-21\",\"2023-09-22\",\"2023-09-25\",\"2023-09-26\",\"2023-09-27\",\"2023-10-04\",\"2023-10-05\",\"2023-10-06\",\"2023-10-10\",\"2023-10-11\",\"2023-10-12\",\"2023-10-13\",\"2023-10-16\",\"2023-10-17\",\"2023-10-18\",\"2023-10-19\",\"2023-10-20\",\"2023-10-23\",\"2023-10-24\",\"2023-10-25\",\"2023-10-26\",\"2023-10-27\",\"2023-10-30\",\"2023-10-31\",\"2023-11-01\",\"2023-11-02\",\"2023-11-03\",\"2023-11-06\",\"2023-11-07\",\"2023-11-08\",\"2023-11-09\",\"2023-11-10\",\"2023-11-13\",\"2023-11-14\",\"2023-11-15\",\"2023-11-16\",\"2023-11-17\",\"2023-11-20\",\"2023-11-21\",\"2023-11-22\",\"2023-11-23\",\"2023-11-24\",\"2023-11-27\",\"2023-11-28\",\"2023-11-29\",\"2023-11-30\",\"2023-12-01\",\"2023-12-04\",\"2023-12-05\",\"2023-12-06\",\"2023-12-07\",\"2023-12-08\",\"2023-12-11\",\"2023-12-12\",\"2023-12-13\",\"2023-12-14\",\"2023-12-15\",\"2023-12-18\",\"2023-12-19\",\"2023-12-20\",\"2023-12-21\",\"2023-12-22\",\"2023-12-26\",\"2023-12-27\",\"2023-12-28\"],\"y\":[180590.7117969139,180646.45203143233,180702.19226595078,180757.9325004692,180813.67273498766,180869.41296950608,180925.15320402454,180980.89343854296,181036.6336730614,181092.37390757984,181148.1141420983,181203.8543766167,181259.59461113517,181315.3348456536,181371.07508017204,181426.81531469047,181482.55554920892,181538.29578372734,181594.0360182458,181649.77625276422,181705.51648728267,181761.2567218011,181816.99695631955,181872.73719083797,181928.47742535642,181984.21765987485,182039.9578943933,182095.69812891172,182151.43836343018,182207.1785979486,182262.91883246705,182318.65906698548,182374.39930150393,182430.13953602235,182485.8797705408,182541.62000505923,182597.36023957768,182653.1004740961,182708.84070861456,182764.58094313298,182820.32117765144,182876.06141216986,182931.8016466883,182987.54188120674,183043.2821157252,183099.0223502436,183154.76258476207,183210.5028192805,183266.24305379894,183321.98328831737,183377.72352283582,183433.46375735424,183489.2039918727,183544.94422639112,183600.68446090957,183656.424695428,183712.16492994645,183767.90516446487,183823.64539898332,183879.38563350175,183935.1258680202,183990.86610253862,184046.60633705708,184102.3465715755,184158.08680609395,184213.82704061238,184269.56727513083,184325.30750964925,184381.0477441677,184436.78797868613,184492.52821320458,184548.268447723,184604.00868224146,184659.74891675988,184715.48915127834,184771.22938579676,184826.9696203152,184882.70985483364,184938.4500893521,184994.1903238705,185049.93055838897,185105.6707929074,185161.41102742584,185217.15126194427,185272.89149646272,185328.63173098114,185384.3719654996,185440.11220001802,185495.85243453647,185551.5926690549,185607.33290357335,185663.07313809177,185718.81337261022,185774.55360712865,185830.2938416471,185886.03407616552,185941.77431068398,185997.5145452024,186053.25477972085,186108.99501423928,186164.73524875773,186220.47548327615,186276.2157177946,186331.95595231303,186387.69618683148,186443.4364213499,186499.17665586836,186554.91689038678,186610.65712490524,186666.39735942366,186722.1375939421,186777.87782846054,186833.618062979,186889.3582974974,186945.09853201587,187000.8387665343,187056.57900105274,187112.31923557117,187168.05947008962,187223.79970460804,187279.5399391265,187335.28017364492,187391.02040816337,187446.7606426818,187502.50087720025,187558.24111171867,187613.98134623712,187669.72158075555,187725.461815274,187781.20204979242,187836.94228431088,187892.6825188293,187948.42275334775,188004.16298786618,188059.90322238463,188115.64345690305,188171.3836914215,188227.12392593993,188282.86416045838,188338.6043949768,188394.34462949526,188450.08486401368,188505.82509853214,188561.56533305056,188617.305567569,188673.04580208744,188728.7860366059,188784.5262711243,188840.26650564276,188896.0067401612,188951.74697467964,189007.48720919807,189063.22744371652,189118.96767823494,189174.7079127534,189230.44814727182,189286.18838179027,189341.9286163087,189397.66885082715,189453.40908534557,189509.14931986402,189564.88955438245,189620.6297889009,189676.37002341932,189732.11025793778,189787.8504924562,189843.59072697465,189899.33096149308,189955.07119601153,190010.81143052995,190066.5516650484,190122.29189956683,190178.03213408528,190233.7723686037,190289.51260312216,190345.25283764058,190400.99307215904,190456.7333066775,190512.4735411959,190568.21377571434,190623.9540102328,190679.69424475124,190735.43447926966,190791.1747137881,190846.91494830654,190902.655182825,190958.39541734342,191014.13565186184,191069.8758863803,191125.61612089875,191181.35635541717,191237.0965899356,191292.83682445405,191348.5770589725,191404.31729349092,191460.05752800935,191515.7977625278,191571.53799704625,191627.27823156468,191683.01846608313,191738.75870060155,191794.49893512,191850.23916963843,191905.97940415688,191961.7196386753,192017.45987319376,192073.20010771218,192128.94034223063,192184.68057674906,192240.4208112675,192296.16104578594,192351.9012803044,192407.6415148228,192463.38174934126,192519.1219838597,192574.86221837814,192630.60245289656,192686.34268741502,192742.08292193344,192797.8231564519,192853.56339097032,192909.30362548877,192965.0438600072,193020.78409452565,193076.52432904407,193132.26456356252,193188.00479808095,193243.7450325994,193299.48526711782,193355.22550163628,193410.9657361547,193466.70597067315,193522.44620519158,193578.18643971003,193633.92667422845,193689.6669087469,193745.40714326533,193801.14737778378,193856.8876123022,193912.62784682066,193968.36808133908,194024.10831585753,194079.84855037596,194135.5887848944,194191.32901941283],\"type\":\"scatter\"}],                        {\"legend\":{\"bgcolor\":\"#F5F6F9\",\"font\":{\"color\":\"#4D5663\"}},\"paper_bgcolor\":\"#F5F6F9\",\"plot_bgcolor\":\"#F5F6F9\",\"template\":{\"data\":{\"barpolar\":[{\"marker\":{\"line\":{\"color\":\"#E5ECF6\",\"width\":0.5},\"pattern\":{\"fillmode\":\"overlay\",\"size\":10,\"solidity\":0.2}},\"type\":\"barpolar\"}],\"bar\":[{\"error_x\":{\"color\":\"#2a3f5f\"},\"error_y\":{\"color\":\"#2a3f5f\"},\"marker\":{\"line\":{\"color\":\"#E5ECF6\",\"width\":0.5},\"pattern\":{\"fillmode\":\"overlay\",\"size\":10,\"solidity\":0.2}},\"type\":\"bar\"}],\"carpet\":[{\"aaxis\":{\"endlinecolor\":\"#2a3f5f\",\"gridcolor\":\"white\",\"linecolor\":\"white\",\"minorgridcolor\":\"white\",\"startlinecolor\":\"#2a3f5f\"},\"baxis\":{\"endlinecolor\":\"#2a3f5f\",\"gridcolor\":\"white\",\"linecolor\":\"white\",\"minorgridcolor\":\"white\",\"startlinecolor\":\"#2a3f5f\"},\"type\":\"carpet\"}],\"choropleth\":[{\"colorbar\":{\"outlinewidth\":0,\"ticks\":\"\"},\"type\":\"choropleth\"}],\"contourcarpet\":[{\"colorbar\":{\"outlinewidth\":0,\"ticks\":\"\"},\"type\":\"contourcarpet\"}],\"contour\":[{\"colorbar\":{\"outlinewidth\":0,\"ticks\":\"\"},\"colorscale\":[[0.0,\"#0d0887\"],[0.1111111111111111,\"#46039f\"],[0.2222222222222222,\"#7201a8\"],[0.3333333333333333,\"#9c179e\"],[0.4444444444444444,\"#bd3786\"],[0.5555555555555556,\"#d8576b\"],[0.6666666666666666,\"#ed7953\"],[0.7777777777777778,\"#fb9f3a\"],[0.8888888888888888,\"#fdca26\"],[1.0,\"#f0f921\"]],\"type\":\"contour\"}],\"heatmapgl\":[{\"colorbar\":{\"outlinewidth\":0,\"ticks\":\"\"},\"colorscale\":[[0.0,\"#0d0887\"],[0.1111111111111111,\"#46039f\"],[0.2222222222222222,\"#7201a8\"],[0.3333333333333333,\"#9c179e\"],[0.4444444444444444,\"#bd3786\"],[0.5555555555555556,\"#d8576b\"],[0.6666666666666666,\"#ed7953\"],[0.7777777777777778,\"#fb9f3a\"],[0.8888888888888888,\"#fdca26\"],[1.0,\"#f0f921\"]],\"type\":\"heatmapgl\"}],\"heatmap\":[{\"colorbar\":{\"outlinewidth\":0,\"ticks\":\"\"},\"colorscale\":[[0.0,\"#0d0887\"],[0.1111111111111111,\"#46039f\"],[0.2222222222222222,\"#7201a8\"],[0.3333333333333333,\"#9c179e\"],[0.4444444444444444,\"#bd3786\"],[0.5555555555555556,\"#d8576b\"],[0.6666666666666666,\"#ed7953\"],[0.7777777777777778,\"#fb9f3a\"],[0.8888888888888888,\"#fdca26\"],[1.0,\"#f0f921\"]],\"type\":\"heatmap\"}],\"histogram2dcontour\":[{\"colorbar\":{\"outlinewidth\":0,\"ticks\":\"\"},\"colorscale\":[[0.0,\"#0d0887\"],[0.1111111111111111,\"#46039f\"],[0.2222222222222222,\"#7201a8\"],[0.3333333333333333,\"#9c179e\"],[0.4444444444444444,\"#bd3786\"],[0.5555555555555556,\"#d8576b\"],[0.6666666666666666,\"#ed7953\"],[0.7777777777777778,\"#fb9f3a\"],[0.8888888888888888,\"#fdca26\"],[1.0,\"#f0f921\"]],\"type\":\"histogram2dcontour\"}],\"histogram2d\":[{\"colorbar\":{\"outlinewidth\":0,\"ticks\":\"\"},\"colorscale\":[[0.0,\"#0d0887\"],[0.1111111111111111,\"#46039f\"],[0.2222222222222222,\"#7201a8\"],[0.3333333333333333,\"#9c179e\"],[0.4444444444444444,\"#bd3786\"],[0.5555555555555556,\"#d8576b\"],[0.6666666666666666,\"#ed7953\"],[0.7777777777777778,\"#fb9f3a\"],[0.8888888888888888,\"#fdca26\"],[1.0,\"#f0f921\"]],\"type\":\"histogram2d\"}],\"histogram\":[{\"marker\":{\"pattern\":{\"fillmode\":\"overlay\",\"size\":10,\"solidity\":0.2}},\"type\":\"histogram\"}],\"mesh3d\":[{\"colorbar\":{\"outlinewidth\":0,\"ticks\":\"\"},\"type\":\"mesh3d\"}],\"parcoords\":[{\"line\":{\"colorbar\":{\"outlinewidth\":0,\"ticks\":\"\"}},\"type\":\"parcoords\"}],\"pie\":[{\"automargin\":true,\"type\":\"pie\"}],\"scatter3d\":[{\"line\":{\"colorbar\":{\"outlinewidth\":0,\"ticks\":\"\"}},\"marker\":{\"colorbar\":{\"outlinewidth\":0,\"ticks\":\"\"}},\"type\":\"scatter3d\"}],\"scattercarpet\":[{\"marker\":{\"colorbar\":{\"outlinewidth\":0,\"ticks\":\"\"}},\"type\":\"scattercarpet\"}],\"scattergeo\":[{\"marker\":{\"colorbar\":{\"outlinewidth\":0,\"ticks\":\"\"}},\"type\":\"scattergeo\"}],\"scattergl\":[{\"marker\":{\"colorbar\":{\"outlinewidth\":0,\"ticks\":\"\"}},\"type\":\"scattergl\"}],\"scattermapbox\":[{\"marker\":{\"colorbar\":{\"outlinewidth\":0,\"ticks\":\"\"}},\"type\":\"scattermapbox\"}],\"scatterpolargl\":[{\"marker\":{\"colorbar\":{\"outlinewidth\":0,\"ticks\":\"\"}},\"type\":\"scatterpolargl\"}],\"scatterpolar\":[{\"marker\":{\"colorbar\":{\"outlinewidth\":0,\"ticks\":\"\"}},\"type\":\"scatterpolar\"}],\"scatter\":[{\"fillpattern\":{\"fillmode\":\"overlay\",\"size\":10,\"solidity\":0.2},\"type\":\"scatter\"}],\"scatterternary\":[{\"marker\":{\"colorbar\":{\"outlinewidth\":0,\"ticks\":\"\"}},\"type\":\"scatterternary\"}],\"surface\":[{\"colorbar\":{\"outlinewidth\":0,\"ticks\":\"\"},\"colorscale\":[[0.0,\"#0d0887\"],[0.1111111111111111,\"#46039f\"],[0.2222222222222222,\"#7201a8\"],[0.3333333333333333,\"#9c179e\"],[0.4444444444444444,\"#bd3786\"],[0.5555555555555556,\"#d8576b\"],[0.6666666666666666,\"#ed7953\"],[0.7777777777777778,\"#fb9f3a\"],[0.8888888888888888,\"#fdca26\"],[1.0,\"#f0f921\"]],\"type\":\"surface\"}],\"table\":[{\"cells\":{\"fill\":{\"color\":\"#EBF0F8\"},\"line\":{\"color\":\"white\"}},\"header\":{\"fill\":{\"color\":\"#C8D4E3\"},\"line\":{\"color\":\"white\"}},\"type\":\"table\"}]},\"layout\":{\"annotationdefaults\":{\"arrowcolor\":\"#2a3f5f\",\"arrowhead\":0,\"arrowwidth\":1},\"autotypenumbers\":\"strict\",\"coloraxis\":{\"colorbar\":{\"outlinewidth\":0,\"ticks\":\"\"}},\"colorscale\":{\"diverging\":[[0,\"#8e0152\"],[0.1,\"#c51b7d\"],[0.2,\"#de77ae\"],[0.3,\"#f1b6da\"],[0.4,\"#fde0ef\"],[0.5,\"#f7f7f7\"],[0.6,\"#e6f5d0\"],[0.7,\"#b8e186\"],[0.8,\"#7fbc41\"],[0.9,\"#4d9221\"],[1,\"#276419\"]],\"sequential\":[[0.0,\"#0d0887\"],[0.1111111111111111,\"#46039f\"],[0.2222222222222222,\"#7201a8\"],[0.3333333333333333,\"#9c179e\"],[0.4444444444444444,\"#bd3786\"],[0.5555555555555556,\"#d8576b\"],[0.6666666666666666,\"#ed7953\"],[0.7777777777777778,\"#fb9f3a\"],[0.8888888888888888,\"#fdca26\"],[1.0,\"#f0f921\"]],\"sequentialminus\":[[0.0,\"#0d0887\"],[0.1111111111111111,\"#46039f\"],[0.2222222222222222,\"#7201a8\"],[0.3333333333333333,\"#9c179e\"],[0.4444444444444444,\"#bd3786\"],[0.5555555555555556,\"#d8576b\"],[0.6666666666666666,\"#ed7953\"],[0.7777777777777778,\"#fb9f3a\"],[0.8888888888888888,\"#fdca26\"],[1.0,\"#f0f921\"]]},\"colorway\":[\"#636efa\",\"#EF553B\",\"#00cc96\",\"#ab63fa\",\"#FFA15A\",\"#19d3f3\",\"#FF6692\",\"#B6E880\",\"#FF97FF\",\"#FECB52\"],\"font\":{\"color\":\"#2a3f5f\"},\"geo\":{\"bgcolor\":\"white\",\"lakecolor\":\"white\",\"landcolor\":\"#E5ECF6\",\"showlakes\":true,\"showland\":true,\"subunitcolor\":\"white\"},\"hoverlabel\":{\"align\":\"left\"},\"hovermode\":\"closest\",\"mapbox\":{\"style\":\"light\"},\"paper_bgcolor\":\"white\",\"plot_bgcolor\":\"#E5ECF6\",\"polar\":{\"angularaxis\":{\"gridcolor\":\"white\",\"linecolor\":\"white\",\"ticks\":\"\"},\"bgcolor\":\"#E5ECF6\",\"radialaxis\":{\"gridcolor\":\"white\",\"linecolor\":\"white\",\"ticks\":\"\"}},\"scene\":{\"xaxis\":{\"backgroundcolor\":\"#E5ECF6\",\"gridcolor\":\"white\",\"gridwidth\":2,\"linecolor\":\"white\",\"showbackground\":true,\"ticks\":\"\",\"zerolinecolor\":\"white\"},\"yaxis\":{\"backgroundcolor\":\"#E5ECF6\",\"gridcolor\":\"white\",\"gridwidth\":2,\"linecolor\":\"white\",\"showbackground\":true,\"ticks\":\"\",\"zerolinecolor\":\"white\"},\"zaxis\":{\"backgroundcolor\":\"#E5ECF6\",\"gridcolor\":\"white\",\"gridwidth\":2,\"linecolor\":\"white\",\"showbackground\":true,\"ticks\":\"\",\"zerolinecolor\":\"white\"}},\"shapedefaults\":{\"line\":{\"color\":\"#2a3f5f\"}},\"ternary\":{\"aaxis\":{\"gridcolor\":\"white\",\"linecolor\":\"white\",\"ticks\":\"\"},\"baxis\":{\"gridcolor\":\"white\",\"linecolor\":\"white\",\"ticks\":\"\"},\"bgcolor\":\"#E5ECF6\",\"caxis\":{\"gridcolor\":\"white\",\"linecolor\":\"white\",\"ticks\":\"\"}},\"title\":{\"x\":0.05},\"xaxis\":{\"automargin\":true,\"gridcolor\":\"white\",\"linecolor\":\"white\",\"ticks\":\"\",\"title\":{\"standoff\":15},\"zerolinecolor\":\"white\",\"zerolinewidth\":2},\"yaxis\":{\"automargin\":true,\"gridcolor\":\"white\",\"linecolor\":\"white\",\"ticks\":\"\",\"title\":{\"standoff\":15},\"zerolinecolor\":\"white\",\"zerolinewidth\":2}}},\"title\":{\"font\":{\"color\":\"#4D5663\"},\"text\":\"\\ud604\\ub300\\uc790\\ub3d9\\ucc28 \\ucd5c\\uc801\\uacbd\\ud5a5\\uc120\"},\"xaxis\":{\"gridcolor\":\"#E1E5ED\",\"showgrid\":true,\"tickfont\":{\"color\":\"#4D5663\"},\"title\":{\"font\":{\"color\":\"#4D5663\"},\"text\":\"\"},\"zerolinecolor\":\"#E1E5ED\"},\"yaxis\":{\"gridcolor\":\"#E1E5ED\",\"showgrid\":true,\"tickfont\":{\"color\":\"#4D5663\"},\"title\":{\"font\":{\"color\":\"#4D5663\"},\"text\":\"\"},\"zerolinecolor\":\"#E1E5ED\"}},                        {\"showLink\": true, \"linkText\": \"Export to plot.ly\", \"plotlyServerURL\": \"https://plot.ly\", \"responsive\": true}                    ).then(function(){\n",
       "                            \n",
       "var gd = document.getElementById('de6dc749-361a-4701-aca0-f6d799b40f43');\n",
       "var x = new MutationObserver(function (mutations, observer) {{\n",
       "        var display = window.getComputedStyle(gd).display;\n",
       "        if (!display || display === 'none') {{\n",
       "            console.log([gd, 'removed!']);\n",
       "            Plotly.purge(gd);\n",
       "            observer.disconnect();\n",
       "        }}\n",
       "}});\n",
       "\n",
       "// Listen for the removal of the full notebook cells\n",
       "var notebookContainer = gd.closest('#notebook-container');\n",
       "if (notebookContainer) {{\n",
       "    x.observe(notebookContainer, {childList: true});\n",
       "}}\n",
       "\n",
       "// Listen for the clearing of the current output cell\n",
       "var outputEl = gd.closest('.output');\n",
       "if (outputEl) {{\n",
       "    x.observe(outputEl, {childList: true});\n",
       "}}\n",
       "\n",
       "                        })                };                });            </script>        </div>"
      ]
     },
     "metadata": {},
     "output_type": "display_data"
    }
   ],
   "source": [
    "import pandas as pd\n",
    "import cufflinks as cf\n",
    "import numpy as np\n",
    "import warnings\n",
    "from datetime import datetime\n",
    "warnings.filterwarnings(\"ignore\")\n",
    "cf.set_config_file(theme='pearl', world_readable=False)\n",
    "cf.go_offline()\n",
    "single_stock = fdr.DataReader('005380', '2023-01-01', '2023-12-31')\n",
    "single_stock['Close'].iplot(title='현대자동차 최적경향선', bestfit=True, bestfit_colors=['blue']) # 수익률 시각화, bestfit:최적 경향선 추가(추세 파악 용이)"
   ]
  },
  {
   "cell_type": "markdown",
   "metadata": {},
   "source": [
    "# 상관분석"
   ]
  },
  {
   "cell_type": "code",
   "execution_count": 10,
   "metadata": {},
   "outputs": [
    {
     "name": "stdout",
     "output_type": "stream",
     "text": [
      "Date\n",
      "2023-01-31         NaN\n",
      "2023-02-28    0.054782\n",
      "2023-03-31    0.017475\n",
      "2023-04-30    0.088220\n",
      "2023-05-31    0.062923\n",
      "2023-06-30   -0.021011\n",
      "2023-07-31    0.011380\n",
      "2023-08-31   -0.069649\n",
      "2023-09-30    0.004461\n",
      "2023-10-31   -0.023866\n",
      "2023-11-30   -0.028452\n",
      "2023-12-31    0.058113\n",
      "Freq: M, Name: Close, dtype: float64\n"
     ]
    }
   ],
   "source": [
    "hv_stock.index = pd.to_datetime(hv_stock.index)\n",
    "\n",
    "# 월별 평균 수익률 계산\n",
    "monthly_avg_returns = hv_stock['Close'].resample('M').mean().pct_change()\n",
    "\n",
    "print(monthly_avg_returns)"
   ]
  },
  {
   "cell_type": "code",
   "execution_count": 11,
   "metadata": {},
   "outputs": [
    {
     "data": {
      "text/html": [
       "<div>\n",
       "<style scoped>\n",
       "    .dataframe tbody tr th:only-of-type {\n",
       "        vertical-align: middle;\n",
       "    }\n",
       "\n",
       "    .dataframe tbody tr th {\n",
       "        vertical-align: top;\n",
       "    }\n",
       "\n",
       "    .dataframe thead th {\n",
       "        text-align: right;\n",
       "    }\n",
       "</style>\n",
       "<table border=\"1\" class=\"dataframe\">\n",
       "  <thead>\n",
       "    <tr style=\"text-align: right;\">\n",
       "      <th></th>\n",
       "      <th>Open</th>\n",
       "      <th>High</th>\n",
       "      <th>Low</th>\n",
       "      <th>Close</th>\n",
       "      <th>Volume</th>\n",
       "      <th>Change</th>\n",
       "      <th>Date_Integer</th>\n",
       "    </tr>\n",
       "    <tr>\n",
       "      <th>Date</th>\n",
       "      <th></th>\n",
       "      <th></th>\n",
       "      <th></th>\n",
       "      <th></th>\n",
       "      <th></th>\n",
       "      <th></th>\n",
       "      <th></th>\n",
       "    </tr>\n",
       "  </thead>\n",
       "  <tbody>\n",
       "    <tr>\n",
       "      <th>2023-01-02</th>\n",
       "      <td>154000</td>\n",
       "      <td>161000</td>\n",
       "      <td>154000</td>\n",
       "      <td>157000</td>\n",
       "      <td>1132256</td>\n",
       "      <td>0.039735</td>\n",
       "      <td>0</td>\n",
       "    </tr>\n",
       "    <tr>\n",
       "      <th>2023-01-03</th>\n",
       "      <td>158500</td>\n",
       "      <td>160500</td>\n",
       "      <td>156000</td>\n",
       "      <td>159000</td>\n",
       "      <td>787752</td>\n",
       "      <td>0.012739</td>\n",
       "      <td>1</td>\n",
       "    </tr>\n",
       "    <tr>\n",
       "      <th>2023-01-04</th>\n",
       "      <td>157500</td>\n",
       "      <td>161000</td>\n",
       "      <td>157500</td>\n",
       "      <td>160500</td>\n",
       "      <td>463444</td>\n",
       "      <td>0.009434</td>\n",
       "      <td>2</td>\n",
       "    </tr>\n",
       "    <tr>\n",
       "      <th>2023-01-05</th>\n",
       "      <td>161000</td>\n",
       "      <td>161500</td>\n",
       "      <td>158000</td>\n",
       "      <td>159000</td>\n",
       "      <td>577152</td>\n",
       "      <td>-0.009346</td>\n",
       "      <td>3</td>\n",
       "    </tr>\n",
       "    <tr>\n",
       "      <th>2023-01-06</th>\n",
       "      <td>157500</td>\n",
       "      <td>161500</td>\n",
       "      <td>157500</td>\n",
       "      <td>159500</td>\n",
       "      <td>502420</td>\n",
       "      <td>0.003145</td>\n",
       "      <td>4</td>\n",
       "    </tr>\n",
       "    <tr>\n",
       "      <th>...</th>\n",
       "      <td>...</td>\n",
       "      <td>...</td>\n",
       "      <td>...</td>\n",
       "      <td>...</td>\n",
       "      <td>...</td>\n",
       "      <td>...</td>\n",
       "      <td>...</td>\n",
       "    </tr>\n",
       "    <tr>\n",
       "      <th>2023-12-21</th>\n",
       "      <td>197500</td>\n",
       "      <td>202000</td>\n",
       "      <td>197100</td>\n",
       "      <td>198700</td>\n",
       "      <td>545031</td>\n",
       "      <td>-0.002009</td>\n",
       "      <td>353</td>\n",
       "    </tr>\n",
       "    <tr>\n",
       "      <th>2023-12-22</th>\n",
       "      <td>200000</td>\n",
       "      <td>200500</td>\n",
       "      <td>198500</td>\n",
       "      <td>199000</td>\n",
       "      <td>347866</td>\n",
       "      <td>0.001510</td>\n",
       "      <td>354</td>\n",
       "    </tr>\n",
       "    <tr>\n",
       "      <th>2023-12-26</th>\n",
       "      <td>200500</td>\n",
       "      <td>200500</td>\n",
       "      <td>197700</td>\n",
       "      <td>198800</td>\n",
       "      <td>409928</td>\n",
       "      <td>-0.001005</td>\n",
       "      <td>358</td>\n",
       "    </tr>\n",
       "    <tr>\n",
       "      <th>2023-12-27</th>\n",
       "      <td>198700</td>\n",
       "      <td>199300</td>\n",
       "      <td>197200</td>\n",
       "      <td>198500</td>\n",
       "      <td>331186</td>\n",
       "      <td>-0.001509</td>\n",
       "      <td>359</td>\n",
       "    </tr>\n",
       "    <tr>\n",
       "      <th>2023-12-28</th>\n",
       "      <td>198800</td>\n",
       "      <td>203500</td>\n",
       "      <td>198400</td>\n",
       "      <td>203500</td>\n",
       "      <td>766503</td>\n",
       "      <td>0.025189</td>\n",
       "      <td>360</td>\n",
       "    </tr>\n",
       "  </tbody>\n",
       "</table>\n",
       "<p>245 rows × 7 columns</p>\n",
       "</div>"
      ],
      "text/plain": [
       "              Open    High     Low   Close   Volume    Change  Date_Integer\n",
       "Date                                                                       \n",
       "2023-01-02  154000  161000  154000  157000  1132256  0.039735             0\n",
       "2023-01-03  158500  160500  156000  159000   787752  0.012739             1\n",
       "2023-01-04  157500  161000  157500  160500   463444  0.009434             2\n",
       "2023-01-05  161000  161500  158000  159000   577152 -0.009346             3\n",
       "2023-01-06  157500  161500  157500  159500   502420  0.003145             4\n",
       "...            ...     ...     ...     ...      ...       ...           ...\n",
       "2023-12-21  197500  202000  197100  198700   545031 -0.002009           353\n",
       "2023-12-22  200000  200500  198500  199000   347866  0.001510           354\n",
       "2023-12-26  200500  200500  197700  198800   409928 -0.001005           358\n",
       "2023-12-27  198700  199300  197200  198500   331186 -0.001509           359\n",
       "2023-12-28  198800  203500  198400  203500   766503  0.025189           360\n",
       "\n",
       "[245 rows x 7 columns]"
      ]
     },
     "execution_count": 11,
     "metadata": {},
     "output_type": "execute_result"
    }
   ],
   "source": [
    "hv_stock"
   ]
  },
  {
   "cell_type": "code",
   "execution_count": 12,
   "metadata": {},
   "outputs": [
    {
     "name": "stdout",
     "output_type": "stream",
     "text": [
      "0          NaN\n",
      "1     0.050328\n",
      "2    -0.021316\n",
      "3     0.257826\n",
      "4    -0.177721\n",
      "5     0.245877\n",
      "6    -0.183341\n",
      "7    -0.220371\n",
      "8     0.183272\n",
      "9    -0.419142\n",
      "10    0.393134\n",
      "11   -0.215581\n",
      "Name: total, dtype: float64\n"
     ]
    }
   ],
   "source": [
    "company = \"현대자동차\"\n",
    "\n",
    "sentiment_result = pd.read_csv(\"../data/project/predicted_현대차_2023.csv\") # 감성분석 결과 csv파일 읽어오기\n",
    "sentiment_result['date'] = pd.to_datetime(sentiment_result['date'])\n",
    "sentiment_result['month'] = sentiment_result['date'].dt.month\n",
    "\n",
    "sentiments_data = []\n",
    "\n",
    "for index, row in sentiment_result.iterrows():\n",
    "    \n",
    "    month = row['month']\n",
    "    prediction = row['prediction']\n",
    "    score = row['score']\n",
    "   \n",
    "    sentiments_data.append([month, company, prediction, score])\n",
    "\n",
    "sentiments_df = pd.DataFrame(sentiments_data, columns=['month', 'company', 'prediction', 'score'])\n",
    "\n",
    "# 감성에 따른 가중치 매핑\n",
    "weights = {'호재': 1, '악재': -1, '중립': 0}\n",
    "sentiments_df['total'] = sentiments_df['prediction'].map(weights) * sentiments_df['score']\n",
    "sentiments_df = sentiments_df.drop('company', axis=1)\n",
    "sentiments_df = sentiments_df.rename(columns={'현대자동차': 'total'})\n",
    "sentiments_df['month'] = sentiments_df['month'].astype(str) + '월'\n",
    "\n",
    "# 'month' 기준 그룹화 및 합계\n",
    "df_monthly_total = sentiments_df.groupby('month')['total'].sum().reset_index()\n",
    "\n",
    "df_monthly_total['month'] = pd.Categorical(df_monthly_total['month'], categories=['1월', '2월', '3월', '4월', '5월', '6월', '7월', '8월', '9월', '10월', '11월', '12월'], ordered=True)\n",
    "df_monthly_total = df_monthly_total.sort_values('month')\n",
    "df_monthly_total = df_monthly_total.reset_index(drop=True)\n",
    "\n",
    "# 월별 감성분석 변동\n",
    "monthly_avg_total = df_monthly_total['total']\n",
    "monthly_avg_total_diff = monthly_avg_total.pct_change()\n",
    "\n",
    "print(monthly_avg_total_diff)\n"
   ]
  },
  {
   "cell_type": "code",
   "execution_count": 13,
   "metadata": {},
   "outputs": [],
   "source": [
    "sentiment_predicted_diff = monthly_avg_total_diff.tolist()\n",
    "month_avg_gain = monthly_avg_returns.tolist()\n",
    "\n",
    "if pd.isna(month_avg_gain[0]):\n",
    "    month_avg_gain = month_avg_gain[1:]\n",
    "    sentiment_predicted_diff = sentiment_predicted_diff[1:]\n"
   ]
  },
  {
   "cell_type": "code",
   "execution_count": 14,
   "metadata": {},
   "outputs": [
    {
     "name": "stdout",
     "output_type": "stream",
     "text": [
      "Correlation Coefficient: 0.08677877890872379\n",
      "P-value: 0.7997258735438108\n",
      "No statistically significant correlation.\n"
     ]
    }
   ],
   "source": [
    "import numpy as np\n",
    "import scipy.stats\n",
    "\n",
    "# 두 리스트 간의 상관 계수 계산\n",
    "correlation_coefficient, p_value = scipy.stats.pearsonr(sentiment_predicted_diff, month_avg_gain)\n",
    "\n",
    "print(f\"Correlation Coefficient: {correlation_coefficient}\")\n",
    "print(f\"P-value: {p_value}\")\n",
    "\n",
    "if p_value < 0.05:\n",
    "    print(\"Statistically significant correlation.\")\n",
    "else:\n",
    "    print(\"No statistically significant correlation.\")"
   ]
  },
  {
   "cell_type": "code",
   "execution_count": 15,
   "metadata": {},
   "outputs": [
    {
     "name": "stdout",
     "output_type": "stream",
     "text": [
      "              월별 평균 수익률 변동  월별 감성분석 변동\n",
      "월별 평균 수익률 변동      1.000000    0.086779\n",
      "월별 감성분석 변동        0.086779    1.000000\n"
     ]
    }
   ],
   "source": [
    "import pandas as pd\n",
    "\n",
    "correlation_data = pd.DataFrame({'월별 평균 수익률 변동': month_avg_gain, '월별 감성분석 변동': sentiment_predicted_diff})\n",
    "\n",
    "# 상관 행렬\n",
    "correlation_matrix = correlation_data.corr()\n",
    "\n",
    "print(correlation_matrix)"
   ]
  },
  {
   "cell_type": "code",
   "execution_count": 16,
   "metadata": {},
   "outputs": [
    {
     "data": {
      "text/html": [
       "<div>\n",
       "<style scoped>\n",
       "    .dataframe tbody tr th:only-of-type {\n",
       "        vertical-align: middle;\n",
       "    }\n",
       "\n",
       "    .dataframe tbody tr th {\n",
       "        vertical-align: top;\n",
       "    }\n",
       "\n",
       "    .dataframe thead th {\n",
       "        text-align: right;\n",
       "    }\n",
       "</style>\n",
       "<table border=\"1\" class=\"dataframe\">\n",
       "  <thead>\n",
       "    <tr style=\"text-align: right;\">\n",
       "      <th></th>\n",
       "      <th>월별 평균 수익률 변동</th>\n",
       "      <th>월별 감성분석 변동</th>\n",
       "    </tr>\n",
       "  </thead>\n",
       "  <tbody>\n",
       "    <tr>\n",
       "      <th>2월</th>\n",
       "      <td>0.054782</td>\n",
       "      <td>0.050328</td>\n",
       "    </tr>\n",
       "    <tr>\n",
       "      <th>3월</th>\n",
       "      <td>0.017475</td>\n",
       "      <td>-0.021316</td>\n",
       "    </tr>\n",
       "    <tr>\n",
       "      <th>4월</th>\n",
       "      <td>0.088220</td>\n",
       "      <td>0.257826</td>\n",
       "    </tr>\n",
       "    <tr>\n",
       "      <th>5월</th>\n",
       "      <td>0.062923</td>\n",
       "      <td>-0.177721</td>\n",
       "    </tr>\n",
       "    <tr>\n",
       "      <th>6월</th>\n",
       "      <td>-0.021011</td>\n",
       "      <td>0.245877</td>\n",
       "    </tr>\n",
       "    <tr>\n",
       "      <th>7월</th>\n",
       "      <td>0.011380</td>\n",
       "      <td>-0.183341</td>\n",
       "    </tr>\n",
       "    <tr>\n",
       "      <th>8월</th>\n",
       "      <td>-0.069649</td>\n",
       "      <td>-0.220371</td>\n",
       "    </tr>\n",
       "    <tr>\n",
       "      <th>9월</th>\n",
       "      <td>0.004461</td>\n",
       "      <td>0.183272</td>\n",
       "    </tr>\n",
       "    <tr>\n",
       "      <th>10월</th>\n",
       "      <td>-0.023866</td>\n",
       "      <td>-0.419142</td>\n",
       "    </tr>\n",
       "    <tr>\n",
       "      <th>11월</th>\n",
       "      <td>-0.028452</td>\n",
       "      <td>0.393134</td>\n",
       "    </tr>\n",
       "    <tr>\n",
       "      <th>12월</th>\n",
       "      <td>0.058113</td>\n",
       "      <td>-0.215581</td>\n",
       "    </tr>\n",
       "  </tbody>\n",
       "</table>\n",
       "</div>"
      ],
      "text/plain": [
       "     월별 평균 수익률 변동  월별 감성분석 변동\n",
       "2월       0.054782    0.050328\n",
       "3월       0.017475   -0.021316\n",
       "4월       0.088220    0.257826\n",
       "5월       0.062923   -0.177721\n",
       "6월      -0.021011    0.245877\n",
       "7월       0.011380   -0.183341\n",
       "8월      -0.069649   -0.220371\n",
       "9월       0.004461    0.183272\n",
       "10월     -0.023866   -0.419142\n",
       "11월     -0.028452    0.393134\n",
       "12월      0.058113   -0.215581"
      ]
     },
     "execution_count": 16,
     "metadata": {},
     "output_type": "execute_result"
    }
   ],
   "source": [
    "import seaborn as sns\n",
    "import matplotlib.pyplot as plt\n",
    "\n",
    "# 데이터프레임에 인덱스 설정\n",
    "index_months = [str(i) + '월' for i in range(2, 13)]\n",
    "correlation_data.index = index_months\n",
    "\n",
    "correlation_data\n"
   ]
  },
  {
   "cell_type": "code",
   "execution_count": 17,
   "metadata": {},
   "outputs": [
    {
     "data": {
      "image/png": "[encoded data removed]",
      "text/plain": [
       "<Figure size 1000x600 with 1 Axes>"
      ]
     },
     "metadata": {},
     "output_type": "display_data"
    }
   ],
   "source": [
    "import seaborn as sns\n",
    "import matplotlib.pyplot as plt\n",
    "\n",
    "# 월별 평균 수익률 변동에 적절한 가중치 설정\n",
    "correlation_data['월별 평균 수익률 변동'] = correlation_data['월별 평균 수익률 변동'] * 5\n",
    "\n",
    "# 히스토그램\n",
    "plt.figure(figsize=(10, 6))\n",
    "plt.grid(axis='y', which='major', alpha=0.5)\n",
    "sns.barplot(x=index_months, y='월별 평균 수익률 변동', data=correlation_data, alpha=0.7, label='월별 평균 수익률 변동', color='Blue')\n",
    "sns.barplot(x=index_months, y='월별 감성분석 변동', data=correlation_data, alpha=0.8, label='월별 감성분석 변동', color = 'Gray')\n",
    "plt.title('월별 평균 수익률 변동 & 감성분석 변동 분포')\n",
    "plt.xlabel('월')\n",
    "plt.ylabel('수치')\n",
    "plt.legend()\n",
    "plt.show()"
   ]
  },
  {
   "cell_type": "code",
   "execution_count": null,
   "metadata": {},
   "outputs": [],
   "source": []
  }
 ],
 "metadata": {
  "kernelspec": {
   "display_name": "eda_venv",
   "language": "python",
   "name": "python3"
  },
  "language_info": {
   "codemirror_mode": {
    "name": "ipython",
    "version": 3
   },
   "file_extension": ".py",
   "mimetype": "text/x-python",
   "name": "python",
   "nbconvert_exporter": "python",
   "pygments_lexer": "ipython3",
   "version": "3.10.12"
  }
 },
 "nbformat": 4,
 "nbformat_minor": 2
}
