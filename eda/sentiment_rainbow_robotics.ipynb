{
 "cells": [
  {
   "cell_type": "markdown",
   "metadata": {},
   "source": [
    "# 감성분석 결과와 주가 데이터 비교"
   ]
  },
  {
   "cell_type": "code",
   "execution_count": 1,
   "metadata": {},
   "outputs": [],
   "source": [
    "import pandas as pd\n",
    "\n",
    "a = pd.read_csv(\"../data/project/predicted_레인보우로보틱스_2023_01.csv\")\n",
    "b = pd.read_csv(\"../data/project/predicted_레인보우로보틱스_2023_02.csv\")\n",
    "c = pd.read_csv(\"../data/project/predicted_레인보우로보틱스_2023_03.csv\")\n",
    "d = pd.read_csv(\"../data/project/predicted_레인보우로보틱스_2023_04.csv\")\n",
    "e = pd.read_csv(\"../data/project/predicted_레인보우로보틱스_2023_05.csv\")\n",
    "f = pd.read_csv(\"../data/project/predicted_레인보우로보틱스_2023_06.csv\")\n",
    "g = pd.read_csv(\"../data/project/predicted_레인보우로보틱스_2023_07.csv\")\n",
    "h = pd.read_csv(\"../data/project/predicted_레인보우로보틱스_2023_08.csv\")\n",
    "i = pd.read_csv(\"../data/project/predicted_레인보우로보틱스_2023_09.csv\")\n",
    "j = pd.read_csv(\"../data/project/predicted_레인보우로보틱스_2023_10.csv\")\n",
    "k = pd.read_csv(\"../data/project/predicted_레인보우로보틱스_2023_11.csv\")\n",
    "l = pd.read_csv(\"../data/project/predicted_레인보우로보틱스_2023_12.csv\")\n",
    "\n",
    "combined_df = pd.concat([a, b, c, d, e, f, g, h, i, j, k, l])\n",
    "\n",
    "combined_df = combined_df.drop(columns=[\"Unnamed: 0\"], errors=\"ignore\")\n",
    "\n",
    "combined_df.to_csv(\"../data/project/predicted_레인보우로보틱스_2023.csv\", index=False)"
   ]
  },
  {
   "cell_type": "markdown",
   "metadata": {},
   "source": [
    "## 감성분석 결과 데이터프레임"
   ]
  },
  {
   "cell_type": "code",
   "execution_count": 2,
   "metadata": {},
   "outputs": [
    {
     "data": {
      "text/html": [
       "<div>\n",
       "<style scoped>\n",
       "    .dataframe tbody tr th:only-of-type {\n",
       "        vertical-align: middle;\n",
       "    }\n",
       "\n",
       "    .dataframe tbody tr th {\n",
       "        vertical-align: top;\n",
       "    }\n",
       "\n",
       "    .dataframe thead th {\n",
       "        text-align: right;\n",
       "    }\n",
       "</style>\n",
       "<table border=\"1\" class=\"dataframe\">\n",
       "  <thead>\n",
       "    <tr style=\"text-align: right;\">\n",
       "      <th></th>\n",
       "      <th>month</th>\n",
       "      <th>company</th>\n",
       "      <th>prediction</th>\n",
       "      <th>score</th>\n",
       "    </tr>\n",
       "  </thead>\n",
       "  <tbody>\n",
       "    <tr>\n",
       "      <th>0</th>\n",
       "      <td>1</td>\n",
       "      <td>레인보우로보틱스</td>\n",
       "      <td>악재</td>\n",
       "      <td>5.377985</td>\n",
       "    </tr>\n",
       "    <tr>\n",
       "      <th>1</th>\n",
       "      <td>1</td>\n",
       "      <td>레인보우로보틱스</td>\n",
       "      <td>중립</td>\n",
       "      <td>5.830951</td>\n",
       "    </tr>\n",
       "    <tr>\n",
       "      <th>2</th>\n",
       "      <td>1</td>\n",
       "      <td>레인보우로보틱스</td>\n",
       "      <td>중립</td>\n",
       "      <td>5.846591</td>\n",
       "    </tr>\n",
       "    <tr>\n",
       "      <th>3</th>\n",
       "      <td>1</td>\n",
       "      <td>레인보우로보틱스</td>\n",
       "      <td>호재</td>\n",
       "      <td>5.946444</td>\n",
       "    </tr>\n",
       "    <tr>\n",
       "      <th>4</th>\n",
       "      <td>1</td>\n",
       "      <td>레인보우로보틱스</td>\n",
       "      <td>호재</td>\n",
       "      <td>5.830087</td>\n",
       "    </tr>\n",
       "    <tr>\n",
       "      <th>...</th>\n",
       "      <td>...</td>\n",
       "      <td>...</td>\n",
       "      <td>...</td>\n",
       "      <td>...</td>\n",
       "    </tr>\n",
       "    <tr>\n",
       "      <th>1448</th>\n",
       "      <td>12</td>\n",
       "      <td>레인보우로보틱스</td>\n",
       "      <td>중립</td>\n",
       "      <td>5.289628</td>\n",
       "    </tr>\n",
       "    <tr>\n",
       "      <th>1449</th>\n",
       "      <td>12</td>\n",
       "      <td>레인보우로보틱스</td>\n",
       "      <td>중립</td>\n",
       "      <td>3.605066</td>\n",
       "    </tr>\n",
       "    <tr>\n",
       "      <th>1450</th>\n",
       "      <td>12</td>\n",
       "      <td>레인보우로보틱스</td>\n",
       "      <td>중립</td>\n",
       "      <td>1.720393</td>\n",
       "    </tr>\n",
       "    <tr>\n",
       "      <th>1451</th>\n",
       "      <td>12</td>\n",
       "      <td>레인보우로보틱스</td>\n",
       "      <td>호재</td>\n",
       "      <td>6.125482</td>\n",
       "    </tr>\n",
       "    <tr>\n",
       "      <th>1452</th>\n",
       "      <td>12</td>\n",
       "      <td>레인보우로보틱스</td>\n",
       "      <td>중립</td>\n",
       "      <td>2.829531</td>\n",
       "    </tr>\n",
       "  </tbody>\n",
       "</table>\n",
       "<p>1453 rows × 4 columns</p>\n",
       "</div>"
      ],
      "text/plain": [
       "      month   company prediction     score\n",
       "0         1  레인보우로보틱스         악재  5.377985\n",
       "1         1  레인보우로보틱스         중립  5.830951\n",
       "2         1  레인보우로보틱스         중립  5.846591\n",
       "3         1  레인보우로보틱스         호재  5.946444\n",
       "4         1  레인보우로보틱스         호재  5.830087\n",
       "...     ...       ...        ...       ...\n",
       "1448     12  레인보우로보틱스         중립  5.289628\n",
       "1449     12  레인보우로보틱스         중립  3.605066\n",
       "1450     12  레인보우로보틱스         중립  1.720393\n",
       "1451     12  레인보우로보틱스         호재  6.125482\n",
       "1452     12  레인보우로보틱스         중립  2.829531\n",
       "\n",
       "[1453 rows x 4 columns]"
      ]
     },
     "execution_count": 2,
     "metadata": {},
     "output_type": "execute_result"
    }
   ],
   "source": [
    "import koreanize_matplotlib\n",
    "import pandas as pd\n",
    "import numpy as np\n",
    "import seaborn as sns\n",
    "import matplotlib.pyplot as plt\n",
    "\n",
    "months = ['1월', '2월', '3월', '4월', '5월', '6월',\n",
    "           '7월', '8월', '9월', '10월', '11월', '12월']\n",
    "company = \"레인보우로보틱스\"\n",
    "\n",
    "sentiment_result = pd.read_csv(\"../data/project/predicted_레인보우로보틱스_2023.csv\") # 감성분석 결과 csv파일 읽어오기\n",
    "sentiment_result['date'] = pd.to_datetime(sentiment_result['date'])\n",
    "sentiment_result['month'] = sentiment_result['date'].dt.month\n",
    "\n",
    "sentiments_data = []\n",
    "\n",
    "for index, row in sentiment_result.iterrows():\n",
    "    month = row['month']\n",
    "    prediction = row['prediction']\n",
    "    score = row['score']\n",
    "    sentiments_data.append([month, company, prediction, score])\n",
    "\n",
    "sentiments_df = pd.DataFrame(sentiments_data, columns=['month', 'company', 'prediction', 'score'])\n",
    "sentiments_df"
   ]
  },
  {
   "cell_type": "code",
   "execution_count": 3,
   "metadata": {},
   "outputs": [
    {
     "data": {
      "text/html": [
       "<div>\n",
       "<style scoped>\n",
       "    .dataframe tbody tr th:only-of-type {\n",
       "        vertical-align: middle;\n",
       "    }\n",
       "\n",
       "    .dataframe tbody tr th {\n",
       "        vertical-align: top;\n",
       "    }\n",
       "\n",
       "    .dataframe thead th {\n",
       "        text-align: right;\n",
       "    }\n",
       "</style>\n",
       "<table border=\"1\" class=\"dataframe\">\n",
       "  <thead>\n",
       "    <tr style=\"text-align: right;\">\n",
       "      <th>company</th>\n",
       "      <th>레인보우로보틱스</th>\n",
       "    </tr>\n",
       "    <tr>\n",
       "      <th>month</th>\n",
       "      <th></th>\n",
       "    </tr>\n",
       "  </thead>\n",
       "  <tbody>\n",
       "    <tr>\n",
       "      <th>1월</th>\n",
       "      <td>474.813162</td>\n",
       "    </tr>\n",
       "    <tr>\n",
       "      <th>2월</th>\n",
       "      <td>244.127132</td>\n",
       "    </tr>\n",
       "    <tr>\n",
       "      <th>3월</th>\n",
       "      <td>617.190783</td>\n",
       "    </tr>\n",
       "    <tr>\n",
       "      <th>4월</th>\n",
       "      <td>267.495407</td>\n",
       "    </tr>\n",
       "    <tr>\n",
       "      <th>5월</th>\n",
       "      <td>109.331919</td>\n",
       "    </tr>\n",
       "    <tr>\n",
       "      <th>6월</th>\n",
       "      <td>160.497022</td>\n",
       "    </tr>\n",
       "    <tr>\n",
       "      <th>7월</th>\n",
       "      <td>92.051983</td>\n",
       "    </tr>\n",
       "    <tr>\n",
       "      <th>8월</th>\n",
       "      <td>57.829928</td>\n",
       "    </tr>\n",
       "    <tr>\n",
       "      <th>9월</th>\n",
       "      <td>423.361872</td>\n",
       "    </tr>\n",
       "    <tr>\n",
       "      <th>10월</th>\n",
       "      <td>-106.605464</td>\n",
       "    </tr>\n",
       "    <tr>\n",
       "      <th>11월</th>\n",
       "      <td>271.614472</td>\n",
       "    </tr>\n",
       "    <tr>\n",
       "      <th>12월</th>\n",
       "      <td>160.048184</td>\n",
       "    </tr>\n",
       "  </tbody>\n",
       "</table>\n",
       "</div>"
      ],
      "text/plain": [
       "company    레인보우로보틱스\n",
       "month              \n",
       "1월       474.813162\n",
       "2월       244.127132\n",
       "3월       617.190783\n",
       "4월       267.495407\n",
       "5월       109.331919\n",
       "6월       160.497022\n",
       "7월        92.051983\n",
       "8월        57.829928\n",
       "9월       423.361872\n",
       "10월     -106.605464\n",
       "11월      271.614472\n",
       "12월      160.048184"
      ]
     },
     "execution_count": 3,
     "metadata": {},
     "output_type": "execute_result"
    }
   ],
   "source": [
    "# 감성에 따른 가중치 매핑\n",
    "weights = {'호재': 1, '악재': -1, '중립': 0}\n",
    "sentiments_df['total'] = sentiments_df['prediction'].map(weights) * sentiments_df['score']\n",
    "sentiments_df['month'] = sentiments_df['month'].astype(str) + '월'\n",
    "\n",
    "df_monthly_total = sentiments_df.groupby(['month', 'company'])['total'].sum().unstack()\n",
    "df_monthly_total = df_monthly_total.reindex(months)\n",
    "\n",
    "df_monthly_total"
   ]
  },
  {
   "cell_type": "code",
   "execution_count": 4,
   "metadata": {},
   "outputs": [
    {
     "name": "stdout",
     "output_type": "stream",
     "text": [
      "<class 'pandas.core.frame.DataFrame'>\n",
      "RangeIndex: 1453 entries, 0 to 1452\n",
      "Data columns (total 5 columns):\n",
      " #   Column      Non-Null Count  Dtype  \n",
      "---  ------      --------------  -----  \n",
      " 0   month       1453 non-null   object \n",
      " 1   company     1453 non-null   object \n",
      " 2   prediction  1453 non-null   object \n",
      " 3   score       1453 non-null   float64\n",
      " 4   total       1453 non-null   float64\n",
      "dtypes: float64(2), object(3)\n",
      "memory usage: 56.9+ KB\n"
     ]
    }
   ],
   "source": [
    "sentiments_df.info()"
   ]
  },
  {
   "cell_type": "markdown",
   "metadata": {},
   "source": [
    "## 감성분석 결과 시각화"
   ]
  },
  {
   "cell_type": "code",
   "execution_count": 5,
   "metadata": {},
   "outputs": [
    {
     "data": {
      "image/png": "[encoded data removed]",
      "text/plain": [
       "<Figure size 1200x600 with 1 Axes>"
      ]
     },
     "metadata": {},
     "output_type": "display_data"
    }
   ],
   "source": [
    "import random\n",
    "import koreanize_matplotlib\n",
    "from datetime import datetime, timedelta\n",
    "import FinanceDataReader as fdr\n",
    "\n",
    "company = \"레인보우로보틱스\"\n",
    "\n",
    "sentiment_result = pd.read_csv(\"../data/project/predicted_레인보우로보틱스_2023.csv\") # 감성분석 결과 csv파일 읽어오기\n",
    "\n",
    "sentiment_result['date'] = pd.to_datetime(sentiment_result['date'])\n",
    "sentiment_result[\"date\"] = sentiment_result[\"date\"].dt.date\n",
    "\n",
    "sentiments_data = []\n",
    "\n",
    "for index, row in sentiment_result.iterrows():\n",
    "    date = row['date']\n",
    "    prediction = row['prediction']\n",
    "    score = row['score']\n",
    "    sentiments_data.append([date, company, prediction, score])\n",
    "\n",
    "sentiments_df2 = pd.DataFrame(sentiments_data, columns=['date', 'company', 'prediction', 'score'])\n",
    "\n",
    "# 감성에 따른 가중치 매핑\n",
    "weights = {'호재': 1, '악재': -1, '중립': 0}\n",
    "sentiments_df2['total'] = sentiments_df2['prediction'].map(weights) * sentiments_df2['score']\n",
    "\n",
    "df_rb = sentiments_df2.groupby(['date', 'company']).agg({'total': 'sum'}).reset_index()\n",
    "df_rb['date'] = pd.to_datetime(df_rb['date'])\n",
    "df_rb = df_rb.set_index('date')\n",
    "\n",
    "# 주가 데이터에 감성분석 결과 총점 추가\n",
    "rb_stock = fdr.DataReader('277810', '2023-01-01', '2023-12-31')\n",
    "rb_stock['Sentiment_Total'] = df_rb['total']\n",
    "rb_stock['Sentiment_Total'] = rb_stock['Sentiment_Total'].fillna(0)\n",
    "\n",
    "# 감성분석 결과 scaling\n",
    "scaling_factor = 58\n",
    "rb_stock['Sentiment_Total'] = rb_stock['Sentiment_Total'] * scaling_factor\n",
    "\n",
    "# 누적 합 계산\n",
    "rb_stock['Sentiment_Total_Cumulative'] = rb_stock['Sentiment_Total'].cumsum()\n",
    "\n",
    "# 오프셋 설정\n",
    "offset = 32600\n",
    "rb_stock['Sentiment_Total_Cumulative_Offset'] = rb_stock['Sentiment_Total_Cumulative'] + offset\n",
    "\n",
    "plt.figure(figsize=(12, 6))\n",
    "plt.plot(rb_stock['Close'], label='레인보우로보틱스 주가', color='blue')\n",
    "plt.plot(rb_stock['Sentiment_Total_Cumulative_Offset'], label='예측 주가', linestyle='--', color='orange')\n",
    "plt.title('레인보우로보틱스 주가 예측 비교')\n",
    "plt.xlabel('날짜')\n",
    "plt.ylabel('가격')\n",
    "plt.legend()\n",
    "plt.show()"
   ]
  },
  {
   "cell_type": "code",
   "execution_count": 6,
   "metadata": {},
   "outputs": [
    {
     "data": {
      "text/html": [
       "<div>\n",
       "<style scoped>\n",
       "    .dataframe tbody tr th:only-of-type {\n",
       "        vertical-align: middle;\n",
       "    }\n",
       "\n",
       "    .dataframe tbody tr th {\n",
       "        vertical-align: top;\n",
       "    }\n",
       "\n",
       "    .dataframe thead th {\n",
       "        text-align: right;\n",
       "    }\n",
       "</style>\n",
       "<table border=\"1\" class=\"dataframe\">\n",
       "  <thead>\n",
       "    <tr style=\"text-align: right;\">\n",
       "      <th></th>\n",
       "      <th>Open</th>\n",
       "      <th>High</th>\n",
       "      <th>Low</th>\n",
       "      <th>Close</th>\n",
       "      <th>Volume</th>\n",
       "      <th>Change</th>\n",
       "      <th>Sentiment_Total</th>\n",
       "      <th>Sentiment_Total_Cumulative</th>\n",
       "      <th>Sentiment_Total_Cumulative_Offset</th>\n",
       "    </tr>\n",
       "    <tr>\n",
       "      <th>Date</th>\n",
       "      <th></th>\n",
       "      <th></th>\n",
       "      <th></th>\n",
       "      <th></th>\n",
       "      <th></th>\n",
       "      <th></th>\n",
       "      <th></th>\n",
       "      <th></th>\n",
       "      <th></th>\n",
       "    </tr>\n",
       "  </thead>\n",
       "  <tbody>\n",
       "    <tr>\n",
       "      <th>2023-01-02</th>\n",
       "      <td>34650</td>\n",
       "      <td>34950</td>\n",
       "      <td>32000</td>\n",
       "      <td>32600</td>\n",
       "      <td>537307</td>\n",
       "      <td>-0.053701</td>\n",
       "      <td>0.000000</td>\n",
       "      <td>0.000000</td>\n",
       "      <td>32600.000000</td>\n",
       "    </tr>\n",
       "    <tr>\n",
       "      <th>2023-01-03</th>\n",
       "      <td>37600</td>\n",
       "      <td>42350</td>\n",
       "      <td>35700</td>\n",
       "      <td>41550</td>\n",
       "      <td>12696270</td>\n",
       "      <td>0.274540</td>\n",
       "      <td>4624.666044</td>\n",
       "      <td>4624.666044</td>\n",
       "      <td>37224.666044</td>\n",
       "    </tr>\n",
       "    <tr>\n",
       "      <th>2023-01-04</th>\n",
       "      <td>42550</td>\n",
       "      <td>47350</td>\n",
       "      <td>41550</td>\n",
       "      <td>46900</td>\n",
       "      <td>7817245</td>\n",
       "      <td>0.128761</td>\n",
       "      <td>3573.151786</td>\n",
       "      <td>8197.817830</td>\n",
       "      <td>40797.817830</td>\n",
       "    </tr>\n",
       "    <tr>\n",
       "      <th>2023-01-05</th>\n",
       "      <td>46050</td>\n",
       "      <td>50200</td>\n",
       "      <td>45650</td>\n",
       "      <td>46950</td>\n",
       "      <td>5728586</td>\n",
       "      <td>0.001066</td>\n",
       "      <td>2250.127373</td>\n",
       "      <td>10447.945203</td>\n",
       "      <td>43047.945203</td>\n",
       "    </tr>\n",
       "    <tr>\n",
       "      <th>2023-01-06</th>\n",
       "      <td>46500</td>\n",
       "      <td>53600</td>\n",
       "      <td>46450</td>\n",
       "      <td>48200</td>\n",
       "      <td>6654312</td>\n",
       "      <td>0.026624</td>\n",
       "      <td>1128.886362</td>\n",
       "      <td>11576.831564</td>\n",
       "      <td>44176.831564</td>\n",
       "    </tr>\n",
       "    <tr>\n",
       "      <th>...</th>\n",
       "      <td>...</td>\n",
       "      <td>...</td>\n",
       "      <td>...</td>\n",
       "      <td>...</td>\n",
       "      <td>...</td>\n",
       "      <td>...</td>\n",
       "      <td>...</td>\n",
       "      <td>...</td>\n",
       "      <td>...</td>\n",
       "    </tr>\n",
       "    <tr>\n",
       "      <th>2023-12-21</th>\n",
       "      <td>172000</td>\n",
       "      <td>184300</td>\n",
       "      <td>170100</td>\n",
       "      <td>177300</td>\n",
       "      <td>881801</td>\n",
       "      <td>0.018966</td>\n",
       "      <td>-1303.158391</td>\n",
       "      <td>140934.972000</td>\n",
       "      <td>173534.972000</td>\n",
       "    </tr>\n",
       "    <tr>\n",
       "      <th>2023-12-22</th>\n",
       "      <td>179100</td>\n",
       "      <td>179300</td>\n",
       "      <td>172900</td>\n",
       "      <td>173400</td>\n",
       "      <td>309638</td>\n",
       "      <td>-0.021997</td>\n",
       "      <td>60.591585</td>\n",
       "      <td>140995.563585</td>\n",
       "      <td>173595.563585</td>\n",
       "    </tr>\n",
       "    <tr>\n",
       "      <th>2023-12-26</th>\n",
       "      <td>173000</td>\n",
       "      <td>173000</td>\n",
       "      <td>167600</td>\n",
       "      <td>170400</td>\n",
       "      <td>282521</td>\n",
       "      <td>-0.017301</td>\n",
       "      <td>0.000000</td>\n",
       "      <td>140995.563585</td>\n",
       "      <td>173595.563585</td>\n",
       "    </tr>\n",
       "    <tr>\n",
       "      <th>2023-12-27</th>\n",
       "      <td>170100</td>\n",
       "      <td>177200</td>\n",
       "      <td>168400</td>\n",
       "      <td>175500</td>\n",
       "      <td>357091</td>\n",
       "      <td>0.029930</td>\n",
       "      <td>355.277933</td>\n",
       "      <td>141350.841519</td>\n",
       "      <td>173950.841519</td>\n",
       "    </tr>\n",
       "    <tr>\n",
       "      <th>2023-12-28</th>\n",
       "      <td>173900</td>\n",
       "      <td>177000</td>\n",
       "      <td>173200</td>\n",
       "      <td>176000</td>\n",
       "      <td>207611</td>\n",
       "      <td>0.002849</td>\n",
       "      <td>326.236835</td>\n",
       "      <td>141677.078354</td>\n",
       "      <td>174277.078354</td>\n",
       "    </tr>\n",
       "  </tbody>\n",
       "</table>\n",
       "<p>245 rows × 9 columns</p>\n",
       "</div>"
      ],
      "text/plain": [
       "              Open    High     Low   Close    Volume    Change  \\\n",
       "Date                                                             \n",
       "2023-01-02   34650   34950   32000   32600    537307 -0.053701   \n",
       "2023-01-03   37600   42350   35700   41550  12696270  0.274540   \n",
       "2023-01-04   42550   47350   41550   46900   7817245  0.128761   \n",
       "2023-01-05   46050   50200   45650   46950   5728586  0.001066   \n",
       "2023-01-06   46500   53600   46450   48200   6654312  0.026624   \n",
       "...            ...     ...     ...     ...       ...       ...   \n",
       "2023-12-21  172000  184300  170100  177300    881801  0.018966   \n",
       "2023-12-22  179100  179300  172900  173400    309638 -0.021997   \n",
       "2023-12-26  173000  173000  167600  170400    282521 -0.017301   \n",
       "2023-12-27  170100  177200  168400  175500    357091  0.029930   \n",
       "2023-12-28  173900  177000  173200  176000    207611  0.002849   \n",
       "\n",
       "            Sentiment_Total  Sentiment_Total_Cumulative  \\\n",
       "Date                                                      \n",
       "2023-01-02         0.000000                    0.000000   \n",
       "2023-01-03      4624.666044                 4624.666044   \n",
       "2023-01-04      3573.151786                 8197.817830   \n",
       "2023-01-05      2250.127373                10447.945203   \n",
       "2023-01-06      1128.886362                11576.831564   \n",
       "...                     ...                         ...   \n",
       "2023-12-21     -1303.158391               140934.972000   \n",
       "2023-12-22        60.591585               140995.563585   \n",
       "2023-12-26         0.000000               140995.563585   \n",
       "2023-12-27       355.277933               141350.841519   \n",
       "2023-12-28       326.236835               141677.078354   \n",
       "\n",
       "            Sentiment_Total_Cumulative_Offset  \n",
       "Date                                           \n",
       "2023-01-02                       32600.000000  \n",
       "2023-01-03                       37224.666044  \n",
       "2023-01-04                       40797.817830  \n",
       "2023-01-05                       43047.945203  \n",
       "2023-01-06                       44176.831564  \n",
       "...                                       ...  \n",
       "2023-12-21                      173534.972000  \n",
       "2023-12-22                      173595.563585  \n",
       "2023-12-26                      173595.563585  \n",
       "2023-12-27                      173950.841519  \n",
       "2023-12-28                      174277.078354  \n",
       "\n",
       "[245 rows x 9 columns]"
      ]
     },
     "execution_count": 6,
     "metadata": {},
     "output_type": "execute_result"
    }
   ],
   "source": [
    "rb_stock"
   ]
  },
  {
   "cell_type": "markdown",
   "metadata": {},
   "source": [
    "### 감성분석 결과 기반 경향선과 주가 데이터 최적경향선 비교"
   ]
  },
  {
   "cell_type": "code",
   "execution_count": 7,
   "metadata": {},
   "outputs": [
    {
     "data": {
      "image/png": "[encoded data removed]",
      "text/plain": [
       "<Figure size 1200x600 with 1 Axes>"
      ]
     },
     "metadata": {},
     "output_type": "display_data"
    }
   ],
   "source": [
    "import FinanceDataReader as fdr\n",
    "import seaborn as sns\n",
    "import matplotlib.pyplot as plt\n",
    "\n",
    "rb_stock = fdr.DataReader('277810', '2023-01-01', '2023-12-31')\n",
    "\n",
    "# 감성분석 결과의 크기 scaling\n",
    "scaling_factor = 58\n",
    "df_rb['Sentiment_Total'] = df_rb['total'] * scaling_factor\n",
    "\n",
    "rb_stock = rb_stock.sort_index()\n",
    "df_rb = df_rb.sort_index()\n",
    "\n",
    "# 날짜를 일로 나타내는 정수로 변환\n",
    "rb_stock['Date_Integer'] = (rb_stock.index - rb_stock.index.min()).days\n",
    "df_rb['Date_Integer'] = (df_rb.index - df_rb.index.min()).days\n",
    "\n",
    "# 주식 데이터와 감성분석 결과 날짜기준 병합\n",
    "merged_data = pd.merge(rb_stock, df_rb, left_on='Date_Integer', right_on='Date_Integer', how='left')\n",
    "\n",
    "# 결측치 처리\n",
    "merged_data['Sentiment_Total'] = merged_data['Sentiment_Total'].fillna(0)\n",
    "\n",
    "# 감성분석 결과기반 1차 함수의 계수 및 y값 계산\n",
    "coeff = np.polyfit(merged_data['Date_Integer'], merged_data['Sentiment_Total'].cumsum(), 1)\n",
    "merged_data['Sentiment_Linear'] = np.polyval(coeff, merged_data['Date_Integer'])\n",
    "\n",
    "# 오프셋 설정\n",
    "offset = merged_data['Close'].mean() - merged_data['Sentiment_Linear'].iloc[len(merged_data) // 2]\n",
    "merged_data['Sentiment_Linear_Offset'] = merged_data['Sentiment_Linear'] + offset\n",
    "\n",
    "plt.figure(figsize=(12, 6))\n",
    "plt.plot(merged_data['Close'], label='레인보우로보틱스 주가', color='blue')\n",
    "plt.plot(merged_data['Sentiment_Linear_Offset'], label='감성분석 경향선', linestyle='--', color='orange')\n",
    "plt.title('레인보우로보틱스 주가 예측 비교')\n",
    "plt.xlabel('날짜')\n",
    "plt.ylabel('주가')\n",
    "plt.legend()\n",
    "plt.show()\n"
   ]
  },
  {
   "cell_type": "code",
   "execution_count": 8,
   "metadata": {},
   "outputs": [
    {
     "data": {
      "text/html": [
       "        <script type=\"text/javascript\">\n",
       "        window.PlotlyConfig = {MathJaxConfig: 'local'};\n",
       "        if (window.MathJax && window.MathJax.Hub && window.MathJax.Hub.Config) {window.MathJax.Hub.Config({SVG: {font: \"STIX-Web\"}});}\n",
       "        if (typeof require !== 'undefined') {\n",
       "        require.undef(\"plotly\");\n",
       "        requirejs.config({\n",
       "            paths: {\n",
       "                'plotly': ['https://cdn.plot.ly/plotly-2.27.0.min']\n",
       "            }\n",
       "        });\n",
       "        require(['plotly'], function(Plotly) {\n",
       "            window._Plotly = Plotly;\n",
       "        });\n",
       "        }\n",
       "        </script>\n",
       "        "
      ]
     },
     "metadata": {},
     "output_type": "display_data"
    },
    {
     "data": {
      "application/vnd.plotly.v1+json": {
       "config": {
        "linkText": "Export to plot.ly",
        "plotlyServerURL": "https://plot.ly",
        "showLink": true
       },
       "data": [
        {
         "line": {
          "color": "rgba(255, 153, 51, 1.0)",
          "dash": "solid",
          "shape": "linear",
          "width": 1.3
         },
         "mode": "lines",
         "name": "Close",
         "text": "",
         "type": "scatter",
         "x": [
          "2023-01-02",
          "2023-01-03",
          "2023-01-04",
          "2023-01-05",
          "2023-01-06",
          "2023-01-09",
          "2023-01-10",
          "2023-01-11",
          "2023-01-12",
          "2023-01-13",
          "2023-01-16",
          "2023-01-17",
          "2023-01-18",
          "2023-01-19",
          "2023-01-20",
          "2023-01-25",
          "2023-01-26",
          "2023-01-27",
          "2023-01-30",
          "2023-01-31",
          "2023-02-01",
          "2023-02-02",
          "2023-02-03",
          "2023-02-06",
          "2023-02-07",
          "2023-02-08",
          "2023-02-09",
          "2023-02-10",
          "2023-02-13",
          "2023-02-14",
          "2023-02-15",
          "2023-02-16",
          "2023-02-17",
          "2023-02-20",
          "2023-02-21",
          "2023-02-22",
          "2023-02-23",
          "2023-02-24",
          "2023-02-27",
          "2023-02-28",
          "2023-03-02",
          "2023-03-03",
          "2023-03-06",
          "2023-03-07",
          "2023-03-08",
          "2023-03-09",
          "2023-03-10",
          "2023-03-13",
          "2023-03-14",
          "2023-03-15",
          "2023-03-16",
          "2023-03-17",
          "2023-03-20",
          "2023-03-21",
          "2023-03-22",
          "2023-03-23",
          "2023-03-24",
          "2023-03-27",
          "2023-03-28",
          "2023-03-29",
          "2023-03-30",
          "2023-03-31",
          "2023-04-03",
          "2023-04-04",
          "2023-04-05",
          "2023-04-06",
          "2023-04-07",
          "2023-04-10",
          "2023-04-11",
          "2023-04-12",
          "2023-04-13",
          "2023-04-14",
          "2023-04-17",
          "2023-04-18",
          "2023-04-19",
          "2023-04-20",
          "2023-04-21",
          "2023-04-24",
          "2023-04-25",
          "2023-04-26",
          "2023-04-27",
          "2023-04-28",
          "2023-05-02",
          "2023-05-03",
          "2023-05-04",
          "2023-05-08",
          "2023-05-09",
          "2023-05-10",
          "2023-05-11",
          "2023-05-12",
          "2023-05-15",
          "2023-05-16",
          "2023-05-17",
          "2023-05-18",
          "2023-05-19",
          "2023-05-22",
          "2023-05-23",
          "2023-05-24",
          "2023-05-25",
          "2023-05-26",
          "2023-05-30",
          "2023-05-31",
          "2023-06-01",
          "2023-06-02",
          "2023-06-05",
          "2023-06-07",
          "2023-06-08",
          "2023-06-09",
          "2023-06-12",
          "2023-06-13",
          "2023-06-14",
          "2023-06-15",
          "2023-06-16",
          "2023-06-19",
          "2023-06-20",
          "2023-06-21",
          "2023-06-22",
          "2023-06-23",
          "2023-06-26",
          "2023-06-27",
          "2023-06-28",
          "2023-06-29",
          "2023-06-30",
          "2023-07-03",
          "2023-07-04",
          "2023-07-05",
          "2023-07-06",
          "2023-07-07",
          "2023-07-10",
          "2023-07-11",
          "2023-07-12",
          "2023-07-13",
          "2023-07-14",
          "2023-07-17",
          "2023-07-18",
          "2023-07-19",
          "2023-07-20",
          "2023-07-21",
          "2023-07-24",
          "2023-07-25",
          "2023-07-26",
          "2023-07-27",
          "2023-07-28",
          "2023-07-31",
          "2023-08-01",
          "2023-08-02",
          "2023-08-03",
          "2023-08-04",
          "2023-08-07",
          "2023-08-08",
          "2023-08-09",
          "2023-08-10",
          "2023-08-11",
          "2023-08-14",
          "2023-08-16",
          "2023-08-17",
          "2023-08-18",
          "2023-08-21",
          "2023-08-22",
          "2023-08-23",
          "2023-08-24",
          "2023-08-25",
          "2023-08-28",
          "2023-08-29",
          "2023-08-30",
          "2023-08-31",
          "2023-09-01",
          "2023-09-04",
          "2023-09-05",
          "2023-09-06",
          "2023-09-07",
          "2023-09-08",
          "2023-09-11",
          "2023-09-12",
          "2023-09-13",
          "2023-09-14",
          "2023-09-15",
          "2023-09-18",
          "2023-09-19",
          "2023-09-20",
          "2023-09-21",
          "2023-09-22",
          "2023-09-25",
          "2023-09-26",
          "2023-09-27",
          "2023-10-04",
          "2023-10-05",
          "2023-10-06",
          "2023-10-10",
          "2023-10-11",
          "2023-10-12",
          "2023-10-13",
          "2023-10-16",
          "2023-10-17",
          "2023-10-18",
          "2023-10-19",
          "2023-10-20",
          "2023-10-23",
          "2023-10-24",
          "2023-10-25",
          "2023-10-26",
          "2023-10-27",
          "2023-10-30",
          "2023-10-31",
          "2023-11-01",
          "2023-11-02",
          "2023-11-03",
          "2023-11-06",
          "2023-11-07",
          "2023-11-08",
          "2023-11-09",
          "2023-11-10",
          "2023-11-13",
          "2023-11-14",
          "2023-11-15",
          "2023-11-16",
          "2023-11-17",
          "2023-11-20",
          "2023-11-21",
          "2023-11-22",
          "2023-11-23",
          "2023-11-24",
          "2023-11-27",
          "2023-11-28",
          "2023-11-29",
          "2023-11-30",
          "2023-12-01",
          "2023-12-04",
          "2023-12-05",
          "2023-12-06",
          "2023-12-07",
          "2023-12-08",
          "2023-12-11",
          "2023-12-12",
          "2023-12-13",
          "2023-12-14",
          "2023-12-15",
          "2023-12-18",
          "2023-12-19",
          "2023-12-20",
          "2023-12-21",
          "2023-12-22",
          "2023-12-26",
          "2023-12-27",
          "2023-12-28"
         ],
         "y": [
          32600,
          41550,
          46900,
          46950,
          48200,
          52700,
          52000,
          53700,
          49750,
          54700,
          56700,
          63200,
          61700,
          61700,
          67100,
          87200,
          78100,
          80600,
          79300,
          78200,
          78200,
          82000,
          79200,
          75800,
          76400,
          76200,
          73200,
          71500,
          76500,
          75100,
          71100,
          71500,
          70800,
          73500,
          72800,
          72300,
          78600,
          78800,
          92900,
          92600,
          90100,
          90000,
          90800,
          90200,
          88600,
          85300,
          82200,
          83000,
          77100,
          86400,
          112300,
          120700,
          122800,
          131700,
          132000,
          142900,
          139000,
          139700,
          137800,
          134700,
          137500,
          126800,
          125100,
          120000,
          119300,
          113100,
          119600,
          114800,
          118500,
          114600,
          111700,
          110700,
          111400,
          106500,
          104600,
          102000,
          103700,
          101100,
          101900,
          97900,
          98900,
          96100,
          102100,
          100100,
          100700,
          102900,
          110500,
          108800,
          114900,
          115500,
          108000,
          100900,
          101400,
          104700,
          105400,
          103000,
          104700,
          102900,
          103000,
          101500,
          105500,
          103900,
          104200,
          104800,
          107300,
          111000,
          109000,
          109200,
          102100,
          100800,
          99100,
          99700,
          99200,
          97800,
          95600,
          92500,
          97000,
          95000,
          93000,
          94200,
          92800,
          91100,
          91700,
          94600,
          95000,
          95500,
          92200,
          91100,
          89600,
          92100,
          91100,
          90400,
          91400,
          98400,
          93500,
          95400,
          97900,
          98700,
          104100,
          99600,
          93000,
          95500,
          99800,
          113900,
          119000,
          115300,
          111300,
          134000,
          141000,
          144500,
          142800,
          138000,
          137000,
          139000,
          121100,
          119600,
          114000,
          111100,
          108900,
          108200,
          112100,
          107800,
          115300,
          117700,
          116600,
          151500,
          162800,
          162500,
          175200,
          175500,
          190000,
          212000,
          212500,
          195800,
          189000,
          198600,
          181800,
          178200,
          172900,
          175000,
          164000,
          166600,
          164800,
          164500,
          168600,
          155000,
          142000,
          139400,
          133800,
          132200,
          142000,
          141200,
          133800,
          142600,
          145900,
          138400,
          130300,
          133100,
          134100,
          130000,
          131100,
          131500,
          138700,
          141000,
          139600,
          143300,
          153200,
          175200,
          166100,
          167300,
          163800,
          150600,
          151000,
          151000,
          158400,
          166100,
          161400,
          167500,
          167300,
          161100,
          163400,
          164300,
          161500,
          190200,
          177100,
          177400,
          168200,
          162600,
          157400,
          159900,
          154900,
          163900,
          172600,
          172800,
          168400,
          177400,
          181000,
          183400,
          175700,
          174000,
          177300,
          173400,
          170400,
          175500,
          176000
         ]
        },
        {
         "line": {
          "color": "rgba(55, 128, 191, 1.0)",
          "dash": "dash",
          "shape": "linear",
          "width": 3
         },
         "mode": "lines",
         "name": "435.91*x+65318.18",
         "type": "scatter",
         "x": [
          "2023-01-02",
          "2023-01-03",
          "2023-01-04",
          "2023-01-05",
          "2023-01-06",
          "2023-01-09",
          "2023-01-10",
          "2023-01-11",
          "2023-01-12",
          "2023-01-13",
          "2023-01-16",
          "2023-01-17",
          "2023-01-18",
          "2023-01-19",
          "2023-01-20",
          "2023-01-25",
          "2023-01-26",
          "2023-01-27",
          "2023-01-30",
          "2023-01-31",
          "2023-02-01",
          "2023-02-02",
          "2023-02-03",
          "2023-02-06",
          "2023-02-07",
          "2023-02-08",
          "2023-02-09",
          "2023-02-10",
          "2023-02-13",
          "2023-02-14",
          "2023-02-15",
          "2023-02-16",
          "2023-02-17",
          "2023-02-20",
          "2023-02-21",
          "2023-02-22",
          "2023-02-23",
          "2023-02-24",
          "2023-02-27",
          "2023-02-28",
          "2023-03-02",
          "2023-03-03",
          "2023-03-06",
          "2023-03-07",
          "2023-03-08",
          "2023-03-09",
          "2023-03-10",
          "2023-03-13",
          "2023-03-14",
          "2023-03-15",
          "2023-03-16",
          "2023-03-17",
          "2023-03-20",
          "2023-03-21",
          "2023-03-22",
          "2023-03-23",
          "2023-03-24",
          "2023-03-27",
          "2023-03-28",
          "2023-03-29",
          "2023-03-30",
          "2023-03-31",
          "2023-04-03",
          "2023-04-04",
          "2023-04-05",
          "2023-04-06",
          "2023-04-07",
          "2023-04-10",
          "2023-04-11",
          "2023-04-12",
          "2023-04-13",
          "2023-04-14",
          "2023-04-17",
          "2023-04-18",
          "2023-04-19",
          "2023-04-20",
          "2023-04-21",
          "2023-04-24",
          "2023-04-25",
          "2023-04-26",
          "2023-04-27",
          "2023-04-28",
          "2023-05-02",
          "2023-05-03",
          "2023-05-04",
          "2023-05-08",
          "2023-05-09",
          "2023-05-10",
          "2023-05-11",
          "2023-05-12",
          "2023-05-15",
          "2023-05-16",
          "2023-05-17",
          "2023-05-18",
          "2023-05-19",
          "2023-05-22",
          "2023-05-23",
          "2023-05-24",
          "2023-05-25",
          "2023-05-26",
          "2023-05-30",
          "2023-05-31",
          "2023-06-01",
          "2023-06-02",
          "2023-06-05",
          "2023-06-07",
          "2023-06-08",
          "2023-06-09",
          "2023-06-12",
          "2023-06-13",
          "2023-06-14",
          "2023-06-15",
          "2023-06-16",
          "2023-06-19",
          "2023-06-20",
          "2023-06-21",
          "2023-06-22",
          "2023-06-23",
          "2023-06-26",
          "2023-06-27",
          "2023-06-28",
          "2023-06-29",
          "2023-06-30",
          "2023-07-03",
          "2023-07-04",
          "2023-07-05",
          "2023-07-06",
          "2023-07-07",
          "2023-07-10",
          "2023-07-11",
          "2023-07-12",
          "2023-07-13",
          "2023-07-14",
          "2023-07-17",
          "2023-07-18",
          "2023-07-19",
          "2023-07-20",
          "2023-07-21",
          "2023-07-24",
          "2023-07-25",
          "2023-07-26",
          "2023-07-27",
          "2023-07-28",
          "2023-07-31",
          "2023-08-01",
          "2023-08-02",
          "2023-08-03",
          "2023-08-04",
          "2023-08-07",
          "2023-08-08",
          "2023-08-09",
          "2023-08-10",
          "2023-08-11",
          "2023-08-14",
          "2023-08-16",
          "2023-08-17",
          "2023-08-18",
          "2023-08-21",
          "2023-08-22",
          "2023-08-23",
          "2023-08-24",
          "2023-08-25",
          "2023-08-28",
          "2023-08-29",
          "2023-08-30",
          "2023-08-31",
          "2023-09-01",
          "2023-09-04",
          "2023-09-05",
          "2023-09-06",
          "2023-09-07",
          "2023-09-08",
          "2023-09-11",
          "2023-09-12",
          "2023-09-13",
          "2023-09-14",
          "2023-09-15",
          "2023-09-18",
          "2023-09-19",
          "2023-09-20",
          "2023-09-21",
          "2023-09-22",
          "2023-09-25",
          "2023-09-26",
          "2023-09-27",
          "2023-10-04",
          "2023-10-05",
          "2023-10-06",
          "2023-10-10",
          "2023-10-11",
          "2023-10-12",
          "2023-10-13",
          "2023-10-16",
          "2023-10-17",
          "2023-10-18",
          "2023-10-19",
          "2023-10-20",
          "2023-10-23",
          "2023-10-24",
          "2023-10-25",
          "2023-10-26",
          "2023-10-27",
          "2023-10-30",
          "2023-10-31",
          "2023-11-01",
          "2023-11-02",
          "2023-11-03",
          "2023-11-06",
          "2023-11-07",
          "2023-11-08",
          "2023-11-09",
          "2023-11-10",
          "2023-11-13",
          "2023-11-14",
          "2023-11-15",
          "2023-11-16",
          "2023-11-17",
          "2023-11-20",
          "2023-11-21",
          "2023-11-22",
          "2023-11-23",
          "2023-11-24",
          "2023-11-27",
          "2023-11-28",
          "2023-11-29",
          "2023-11-30",
          "2023-12-01",
          "2023-12-04",
          "2023-12-05",
          "2023-12-06",
          "2023-12-07",
          "2023-12-08",
          "2023-12-11",
          "2023-12-12",
          "2023-12-13",
          "2023-12-14",
          "2023-12-15",
          "2023-12-18",
          "2023-12-19",
          "2023-12-20",
          "2023-12-21",
          "2023-12-22",
          "2023-12-26",
          "2023-12-27",
          "2023-12-28"
         ],
         "y": [
          65754.09158785467,
          66189.99983679998,
          66625.90808574531,
          67061.81633469062,
          67497.72458363595,
          67933.63283258126,
          68369.54108152658,
          68805.4493304719,
          69241.35757941722,
          69677.26582836255,
          70113.17407730786,
          70549.08232625318,
          70984.9905751985,
          71420.89882414382,
          71856.80707308915,
          72292.71532203446,
          72728.62357097978,
          73164.5318199251,
          73600.44006887042,
          74036.34831781575,
          74472.25656676106,
          74908.16481570638,
          75344.0730646517,
          75779.98131359702,
          76215.88956254235,
          76651.79781148766,
          77087.70606043297,
          77523.6143093783,
          77959.52255832362,
          78395.43080726895,
          78831.33905621426,
          79267.24730515957,
          79703.1555541049,
          80139.06380305022,
          80574.97205199554,
          81010.88030094086,
          81446.78854988617,
          81882.6967988315,
          82318.60504777681,
          82754.51329672214,
          83190.42154566746,
          83626.32979461277,
          84062.2380435581,
          84498.14629250341,
          84934.05454144874,
          85369.96279039406,
          85805.87103933937,
          86241.7792882847,
          86677.68753723001,
          87113.59578617534,
          87549.50403512066,
          87985.41228406597,
          88421.3205330113,
          88857.22878195661,
          89293.13703090194,
          89729.04527984725,
          90164.95352879257,
          90600.8617777379,
          91036.77002668321,
          91472.67827562854,
          91908.58652457385,
          92344.49477351917,
          92780.4030224645,
          93216.31127140981,
          93652.21952035514,
          94088.12776930045,
          94524.03601824577,
          94959.9442671911,
          95395.85251613641,
          95831.76076508174,
          96267.66901402705,
          96703.57726297237,
          97139.4855119177,
          97575.39376086301,
          98011.30200980834,
          98447.21025875365,
          98883.11850769896,
          99319.02675664429,
          99754.93500558962,
          100190.84325453494,
          100626.75150348025,
          101062.65975242556,
          101498.56800137089,
          101934.47625031622,
          102370.38449926153,
          102806.29274820685,
          103242.20099715216,
          103678.10924609749,
          104114.01749504282,
          104549.92574398813,
          104985.83399293345,
          105421.74224187876,
          105857.65049082409,
          106293.55873976942,
          106729.46698871473,
          107165.37523766005,
          107601.28348660536,
          108037.19173555069,
          108473.09998449602,
          108909.00823344133,
          109344.91648238664,
          109780.82473133196,
          110216.73298027729,
          110652.64122922262,
          111088.54947816793,
          111524.45772711324,
          111960.36597605856,
          112396.27422500389,
          112832.18247394921,
          113268.09072289453,
          113703.99897183984,
          114139.90722078516,
          114575.81546973049,
          115011.72371867581,
          115447.63196762113,
          115883.54021656644,
          116319.44846551176,
          116755.35671445708,
          117191.26496340241,
          117627.17321234773,
          118063.08146129304,
          118498.98971023835,
          118934.89795918368,
          119370.80620812901,
          119806.71445707433,
          120242.62270601964,
          120678.53095496495,
          121114.43920391028,
          121550.34745285561,
          121986.25570180092,
          122422.16395074624,
          122858.07219969155,
          123293.98044863688,
          123729.88869758221,
          124165.79694652752,
          124601.70519547284,
          125037.61344441815,
          125473.52169336348,
          125909.42994230881,
          126345.33819125412,
          126781.24644019944,
          127217.15468914475,
          127653.06293809008,
          128088.97118703541,
          128524.87943598072,
          128960.78768492604,
          129396.69593387135,
          129832.60418281668,
          130268.512431762,
          130704.42068070732,
          131140.32892965263,
          131576.23717859795,
          132012.1454275433,
          132448.0536764886,
          132883.96192543392,
          133319.87017437923,
          133755.77842332455,
          134191.6866722699,
          134627.5949212152,
          135063.50317016052,
          135499.41141910583,
          135935.31966805115,
          136371.2279169965,
          136807.1361659418,
          137243.04441488712,
          137678.95266383243,
          138114.86091277775,
          138550.7691617231,
          138986.6774106684,
          139422.58565961372,
          139858.49390855903,
          140294.40215750434,
          140730.3104064497,
          141166.218655395,
          141602.12690434032,
          142038.03515328563,
          142473.94340223094,
          142909.8516511763,
          143345.7599001216,
          143781.6681490669,
          144217.57639801223,
          144653.48464695754,
          145089.39289590289,
          145525.3011448482,
          145961.2093937935,
          146397.11764273883,
          146833.02589168414,
          147268.93414062948,
          147704.8423895748,
          148140.7506385201,
          148576.65888746543,
          149012.56713641074,
          149448.47538535608,
          149884.3836343014,
          150320.2918832467,
          150756.20013219203,
          151192.10838113734,
          151628.01663008268,
          152063.924879028,
          152499.8331279733,
          152935.74137691862,
          153371.64962586394,
          153807.55787480928,
          154243.4661237546,
          154679.3743726999,
          155115.28262164522,
          155551.19087059054,
          155987.09911953588,
          156423.0073684812,
          156858.9156174265,
          157294.82386637182,
          157730.73211531714,
          158166.64036426248,
          158602.5486132078,
          159038.4568621531,
          159474.36511109842,
          159910.27336004374,
          160346.18160898908,
          160782.0898579344,
          161217.9981068797,
          161653.90635582502,
          162089.81460477033,
          162525.72285371568,
          162961.631102661,
          163397.5393516063,
          163833.44760055162,
          164269.35584949693,
          164705.26409844228,
          165141.1723473876,
          165577.0805963329,
          166012.98884527822,
          166448.89709422353,
          166884.80534316887,
          167320.7135921142,
          167756.6218410595,
          168192.53009000482,
          168628.43833895013,
          169064.34658789547,
          169500.2548368408,
          169936.1630857861,
          170372.07133473142,
          170807.97958367673,
          171243.88783262207,
          171679.7960815674,
          172115.7043305127
         ]
        }
       ],
       "layout": {
        "legend": {
         "bgcolor": "#F5F6F9",
         "font": {
          "color": "#4D5663"
         }
        },
        "paper_bgcolor": "#F5F6F9",
        "plot_bgcolor": "#F5F6F9",
        "template": {
         "data": {
          "bar": [
           {
            "error_x": {
             "color": "#2a3f5f"
            },
            "error_y": {
             "color": "#2a3f5f"
            },
            "marker": {
             "line": {
              "color": "#E5ECF6",
              "width": 0.5
             },
             "pattern": {
              "fillmode": "overlay",
              "size": 10,
              "solidity": 0.2
             }
            },
            "type": "bar"
           }
          ],
          "barpolar": [
           {
            "marker": {
             "line": {
              "color": "#E5ECF6",
              "width": 0.5
             },
             "pattern": {
              "fillmode": "overlay",
              "size": 10,
              "solidity": 0.2
             }
            },
            "type": "barpolar"
           }
          ],
          "carpet": [
           {
            "aaxis": {
             "endlinecolor": "#2a3f5f",
             "gridcolor": "white",
             "linecolor": "white",
             "minorgridcolor": "white",
             "startlinecolor": "#2a3f5f"
            },
            "baxis": {
             "endlinecolor": "#2a3f5f",
             "gridcolor": "white",
             "linecolor": "white",
             "minorgridcolor": "white",
             "startlinecolor": "#2a3f5f"
            },
            "type": "carpet"
           }
          ],
          "choropleth": [
           {
            "colorbar": {
             "outlinewidth": 0,
             "ticks": ""
            },
            "type": "choropleth"
           }
          ],
          "contour": [
           {
            "colorbar": {
             "outlinewidth": 0,
             "ticks": ""
            },
            "colorscale": [
             [
              0,
              "#0d0887"
             ],
             [
              0.1111111111111111,
              "#46039f"
             ],
             [
              0.2222222222222222,
              "#7201a8"
             ],
             [
              0.3333333333333333,
              "#9c179e"
             ],
             [
              0.4444444444444444,
              "#bd3786"
             ],
             [
              0.5555555555555556,
              "#d8576b"
             ],
             [
              0.6666666666666666,
              "#ed7953"
             ],
             [
              0.7777777777777778,
              "#fb9f3a"
             ],
             [
              0.8888888888888888,
              "#fdca26"
             ],
             [
              1,
              "#f0f921"
             ]
            ],
            "type": "contour"
           }
          ],
          "contourcarpet": [
           {
            "colorbar": {
             "outlinewidth": 0,
             "ticks": ""
            },
            "type": "contourcarpet"
           }
          ],
          "heatmap": [
           {
            "colorbar": {
             "outlinewidth": 0,
             "ticks": ""
            },
            "colorscale": [
             [
              0,
              "#0d0887"
             ],
             [
              0.1111111111111111,
              "#46039f"
             ],
             [
              0.2222222222222222,
              "#7201a8"
             ],
             [
              0.3333333333333333,
              "#9c179e"
             ],
             [
              0.4444444444444444,
              "#bd3786"
             ],
             [
              0.5555555555555556,
              "#d8576b"
             ],
             [
              0.6666666666666666,
              "#ed7953"
             ],
             [
              0.7777777777777778,
              "#fb9f3a"
             ],
             [
              0.8888888888888888,
              "#fdca26"
             ],
             [
              1,
              "#f0f921"
             ]
            ],
            "type": "heatmap"
           }
          ],
          "heatmapgl": [
           {
            "colorbar": {
             "outlinewidth": 0,
             "ticks": ""
            },
            "colorscale": [
             [
              0,
              "#0d0887"
             ],
             [
              0.1111111111111111,
              "#46039f"
             ],
             [
              0.2222222222222222,
              "#7201a8"
             ],
             [
              0.3333333333333333,
              "#9c179e"
             ],
             [
              0.4444444444444444,
              "#bd3786"
             ],
             [
              0.5555555555555556,
              "#d8576b"
             ],
             [
              0.6666666666666666,
              "#ed7953"
             ],
             [
              0.7777777777777778,
              "#fb9f3a"
             ],
             [
              0.8888888888888888,
              "#fdca26"
             ],
             [
              1,
              "#f0f921"
             ]
            ],
            "type": "heatmapgl"
           }
          ],
          "histogram": [
           {
            "marker": {
             "pattern": {
              "fillmode": "overlay",
              "size": 10,
              "solidity": 0.2
             }
            },
            "type": "histogram"
           }
          ],
          "histogram2d": [
           {
            "colorbar": {
             "outlinewidth": 0,
             "ticks": ""
            },
            "colorscale": [
             [
              0,
              "#0d0887"
             ],
             [
              0.1111111111111111,
              "#46039f"
             ],
             [
              0.2222222222222222,
              "#7201a8"
             ],
             [
              0.3333333333333333,
              "#9c179e"
             ],
             [
              0.4444444444444444,
              "#bd3786"
             ],
             [
              0.5555555555555556,
              "#d8576b"
             ],
             [
              0.6666666666666666,
              "#ed7953"
             ],
             [
              0.7777777777777778,
              "#fb9f3a"
             ],
             [
              0.8888888888888888,
              "#fdca26"
             ],
             [
              1,
              "#f0f921"
             ]
            ],
            "type": "histogram2d"
           }
          ],
          "histogram2dcontour": [
           {
            "colorbar": {
             "outlinewidth": 0,
             "ticks": ""
            },
            "colorscale": [
             [
              0,
              "#0d0887"
             ],
             [
              0.1111111111111111,
              "#46039f"
             ],
             [
              0.2222222222222222,
              "#7201a8"
             ],
             [
              0.3333333333333333,
              "#9c179e"
             ],
             [
              0.4444444444444444,
              "#bd3786"
             ],
             [
              0.5555555555555556,
              "#d8576b"
             ],
             [
              0.6666666666666666,
              "#ed7953"
             ],
             [
              0.7777777777777778,
              "#fb9f3a"
             ],
             [
              0.8888888888888888,
              "#fdca26"
             ],
             [
              1,
              "#f0f921"
             ]
            ],
            "type": "histogram2dcontour"
           }
          ],
          "mesh3d": [
           {
            "colorbar": {
             "outlinewidth": 0,
             "ticks": ""
            },
            "type": "mesh3d"
           }
          ],
          "parcoords": [
           {
            "line": {
             "colorbar": {
              "outlinewidth": 0,
              "ticks": ""
             }
            },
            "type": "parcoords"
           }
          ],
          "pie": [
           {
            "automargin": true,
            "type": "pie"
           }
          ],
          "scatter": [
           {
            "fillpattern": {
             "fillmode": "overlay",
             "size": 10,
             "solidity": 0.2
            },
            "type": "scatter"
           }
          ],
          "scatter3d": [
           {
            "line": {
             "colorbar": {
              "outlinewidth": 0,
              "ticks": ""
             }
            },
            "marker": {
             "colorbar": {
              "outlinewidth": 0,
              "ticks": ""
             }
            },
            "type": "scatter3d"
           }
          ],
          "scattercarpet": [
           {
            "marker": {
             "colorbar": {
              "outlinewidth": 0,
              "ticks": ""
             }
            },
            "type": "scattercarpet"
           }
          ],
          "scattergeo": [
           {
            "marker": {
             "colorbar": {
              "outlinewidth": 0,
              "ticks": ""
             }
            },
            "type": "scattergeo"
           }
          ],
          "scattergl": [
           {
            "marker": {
             "colorbar": {
              "outlinewidth": 0,
              "ticks": ""
             }
            },
            "type": "scattergl"
           }
          ],
          "scattermapbox": [
           {
            "marker": {
             "colorbar": {
              "outlinewidth": 0,
              "ticks": ""
             }
            },
            "type": "scattermapbox"
           }
          ],
          "scatterpolar": [
           {
            "marker": {
             "colorbar": {
              "outlinewidth": 0,
              "ticks": ""
             }
            },
            "type": "scatterpolar"
           }
          ],
          "scatterpolargl": [
           {
            "marker": {
             "colorbar": {
              "outlinewidth": 0,
              "ticks": ""
             }
            },
            "type": "scatterpolargl"
           }
          ],
          "scatterternary": [
           {
            "marker": {
             "colorbar": {
              "outlinewidth": 0,
              "ticks": ""
             }
            },
            "type": "scatterternary"
           }
          ],
          "surface": [
           {
            "colorbar": {
             "outlinewidth": 0,
             "ticks": ""
            },
            "colorscale": [
             [
              0,
              "#0d0887"
             ],
             [
              0.1111111111111111,
              "#46039f"
             ],
             [
              0.2222222222222222,
              "#7201a8"
             ],
             [
              0.3333333333333333,
              "#9c179e"
             ],
             [
              0.4444444444444444,
              "#bd3786"
             ],
             [
              0.5555555555555556,
              "#d8576b"
             ],
             [
              0.6666666666666666,
              "#ed7953"
             ],
             [
              0.7777777777777778,
              "#fb9f3a"
             ],
             [
              0.8888888888888888,
              "#fdca26"
             ],
             [
              1,
              "#f0f921"
             ]
            ],
            "type": "surface"
           }
          ],
          "table": [
           {
            "cells": {
             "fill": {
              "color": "#EBF0F8"
             },
             "line": {
              "color": "white"
             }
            },
            "header": {
             "fill": {
              "color": "#C8D4E3"
             },
             "line": {
              "color": "white"
             }
            },
            "type": "table"
           }
          ]
         },
         "layout": {
          "annotationdefaults": {
           "arrowcolor": "#2a3f5f",
           "arrowhead": 0,
           "arrowwidth": 1
          },
          "autotypenumbers": "strict",
          "coloraxis": {
           "colorbar": {
            "outlinewidth": 0,
            "ticks": ""
           }
          },
          "colorscale": {
           "diverging": [
            [
             0,
             "#8e0152"
            ],
            [
             0.1,
             "#c51b7d"
            ],
            [
             0.2,
             "#de77ae"
            ],
            [
             0.3,
             "#f1b6da"
            ],
            [
             0.4,
             "#fde0ef"
            ],
            [
             0.5,
             "#f7f7f7"
            ],
            [
             0.6,
             "#e6f5d0"
            ],
            [
             0.7,
             "#b8e186"
            ],
            [
             0.8,
             "#7fbc41"
            ],
            [
             0.9,
             "#4d9221"
            ],
            [
             1,
             "#276419"
            ]
           ],
           "sequential": [
            [
             0,
             "#0d0887"
            ],
            [
             0.1111111111111111,
             "#46039f"
            ],
            [
             0.2222222222222222,
             "#7201a8"
            ],
            [
             0.3333333333333333,
             "#9c179e"
            ],
            [
             0.4444444444444444,
             "#bd3786"
            ],
            [
             0.5555555555555556,
             "#d8576b"
            ],
            [
             0.6666666666666666,
             "#ed7953"
            ],
            [
             0.7777777777777778,
             "#fb9f3a"
            ],
            [
             0.8888888888888888,
             "#fdca26"
            ],
            [
             1,
             "#f0f921"
            ]
           ],
           "sequentialminus": [
            [
             0,
             "#0d0887"
            ],
            [
             0.1111111111111111,
             "#46039f"
            ],
            [
             0.2222222222222222,
             "#7201a8"
            ],
            [
             0.3333333333333333,
             "#9c179e"
            ],
            [
             0.4444444444444444,
             "#bd3786"
            ],
            [
             0.5555555555555556,
             "#d8576b"
            ],
            [
             0.6666666666666666,
             "#ed7953"
            ],
            [
             0.7777777777777778,
             "#fb9f3a"
            ],
            [
             0.8888888888888888,
             "#fdca26"
            ],
            [
             1,
             "#f0f921"
            ]
           ]
          },
          "colorway": [
           "#636efa",
           "#EF553B",
           "#00cc96",
           "#ab63fa",
           "#FFA15A",
           "#19d3f3",
           "#FF6692",
           "#B6E880",
           "#FF97FF",
           "#FECB52"
          ],
          "font": {
           "color": "#2a3f5f"
          },
          "geo": {
           "bgcolor": "white",
           "lakecolor": "white",
           "landcolor": "#E5ECF6",
           "showlakes": true,
           "showland": true,
           "subunitcolor": "white"
          },
          "hoverlabel": {
           "align": "left"
          },
          "hovermode": "closest",
          "mapbox": {
           "style": "light"
          },
          "paper_bgcolor": "white",
          "plot_bgcolor": "#E5ECF6",
          "polar": {
           "angularaxis": {
            "gridcolor": "white",
            "linecolor": "white",
            "ticks": ""
           },
           "bgcolor": "#E5ECF6",
           "radialaxis": {
            "gridcolor": "white",
            "linecolor": "white",
            "ticks": ""
           }
          },
          "scene": {
           "xaxis": {
            "backgroundcolor": "#E5ECF6",
            "gridcolor": "white",
            "gridwidth": 2,
            "linecolor": "white",
            "showbackground": true,
            "ticks": "",
            "zerolinecolor": "white"
           },
           "yaxis": {
            "backgroundcolor": "#E5ECF6",
            "gridcolor": "white",
            "gridwidth": 2,
            "linecolor": "white",
            "showbackground": true,
            "ticks": "",
            "zerolinecolor": "white"
           },
           "zaxis": {
            "backgroundcolor": "#E5ECF6",
            "gridcolor": "white",
            "gridwidth": 2,
            "linecolor": "white",
            "showbackground": true,
            "ticks": "",
            "zerolinecolor": "white"
           }
          },
          "shapedefaults": {
           "line": {
            "color": "#2a3f5f"
           }
          },
          "ternary": {
           "aaxis": {
            "gridcolor": "white",
            "linecolor": "white",
            "ticks": ""
           },
           "baxis": {
            "gridcolor": "white",
            "linecolor": "white",
            "ticks": ""
           },
           "bgcolor": "#E5ECF6",
           "caxis": {
            "gridcolor": "white",
            "linecolor": "white",
            "ticks": ""
           }
          },
          "title": {
           "x": 0.05
          },
          "xaxis": {
           "automargin": true,
           "gridcolor": "white",
           "linecolor": "white",
           "ticks": "",
           "title": {
            "standoff": 15
           },
           "zerolinecolor": "white",
           "zerolinewidth": 2
          },
          "yaxis": {
           "automargin": true,
           "gridcolor": "white",
           "linecolor": "white",
           "ticks": "",
           "title": {
            "standoff": 15
           },
           "zerolinecolor": "white",
           "zerolinewidth": 2
          }
         }
        },
        "title": {
         "font": {
          "color": "#4D5663"
         },
         "text": "레인보우로보틱스 최적경향선"
        },
        "xaxis": {
         "gridcolor": "#E1E5ED",
         "showgrid": true,
         "tickfont": {
          "color": "#4D5663"
         },
         "title": {
          "font": {
           "color": "#4D5663"
          },
          "text": ""
         },
         "zerolinecolor": "#E1E5ED"
        },
        "yaxis": {
         "gridcolor": "#E1E5ED",
         "showgrid": true,
         "tickfont": {
          "color": "#4D5663"
         },
         "title": {
          "font": {
           "color": "#4D5663"
          },
          "text": ""
         },
         "zerolinecolor": "#E1E5ED"
        }
       }
      },
      "text/html": [
       "<div>                            <div id=\"f0372239-3ed5-41d6-ae5c-72caafe1d9d3\" class=\"plotly-graph-div\" style=\"height:525px; width:100%;\"></div>            <script type=\"text/javascript\">                require([\"plotly\"], function(Plotly) {                    window.PLOTLYENV=window.PLOTLYENV || {};\n",
       "                    window.PLOTLYENV.BASE_URL='https://plot.ly';                                    if (document.getElementById(\"f0372239-3ed5-41d6-ae5c-72caafe1d9d3\")) {                    Plotly.newPlot(                        \"f0372239-3ed5-41d6-ae5c-72caafe1d9d3\",                        [{\"line\":{\"color\":\"rgba(255, 153, 51, 1.0)\",\"dash\":\"solid\",\"shape\":\"linear\",\"width\":1.3},\"mode\":\"lines\",\"name\":\"Close\",\"text\":\"\",\"x\":[\"2023-01-02\",\"2023-01-03\",\"2023-01-04\",\"2023-01-05\",\"2023-01-06\",\"2023-01-09\",\"2023-01-10\",\"2023-01-11\",\"2023-01-12\",\"2023-01-13\",\"2023-01-16\",\"2023-01-17\",\"2023-01-18\",\"2023-01-19\",\"2023-01-20\",\"2023-01-25\",\"2023-01-26\",\"2023-01-27\",\"2023-01-30\",\"2023-01-31\",\"2023-02-01\",\"2023-02-02\",\"2023-02-03\",\"2023-02-06\",\"2023-02-07\",\"2023-02-08\",\"2023-02-09\",\"2023-02-10\",\"2023-02-13\",\"2023-02-14\",\"2023-02-15\",\"2023-02-16\",\"2023-02-17\",\"2023-02-20\",\"2023-02-21\",\"2023-02-22\",\"2023-02-23\",\"2023-02-24\",\"2023-02-27\",\"2023-02-28\",\"2023-03-02\",\"2023-03-03\",\"2023-03-06\",\"2023-03-07\",\"2023-03-08\",\"2023-03-09\",\"2023-03-10\",\"2023-03-13\",\"2023-03-14\",\"2023-03-15\",\"2023-03-16\",\"2023-03-17\",\"2023-03-20\",\"2023-03-21\",\"2023-03-22\",\"2023-03-23\",\"2023-03-24\",\"2023-03-27\",\"2023-03-28\",\"2023-03-29\",\"2023-03-30\",\"2023-03-31\",\"2023-04-03\",\"2023-04-04\",\"2023-04-05\",\"2023-04-06\",\"2023-04-07\",\"2023-04-10\",\"2023-04-11\",\"2023-04-12\",\"2023-04-13\",\"2023-04-14\",\"2023-04-17\",\"2023-04-18\",\"2023-04-19\",\"2023-04-20\",\"2023-04-21\",\"2023-04-24\",\"2023-04-25\",\"2023-04-26\",\"2023-04-27\",\"2023-04-28\",\"2023-05-02\",\"2023-05-03\",\"2023-05-04\",\"2023-05-08\",\"2023-05-09\",\"2023-05-10\",\"2023-05-11\",\"2023-05-12\",\"2023-05-15\",\"2023-05-16\",\"2023-05-17\",\"2023-05-18\",\"2023-05-19\",\"2023-05-22\",\"2023-05-23\",\"2023-05-24\",\"2023-05-25\",\"2023-05-26\",\"2023-05-30\",\"2023-05-31\",\"2023-06-01\",\"2023-06-02\",\"2023-06-05\",\"2023-06-07\",\"2023-06-08\",\"2023-06-09\",\"2023-06-12\",\"2023-06-13\",\"2023-06-14\",\"2023-06-15\",\"2023-06-16\",\"2023-06-19\",\"2023-06-20\",\"2023-06-21\",\"2023-06-22\",\"2023-06-23\",\"2023-06-26\",\"2023-06-27\",\"2023-06-28\",\"2023-06-29\",\"2023-06-30\",\"2023-07-03\",\"2023-07-04\",\"2023-07-05\",\"2023-07-06\",\"2023-07-07\",\"2023-07-10\",\"2023-07-11\",\"2023-07-12\",\"2023-07-13\",\"2023-07-14\",\"2023-07-17\",\"2023-07-18\",\"2023-07-19\",\"2023-07-20\",\"2023-07-21\",\"2023-07-24\",\"2023-07-25\",\"2023-07-26\",\"2023-07-27\",\"2023-07-28\",\"2023-07-31\",\"2023-08-01\",\"2023-08-02\",\"2023-08-03\",\"2023-08-04\",\"2023-08-07\",\"2023-08-08\",\"2023-08-09\",\"2023-08-10\",\"2023-08-11\",\"2023-08-14\",\"2023-08-16\",\"2023-08-17\",\"2023-08-18\",\"2023-08-21\",\"2023-08-22\",\"2023-08-23\",\"2023-08-24\",\"2023-08-25\",\"2023-08-28\",\"2023-08-29\",\"2023-08-30\",\"2023-08-31\",\"2023-09-01\",\"2023-09-04\",\"2023-09-05\",\"2023-09-06\",\"2023-09-07\",\"2023-09-08\",\"2023-09-11\",\"2023-09-12\",\"2023-09-13\",\"2023-09-14\",\"2023-09-15\",\"2023-09-18\",\"2023-09-19\",\"2023-09-20\",\"2023-09-21\",\"2023-09-22\",\"2023-09-25\",\"2023-09-26\",\"2023-09-27\",\"2023-10-04\",\"2023-10-05\",\"2023-10-06\",\"2023-10-10\",\"2023-10-11\",\"2023-10-12\",\"2023-10-13\",\"2023-10-16\",\"2023-10-17\",\"2023-10-18\",\"2023-10-19\",\"2023-10-20\",\"2023-10-23\",\"2023-10-24\",\"2023-10-25\",\"2023-10-26\",\"2023-10-27\",\"2023-10-30\",\"2023-10-31\",\"2023-11-01\",\"2023-11-02\",\"2023-11-03\",\"2023-11-06\",\"2023-11-07\",\"2023-11-08\",\"2023-11-09\",\"2023-11-10\",\"2023-11-13\",\"2023-11-14\",\"2023-11-15\",\"2023-11-16\",\"2023-11-17\",\"2023-11-20\",\"2023-11-21\",\"2023-11-22\",\"2023-11-23\",\"2023-11-24\",\"2023-11-27\",\"2023-11-28\",\"2023-11-29\",\"2023-11-30\",\"2023-12-01\",\"2023-12-04\",\"2023-12-05\",\"2023-12-06\",\"2023-12-07\",\"2023-12-08\",\"2023-12-11\",\"2023-12-12\",\"2023-12-13\",\"2023-12-14\",\"2023-12-15\",\"2023-12-18\",\"2023-12-19\",\"2023-12-20\",\"2023-12-21\",\"2023-12-22\",\"2023-12-26\",\"2023-12-27\",\"2023-12-28\"],\"y\":[32600,41550,46900,46950,48200,52700,52000,53700,49750,54700,56700,63200,61700,61700,67100,87200,78100,80600,79300,78200,78200,82000,79200,75800,76400,76200,73200,71500,76500,75100,71100,71500,70800,73500,72800,72300,78600,78800,92900,92600,90100,90000,90800,90200,88600,85300,82200,83000,77100,86400,112300,120700,122800,131700,132000,142900,139000,139700,137800,134700,137500,126800,125100,120000,119300,113100,119600,114800,118500,114600,111700,110700,111400,106500,104600,102000,103700,101100,101900,97900,98900,96100,102100,100100,100700,102900,110500,108800,114900,115500,108000,100900,101400,104700,105400,103000,104700,102900,103000,101500,105500,103900,104200,104800,107300,111000,109000,109200,102100,100800,99100,99700,99200,97800,95600,92500,97000,95000,93000,94200,92800,91100,91700,94600,95000,95500,92200,91100,89600,92100,91100,90400,91400,98400,93500,95400,97900,98700,104100,99600,93000,95500,99800,113900,119000,115300,111300,134000,141000,144500,142800,138000,137000,139000,121100,119600,114000,111100,108900,108200,112100,107800,115300,117700,116600,151500,162800,162500,175200,175500,190000,212000,212500,195800,189000,198600,181800,178200,172900,175000,164000,166600,164800,164500,168600,155000,142000,139400,133800,132200,142000,141200,133800,142600,145900,138400,130300,133100,134100,130000,131100,131500,138700,141000,139600,143300,153200,175200,166100,167300,163800,150600,151000,151000,158400,166100,161400,167500,167300,161100,163400,164300,161500,190200,177100,177400,168200,162600,157400,159900,154900,163900,172600,172800,168400,177400,181000,183400,175700,174000,177300,173400,170400,175500,176000],\"type\":\"scatter\"},{\"line\":{\"color\":\"rgba(55, 128, 191, 1.0)\",\"dash\":\"dash\",\"shape\":\"linear\",\"width\":3},\"mode\":\"lines\",\"name\":\"435.91*x+65318.18\",\"x\":[\"2023-01-02\",\"2023-01-03\",\"2023-01-04\",\"2023-01-05\",\"2023-01-06\",\"2023-01-09\",\"2023-01-10\",\"2023-01-11\",\"2023-01-12\",\"2023-01-13\",\"2023-01-16\",\"2023-01-17\",\"2023-01-18\",\"2023-01-19\",\"2023-01-20\",\"2023-01-25\",\"2023-01-26\",\"2023-01-27\",\"2023-01-30\",\"2023-01-31\",\"2023-02-01\",\"2023-02-02\",\"2023-02-03\",\"2023-02-06\",\"2023-02-07\",\"2023-02-08\",\"2023-02-09\",\"2023-02-10\",\"2023-02-13\",\"2023-02-14\",\"2023-02-15\",\"2023-02-16\",\"2023-02-17\",\"2023-02-20\",\"2023-02-21\",\"2023-02-22\",\"2023-02-23\",\"2023-02-24\",\"2023-02-27\",\"2023-02-28\",\"2023-03-02\",\"2023-03-03\",\"2023-03-06\",\"2023-03-07\",\"2023-03-08\",\"2023-03-09\",\"2023-03-10\",\"2023-03-13\",\"2023-03-14\",\"2023-03-15\",\"2023-03-16\",\"2023-03-17\",\"2023-03-20\",\"2023-03-21\",\"2023-03-22\",\"2023-03-23\",\"2023-03-24\",\"2023-03-27\",\"2023-03-28\",\"2023-03-29\",\"2023-03-30\",\"2023-03-31\",\"2023-04-03\",\"2023-04-04\",\"2023-04-05\",\"2023-04-06\",\"2023-04-07\",\"2023-04-10\",\"2023-04-11\",\"2023-04-12\",\"2023-04-13\",\"2023-04-14\",\"2023-04-17\",\"2023-04-18\",\"2023-04-19\",\"2023-04-20\",\"2023-04-21\",\"2023-04-24\",\"2023-04-25\",\"2023-04-26\",\"2023-04-27\",\"2023-04-28\",\"2023-05-02\",\"2023-05-03\",\"2023-05-04\",\"2023-05-08\",\"2023-05-09\",\"2023-05-10\",\"2023-05-11\",\"2023-05-12\",\"2023-05-15\",\"2023-05-16\",\"2023-05-17\",\"2023-05-18\",\"2023-05-19\",\"2023-05-22\",\"2023-05-23\",\"2023-05-24\",\"2023-05-25\",\"2023-05-26\",\"2023-05-30\",\"2023-05-31\",\"2023-06-01\",\"2023-06-02\",\"2023-06-05\",\"2023-06-07\",\"2023-06-08\",\"2023-06-09\",\"2023-06-12\",\"2023-06-13\",\"2023-06-14\",\"2023-06-15\",\"2023-06-16\",\"2023-06-19\",\"2023-06-20\",\"2023-06-21\",\"2023-06-22\",\"2023-06-23\",\"2023-06-26\",\"2023-06-27\",\"2023-06-28\",\"2023-06-29\",\"2023-06-30\",\"2023-07-03\",\"2023-07-04\",\"2023-07-05\",\"2023-07-06\",\"2023-07-07\",\"2023-07-10\",\"2023-07-11\",\"2023-07-12\",\"2023-07-13\",\"2023-07-14\",\"2023-07-17\",\"2023-07-18\",\"2023-07-19\",\"2023-07-20\",\"2023-07-21\",\"2023-07-24\",\"2023-07-25\",\"2023-07-26\",\"2023-07-27\",\"2023-07-28\",\"2023-07-31\",\"2023-08-01\",\"2023-08-02\",\"2023-08-03\",\"2023-08-04\",\"2023-08-07\",\"2023-08-08\",\"2023-08-09\",\"2023-08-10\",\"2023-08-11\",\"2023-08-14\",\"2023-08-16\",\"2023-08-17\",\"2023-08-18\",\"2023-08-21\",\"2023-08-22\",\"2023-08-23\",\"2023-08-24\",\"2023-08-25\",\"2023-08-28\",\"2023-08-29\",\"2023-08-30\",\"2023-08-31\",\"2023-09-01\",\"2023-09-04\",\"2023-09-05\",\"2023-09-06\",\"2023-09-07\",\"2023-09-08\",\"2023-09-11\",\"2023-09-12\",\"2023-09-13\",\"2023-09-14\",\"2023-09-15\",\"2023-09-18\",\"2023-09-19\",\"2023-09-20\",\"2023-09-21\",\"2023-09-22\",\"2023-09-25\",\"2023-09-26\",\"2023-09-27\",\"2023-10-04\",\"2023-10-05\",\"2023-10-06\",\"2023-10-10\",\"2023-10-11\",\"2023-10-12\",\"2023-10-13\",\"2023-10-16\",\"2023-10-17\",\"2023-10-18\",\"2023-10-19\",\"2023-10-20\",\"2023-10-23\",\"2023-10-24\",\"2023-10-25\",\"2023-10-26\",\"2023-10-27\",\"2023-10-30\",\"2023-10-31\",\"2023-11-01\",\"2023-11-02\",\"2023-11-03\",\"2023-11-06\",\"2023-11-07\",\"2023-11-08\",\"2023-11-09\",\"2023-11-10\",\"2023-11-13\",\"2023-11-14\",\"2023-11-15\",\"2023-11-16\",\"2023-11-17\",\"2023-11-20\",\"2023-11-21\",\"2023-11-22\",\"2023-11-23\",\"2023-11-24\",\"2023-11-27\",\"2023-11-28\",\"2023-11-29\",\"2023-11-30\",\"2023-12-01\",\"2023-12-04\",\"2023-12-05\",\"2023-12-06\",\"2023-12-07\",\"2023-12-08\",\"2023-12-11\",\"2023-12-12\",\"2023-12-13\",\"2023-12-14\",\"2023-12-15\",\"2023-12-18\",\"2023-12-19\",\"2023-12-20\",\"2023-12-21\",\"2023-12-22\",\"2023-12-26\",\"2023-12-27\",\"2023-12-28\"],\"y\":[65754.09158785467,66189.99983679998,66625.90808574531,67061.81633469062,67497.72458363595,67933.63283258126,68369.54108152658,68805.4493304719,69241.35757941722,69677.26582836255,70113.17407730786,70549.08232625318,70984.9905751985,71420.89882414382,71856.80707308915,72292.71532203446,72728.62357097978,73164.5318199251,73600.44006887042,74036.34831781575,74472.25656676106,74908.16481570638,75344.0730646517,75779.98131359702,76215.88956254235,76651.79781148766,77087.70606043297,77523.6143093783,77959.52255832362,78395.43080726895,78831.33905621426,79267.24730515957,79703.1555541049,80139.06380305022,80574.97205199554,81010.88030094086,81446.78854988617,81882.6967988315,82318.60504777681,82754.51329672214,83190.42154566746,83626.32979461277,84062.2380435581,84498.14629250341,84934.05454144874,85369.96279039406,85805.87103933937,86241.7792882847,86677.68753723001,87113.59578617534,87549.50403512066,87985.41228406597,88421.3205330113,88857.22878195661,89293.13703090194,89729.04527984725,90164.95352879257,90600.8617777379,91036.77002668321,91472.67827562854,91908.58652457385,92344.49477351917,92780.4030224645,93216.31127140981,93652.21952035514,94088.12776930045,94524.03601824577,94959.9442671911,95395.85251613641,95831.76076508174,96267.66901402705,96703.57726297237,97139.4855119177,97575.39376086301,98011.30200980834,98447.21025875365,98883.11850769896,99319.02675664429,99754.93500558962,100190.84325453494,100626.75150348025,101062.65975242556,101498.56800137089,101934.47625031622,102370.38449926153,102806.29274820685,103242.20099715216,103678.10924609749,104114.01749504282,104549.92574398813,104985.83399293345,105421.74224187876,105857.65049082409,106293.55873976942,106729.46698871473,107165.37523766005,107601.28348660536,108037.19173555069,108473.09998449602,108909.00823344133,109344.91648238664,109780.82473133196,110216.73298027729,110652.64122922262,111088.54947816793,111524.45772711324,111960.36597605856,112396.27422500389,112832.18247394921,113268.09072289453,113703.99897183984,114139.90722078516,114575.81546973049,115011.72371867581,115447.63196762113,115883.54021656644,116319.44846551176,116755.35671445708,117191.26496340241,117627.17321234773,118063.08146129304,118498.98971023835,118934.89795918368,119370.80620812901,119806.71445707433,120242.62270601964,120678.53095496495,121114.43920391028,121550.34745285561,121986.25570180092,122422.16395074624,122858.07219969155,123293.98044863688,123729.88869758221,124165.79694652752,124601.70519547284,125037.61344441815,125473.52169336348,125909.42994230881,126345.33819125412,126781.24644019944,127217.15468914475,127653.06293809008,128088.97118703541,128524.87943598072,128960.78768492604,129396.69593387135,129832.60418281668,130268.512431762,130704.42068070732,131140.32892965263,131576.23717859795,132012.1454275433,132448.0536764886,132883.96192543392,133319.87017437923,133755.77842332455,134191.6866722699,134627.5949212152,135063.50317016052,135499.41141910583,135935.31966805115,136371.2279169965,136807.1361659418,137243.04441488712,137678.95266383243,138114.86091277775,138550.7691617231,138986.6774106684,139422.58565961372,139858.49390855903,140294.40215750434,140730.3104064497,141166.218655395,141602.12690434032,142038.03515328563,142473.94340223094,142909.8516511763,143345.7599001216,143781.6681490669,144217.57639801223,144653.48464695754,145089.39289590289,145525.3011448482,145961.2093937935,146397.11764273883,146833.02589168414,147268.93414062948,147704.8423895748,148140.7506385201,148576.65888746543,149012.56713641074,149448.47538535608,149884.3836343014,150320.2918832467,150756.20013219203,151192.10838113734,151628.01663008268,152063.924879028,152499.8331279733,152935.74137691862,153371.64962586394,153807.55787480928,154243.4661237546,154679.3743726999,155115.28262164522,155551.19087059054,155987.09911953588,156423.0073684812,156858.9156174265,157294.82386637182,157730.73211531714,158166.64036426248,158602.5486132078,159038.4568621531,159474.36511109842,159910.27336004374,160346.18160898908,160782.0898579344,161217.9981068797,161653.90635582502,162089.81460477033,162525.72285371568,162961.631102661,163397.5393516063,163833.44760055162,164269.35584949693,164705.26409844228,165141.1723473876,165577.0805963329,166012.98884527822,166448.89709422353,166884.80534316887,167320.7135921142,167756.6218410595,168192.53009000482,168628.43833895013,169064.34658789547,169500.2548368408,169936.1630857861,170372.07133473142,170807.97958367673,171243.88783262207,171679.7960815674,172115.7043305127],\"type\":\"scatter\"}],                        {\"legend\":{\"bgcolor\":\"#F5F6F9\",\"font\":{\"color\":\"#4D5663\"}},\"paper_bgcolor\":\"#F5F6F9\",\"plot_bgcolor\":\"#F5F6F9\",\"template\":{\"data\":{\"barpolar\":[{\"marker\":{\"line\":{\"color\":\"#E5ECF6\",\"width\":0.5},\"pattern\":{\"fillmode\":\"overlay\",\"size\":10,\"solidity\":0.2}},\"type\":\"barpolar\"}],\"bar\":[{\"error_x\":{\"color\":\"#2a3f5f\"},\"error_y\":{\"color\":\"#2a3f5f\"},\"marker\":{\"line\":{\"color\":\"#E5ECF6\",\"width\":0.5},\"pattern\":{\"fillmode\":\"overlay\",\"size\":10,\"solidity\":0.2}},\"type\":\"bar\"}],\"carpet\":[{\"aaxis\":{\"endlinecolor\":\"#2a3f5f\",\"gridcolor\":\"white\",\"linecolor\":\"white\",\"minorgridcolor\":\"white\",\"startlinecolor\":\"#2a3f5f\"},\"baxis\":{\"endlinecolor\":\"#2a3f5f\",\"gridcolor\":\"white\",\"linecolor\":\"white\",\"minorgridcolor\":\"white\",\"startlinecolor\":\"#2a3f5f\"},\"type\":\"carpet\"}],\"choropleth\":[{\"colorbar\":{\"outlinewidth\":0,\"ticks\":\"\"},\"type\":\"choropleth\"}],\"contourcarpet\":[{\"colorbar\":{\"outlinewidth\":0,\"ticks\":\"\"},\"type\":\"contourcarpet\"}],\"contour\":[{\"colorbar\":{\"outlinewidth\":0,\"ticks\":\"\"},\"colorscale\":[[0.0,\"#0d0887\"],[0.1111111111111111,\"#46039f\"],[0.2222222222222222,\"#7201a8\"],[0.3333333333333333,\"#9c179e\"],[0.4444444444444444,\"#bd3786\"],[0.5555555555555556,\"#d8576b\"],[0.6666666666666666,\"#ed7953\"],[0.7777777777777778,\"#fb9f3a\"],[0.8888888888888888,\"#fdca26\"],[1.0,\"#f0f921\"]],\"type\":\"contour\"}],\"heatmapgl\":[{\"colorbar\":{\"outlinewidth\":0,\"ticks\":\"\"},\"colorscale\":[[0.0,\"#0d0887\"],[0.1111111111111111,\"#46039f\"],[0.2222222222222222,\"#7201a8\"],[0.3333333333333333,\"#9c179e\"],[0.4444444444444444,\"#bd3786\"],[0.5555555555555556,\"#d8576b\"],[0.6666666666666666,\"#ed7953\"],[0.7777777777777778,\"#fb9f3a\"],[0.8888888888888888,\"#fdca26\"],[1.0,\"#f0f921\"]],\"type\":\"heatmapgl\"}],\"heatmap\":[{\"colorbar\":{\"outlinewidth\":0,\"ticks\":\"\"},\"colorscale\":[[0.0,\"#0d0887\"],[0.1111111111111111,\"#46039f\"],[0.2222222222222222,\"#7201a8\"],[0.3333333333333333,\"#9c179e\"],[0.4444444444444444,\"#bd3786\"],[0.5555555555555556,\"#d8576b\"],[0.6666666666666666,\"#ed7953\"],[0.7777777777777778,\"#fb9f3a\"],[0.8888888888888888,\"#fdca26\"],[1.0,\"#f0f921\"]],\"type\":\"heatmap\"}],\"histogram2dcontour\":[{\"colorbar\":{\"outlinewidth\":0,\"ticks\":\"\"},\"colorscale\":[[0.0,\"#0d0887\"],[0.1111111111111111,\"#46039f\"],[0.2222222222222222,\"#7201a8\"],[0.3333333333333333,\"#9c179e\"],[0.4444444444444444,\"#bd3786\"],[0.5555555555555556,\"#d8576b\"],[0.6666666666666666,\"#ed7953\"],[0.7777777777777778,\"#fb9f3a\"],[0.8888888888888888,\"#fdca26\"],[1.0,\"#f0f921\"]],\"type\":\"histogram2dcontour\"}],\"histogram2d\":[{\"colorbar\":{\"outlinewidth\":0,\"ticks\":\"\"},\"colorscale\":[[0.0,\"#0d0887\"],[0.1111111111111111,\"#46039f\"],[0.2222222222222222,\"#7201a8\"],[0.3333333333333333,\"#9c179e\"],[0.4444444444444444,\"#bd3786\"],[0.5555555555555556,\"#d8576b\"],[0.6666666666666666,\"#ed7953\"],[0.7777777777777778,\"#fb9f3a\"],[0.8888888888888888,\"#fdca26\"],[1.0,\"#f0f921\"]],\"type\":\"histogram2d\"}],\"histogram\":[{\"marker\":{\"pattern\":{\"fillmode\":\"overlay\",\"size\":10,\"solidity\":0.2}},\"type\":\"histogram\"}],\"mesh3d\":[{\"colorbar\":{\"outlinewidth\":0,\"ticks\":\"\"},\"type\":\"mesh3d\"}],\"parcoords\":[{\"line\":{\"colorbar\":{\"outlinewidth\":0,\"ticks\":\"\"}},\"type\":\"parcoords\"}],\"pie\":[{\"automargin\":true,\"type\":\"pie\"}],\"scatter3d\":[{\"line\":{\"colorbar\":{\"outlinewidth\":0,\"ticks\":\"\"}},\"marker\":{\"colorbar\":{\"outlinewidth\":0,\"ticks\":\"\"}},\"type\":\"scatter3d\"}],\"scattercarpet\":[{\"marker\":{\"colorbar\":{\"outlinewidth\":0,\"ticks\":\"\"}},\"type\":\"scattercarpet\"}],\"scattergeo\":[{\"marker\":{\"colorbar\":{\"outlinewidth\":0,\"ticks\":\"\"}},\"type\":\"scattergeo\"}],\"scattergl\":[{\"marker\":{\"colorbar\":{\"outlinewidth\":0,\"ticks\":\"\"}},\"type\":\"scattergl\"}],\"scattermapbox\":[{\"marker\":{\"colorbar\":{\"outlinewidth\":0,\"ticks\":\"\"}},\"type\":\"scattermapbox\"}],\"scatterpolargl\":[{\"marker\":{\"colorbar\":{\"outlinewidth\":0,\"ticks\":\"\"}},\"type\":\"scatterpolargl\"}],\"scatterpolar\":[{\"marker\":{\"colorbar\":{\"outlinewidth\":0,\"ticks\":\"\"}},\"type\":\"scatterpolar\"}],\"scatter\":[{\"fillpattern\":{\"fillmode\":\"overlay\",\"size\":10,\"solidity\":0.2},\"type\":\"scatter\"}],\"scatterternary\":[{\"marker\":{\"colorbar\":{\"outlinewidth\":0,\"ticks\":\"\"}},\"type\":\"scatterternary\"}],\"surface\":[{\"colorbar\":{\"outlinewidth\":0,\"ticks\":\"\"},\"colorscale\":[[0.0,\"#0d0887\"],[0.1111111111111111,\"#46039f\"],[0.2222222222222222,\"#7201a8\"],[0.3333333333333333,\"#9c179e\"],[0.4444444444444444,\"#bd3786\"],[0.5555555555555556,\"#d8576b\"],[0.6666666666666666,\"#ed7953\"],[0.7777777777777778,\"#fb9f3a\"],[0.8888888888888888,\"#fdca26\"],[1.0,\"#f0f921\"]],\"type\":\"surface\"}],\"table\":[{\"cells\":{\"fill\":{\"color\":\"#EBF0F8\"},\"line\":{\"color\":\"white\"}},\"header\":{\"fill\":{\"color\":\"#C8D4E3\"},\"line\":{\"color\":\"white\"}},\"type\":\"table\"}]},\"layout\":{\"annotationdefaults\":{\"arrowcolor\":\"#2a3f5f\",\"arrowhead\":0,\"arrowwidth\":1},\"autotypenumbers\":\"strict\",\"coloraxis\":{\"colorbar\":{\"outlinewidth\":0,\"ticks\":\"\"}},\"colorscale\":{\"diverging\":[[0,\"#8e0152\"],[0.1,\"#c51b7d\"],[0.2,\"#de77ae\"],[0.3,\"#f1b6da\"],[0.4,\"#fde0ef\"],[0.5,\"#f7f7f7\"],[0.6,\"#e6f5d0\"],[0.7,\"#b8e186\"],[0.8,\"#7fbc41\"],[0.9,\"#4d9221\"],[1,\"#276419\"]],\"sequential\":[[0.0,\"#0d0887\"],[0.1111111111111111,\"#46039f\"],[0.2222222222222222,\"#7201a8\"],[0.3333333333333333,\"#9c179e\"],[0.4444444444444444,\"#bd3786\"],[0.5555555555555556,\"#d8576b\"],[0.6666666666666666,\"#ed7953\"],[0.7777777777777778,\"#fb9f3a\"],[0.8888888888888888,\"#fdca26\"],[1.0,\"#f0f921\"]],\"sequentialminus\":[[0.0,\"#0d0887\"],[0.1111111111111111,\"#46039f\"],[0.2222222222222222,\"#7201a8\"],[0.3333333333333333,\"#9c179e\"],[0.4444444444444444,\"#bd3786\"],[0.5555555555555556,\"#d8576b\"],[0.6666666666666666,\"#ed7953\"],[0.7777777777777778,\"#fb9f3a\"],[0.8888888888888888,\"#fdca26\"],[1.0,\"#f0f921\"]]},\"colorway\":[\"#636efa\",\"#EF553B\",\"#00cc96\",\"#ab63fa\",\"#FFA15A\",\"#19d3f3\",\"#FF6692\",\"#B6E880\",\"#FF97FF\",\"#FECB52\"],\"font\":{\"color\":\"#2a3f5f\"},\"geo\":{\"bgcolor\":\"white\",\"lakecolor\":\"white\",\"landcolor\":\"#E5ECF6\",\"showlakes\":true,\"showland\":true,\"subunitcolor\":\"white\"},\"hoverlabel\":{\"align\":\"left\"},\"hovermode\":\"closest\",\"mapbox\":{\"style\":\"light\"},\"paper_bgcolor\":\"white\",\"plot_bgcolor\":\"#E5ECF6\",\"polar\":{\"angularaxis\":{\"gridcolor\":\"white\",\"linecolor\":\"white\",\"ticks\":\"\"},\"bgcolor\":\"#E5ECF6\",\"radialaxis\":{\"gridcolor\":\"white\",\"linecolor\":\"white\",\"ticks\":\"\"}},\"scene\":{\"xaxis\":{\"backgroundcolor\":\"#E5ECF6\",\"gridcolor\":\"white\",\"gridwidth\":2,\"linecolor\":\"white\",\"showbackground\":true,\"ticks\":\"\",\"zerolinecolor\":\"white\"},\"yaxis\":{\"backgroundcolor\":\"#E5ECF6\",\"gridcolor\":\"white\",\"gridwidth\":2,\"linecolor\":\"white\",\"showbackground\":true,\"ticks\":\"\",\"zerolinecolor\":\"white\"},\"zaxis\":{\"backgroundcolor\":\"#E5ECF6\",\"gridcolor\":\"white\",\"gridwidth\":2,\"linecolor\":\"white\",\"showbackground\":true,\"ticks\":\"\",\"zerolinecolor\":\"white\"}},\"shapedefaults\":{\"line\":{\"color\":\"#2a3f5f\"}},\"ternary\":{\"aaxis\":{\"gridcolor\":\"white\",\"linecolor\":\"white\",\"ticks\":\"\"},\"baxis\":{\"gridcolor\":\"white\",\"linecolor\":\"white\",\"ticks\":\"\"},\"bgcolor\":\"#E5ECF6\",\"caxis\":{\"gridcolor\":\"white\",\"linecolor\":\"white\",\"ticks\":\"\"}},\"title\":{\"x\":0.05},\"xaxis\":{\"automargin\":true,\"gridcolor\":\"white\",\"linecolor\":\"white\",\"ticks\":\"\",\"title\":{\"standoff\":15},\"zerolinecolor\":\"white\",\"zerolinewidth\":2},\"yaxis\":{\"automargin\":true,\"gridcolor\":\"white\",\"linecolor\":\"white\",\"ticks\":\"\",\"title\":{\"standoff\":15},\"zerolinecolor\":\"white\",\"zerolinewidth\":2}}},\"title\":{\"font\":{\"color\":\"#4D5663\"},\"text\":\"\\ub808\\uc778\\ubcf4\\uc6b0\\ub85c\\ubcf4\\ud2f1\\uc2a4 \\ucd5c\\uc801\\uacbd\\ud5a5\\uc120\"},\"xaxis\":{\"gridcolor\":\"#E1E5ED\",\"showgrid\":true,\"tickfont\":{\"color\":\"#4D5663\"},\"title\":{\"font\":{\"color\":\"#4D5663\"},\"text\":\"\"},\"zerolinecolor\":\"#E1E5ED\"},\"yaxis\":{\"gridcolor\":\"#E1E5ED\",\"showgrid\":true,\"tickfont\":{\"color\":\"#4D5663\"},\"title\":{\"font\":{\"color\":\"#4D5663\"},\"text\":\"\"},\"zerolinecolor\":\"#E1E5ED\"}},                        {\"showLink\": true, \"linkText\": \"Export to plot.ly\", \"plotlyServerURL\": \"https://plot.ly\", \"responsive\": true}                    ).then(function(){\n",
       "                            \n",
       "var gd = document.getElementById('f0372239-3ed5-41d6-ae5c-72caafe1d9d3');\n",
       "var x = new MutationObserver(function (mutations, observer) {{\n",
       "        var display = window.getComputedStyle(gd).display;\n",
       "        if (!display || display === 'none') {{\n",
       "            console.log([gd, 'removed!']);\n",
       "            Plotly.purge(gd);\n",
       "            observer.disconnect();\n",
       "        }}\n",
       "}});\n",
       "\n",
       "// Listen for the removal of the full notebook cells\n",
       "var notebookContainer = gd.closest('#notebook-container');\n",
       "if (notebookContainer) {{\n",
       "    x.observe(notebookContainer, {childList: true});\n",
       "}}\n",
       "\n",
       "// Listen for the clearing of the current output cell\n",
       "var outputEl = gd.closest('.output');\n",
       "if (outputEl) {{\n",
       "    x.observe(outputEl, {childList: true});\n",
       "}}\n",
       "\n",
       "                        })                };                });            </script>        </div>"
      ]
     },
     "metadata": {},
     "output_type": "display_data"
    }
   ],
   "source": [
    "import pandas as pd\n",
    "import cufflinks as cf\n",
    "import numpy as np\n",
    "import warnings\n",
    "from datetime import datetime\n",
    "warnings.filterwarnings(\"ignore\")\n",
    "cf.set_config_file(theme='pearl', world_readable=False)\n",
    "cf.go_offline()\n",
    "single_stock = fdr.DataReader('277810', '2023-01-01', '2023-12-31')\n",
    "single_stock['Close'].iplot(title='레인보우로보틱스 최적경향선', bestfit=True, bestfit_colors=['blue']) # 수익률 시각화, bestfit:최적 경향선 추가(추세 파악 용이)"
   ]
  },
  {
   "cell_type": "markdown",
   "metadata": {},
   "source": [
    "# 상관분석"
   ]
  },
  {
   "cell_type": "code",
   "execution_count": 9,
   "metadata": {},
   "outputs": [
    {
     "name": "stdout",
     "output_type": "stream",
     "text": [
      "Date\n",
      "2023-01-31         NaN\n",
      "2023-02-28    0.290187\n",
      "2023-03-31    0.442259\n",
      "2023-04-30   -0.012676\n",
      "2023-05-31   -0.041570\n",
      "2023-06-30   -0.053650\n",
      "2023-07-31   -0.035600\n",
      "2023-08-31    0.292677\n",
      "2023-09-30    0.448664\n",
      "2023-10-31   -0.232883\n",
      "2023-11-30    0.180786\n",
      "2023-12-31    0.050418\n",
      "Freq: M, Name: Close, dtype: float64\n"
     ]
    }
   ],
   "source": [
    "rb_stock.index = pd.to_datetime(rb_stock.index)\n",
    "\n",
    "# 월별 평균 수익률\n",
    "monthly_avg_returns = rb_stock['Close'].resample('M').mean().pct_change()\n",
    "\n",
    "print(monthly_avg_returns)"
   ]
  },
  {
   "cell_type": "code",
   "execution_count": 10,
   "metadata": {},
   "outputs": [
    {
     "data": {
      "text/html": [
       "<div>\n",
       "<style scoped>\n",
       "    .dataframe tbody tr th:only-of-type {\n",
       "        vertical-align: middle;\n",
       "    }\n",
       "\n",
       "    .dataframe tbody tr th {\n",
       "        vertical-align: top;\n",
       "    }\n",
       "\n",
       "    .dataframe thead th {\n",
       "        text-align: right;\n",
       "    }\n",
       "</style>\n",
       "<table border=\"1\" class=\"dataframe\">\n",
       "  <thead>\n",
       "    <tr style=\"text-align: right;\">\n",
       "      <th></th>\n",
       "      <th>Open</th>\n",
       "      <th>High</th>\n",
       "      <th>Low</th>\n",
       "      <th>Close</th>\n",
       "      <th>Volume</th>\n",
       "      <th>Change</th>\n",
       "      <th>Date_Integer</th>\n",
       "    </tr>\n",
       "    <tr>\n",
       "      <th>Date</th>\n",
       "      <th></th>\n",
       "      <th></th>\n",
       "      <th></th>\n",
       "      <th></th>\n",
       "      <th></th>\n",
       "      <th></th>\n",
       "      <th></th>\n",
       "    </tr>\n",
       "  </thead>\n",
       "  <tbody>\n",
       "    <tr>\n",
       "      <th>2023-01-02</th>\n",
       "      <td>34650</td>\n",
       "      <td>34950</td>\n",
       "      <td>32000</td>\n",
       "      <td>32600</td>\n",
       "      <td>537307</td>\n",
       "      <td>-0.053701</td>\n",
       "      <td>0</td>\n",
       "    </tr>\n",
       "    <tr>\n",
       "      <th>2023-01-03</th>\n",
       "      <td>37600</td>\n",
       "      <td>42350</td>\n",
       "      <td>35700</td>\n",
       "      <td>41550</td>\n",
       "      <td>12696270</td>\n",
       "      <td>0.274540</td>\n",
       "      <td>1</td>\n",
       "    </tr>\n",
       "    <tr>\n",
       "      <th>2023-01-04</th>\n",
       "      <td>42550</td>\n",
       "      <td>47350</td>\n",
       "      <td>41550</td>\n",
       "      <td>46900</td>\n",
       "      <td>7817245</td>\n",
       "      <td>0.128761</td>\n",
       "      <td>2</td>\n",
       "    </tr>\n",
       "    <tr>\n",
       "      <th>2023-01-05</th>\n",
       "      <td>46050</td>\n",
       "      <td>50200</td>\n",
       "      <td>45650</td>\n",
       "      <td>46950</td>\n",
       "      <td>5728586</td>\n",
       "      <td>0.001066</td>\n",
       "      <td>3</td>\n",
       "    </tr>\n",
       "    <tr>\n",
       "      <th>2023-01-06</th>\n",
       "      <td>46500</td>\n",
       "      <td>53600</td>\n",
       "      <td>46450</td>\n",
       "      <td>48200</td>\n",
       "      <td>6654312</td>\n",
       "      <td>0.026624</td>\n",
       "      <td>4</td>\n",
       "    </tr>\n",
       "    <tr>\n",
       "      <th>...</th>\n",
       "      <td>...</td>\n",
       "      <td>...</td>\n",
       "      <td>...</td>\n",
       "      <td>...</td>\n",
       "      <td>...</td>\n",
       "      <td>...</td>\n",
       "      <td>...</td>\n",
       "    </tr>\n",
       "    <tr>\n",
       "      <th>2023-12-21</th>\n",
       "      <td>172000</td>\n",
       "      <td>184300</td>\n",
       "      <td>170100</td>\n",
       "      <td>177300</td>\n",
       "      <td>881801</td>\n",
       "      <td>0.018966</td>\n",
       "      <td>353</td>\n",
       "    </tr>\n",
       "    <tr>\n",
       "      <th>2023-12-22</th>\n",
       "      <td>179100</td>\n",
       "      <td>179300</td>\n",
       "      <td>172900</td>\n",
       "      <td>173400</td>\n",
       "      <td>309638</td>\n",
       "      <td>-0.021997</td>\n",
       "      <td>354</td>\n",
       "    </tr>\n",
       "    <tr>\n",
       "      <th>2023-12-26</th>\n",
       "      <td>173000</td>\n",
       "      <td>173000</td>\n",
       "      <td>167600</td>\n",
       "      <td>170400</td>\n",
       "      <td>282521</td>\n",
       "      <td>-0.017301</td>\n",
       "      <td>358</td>\n",
       "    </tr>\n",
       "    <tr>\n",
       "      <th>2023-12-27</th>\n",
       "      <td>170100</td>\n",
       "      <td>177200</td>\n",
       "      <td>168400</td>\n",
       "      <td>175500</td>\n",
       "      <td>357091</td>\n",
       "      <td>0.029930</td>\n",
       "      <td>359</td>\n",
       "    </tr>\n",
       "    <tr>\n",
       "      <th>2023-12-28</th>\n",
       "      <td>173900</td>\n",
       "      <td>177000</td>\n",
       "      <td>173200</td>\n",
       "      <td>176000</td>\n",
       "      <td>207611</td>\n",
       "      <td>0.002849</td>\n",
       "      <td>360</td>\n",
       "    </tr>\n",
       "  </tbody>\n",
       "</table>\n",
       "<p>245 rows × 7 columns</p>\n",
       "</div>"
      ],
      "text/plain": [
       "              Open    High     Low   Close    Volume    Change  Date_Integer\n",
       "Date                                                                        \n",
       "2023-01-02   34650   34950   32000   32600    537307 -0.053701             0\n",
       "2023-01-03   37600   42350   35700   41550  12696270  0.274540             1\n",
       "2023-01-04   42550   47350   41550   46900   7817245  0.128761             2\n",
       "2023-01-05   46050   50200   45650   46950   5728586  0.001066             3\n",
       "2023-01-06   46500   53600   46450   48200   6654312  0.026624             4\n",
       "...            ...     ...     ...     ...       ...       ...           ...\n",
       "2023-12-21  172000  184300  170100  177300    881801  0.018966           353\n",
       "2023-12-22  179100  179300  172900  173400    309638 -0.021997           354\n",
       "2023-12-26  173000  173000  167600  170400    282521 -0.017301           358\n",
       "2023-12-27  170100  177200  168400  175500    357091  0.029930           359\n",
       "2023-12-28  173900  177000  173200  176000    207611  0.002849           360\n",
       "\n",
       "[245 rows x 7 columns]"
      ]
     },
     "execution_count": 10,
     "metadata": {},
     "output_type": "execute_result"
    }
   ],
   "source": [
    "rb_stock"
   ]
  },
  {
   "cell_type": "code",
   "execution_count": 11,
   "metadata": {},
   "outputs": [
    {
     "name": "stdout",
     "output_type": "stream",
     "text": [
      "0          NaN\n",
      "1    -0.485846\n",
      "2     1.528153\n",
      "3    -0.566592\n",
      "4    -0.591276\n",
      "5     0.467980\n",
      "6    -0.426457\n",
      "7    -0.371769\n",
      "8     6.320809\n",
      "9    -1.251807\n",
      "10   -3.547848\n",
      "11   -0.410752\n",
      "Name: total, dtype: float64\n"
     ]
    }
   ],
   "source": [
    "company = \"레인보우로보틱스\"\n",
    "\n",
    "sentiment_result = pd.read_csv(\"../data/project/predicted_레인보우로보틱스_2023.csv\") # 감성분석 결과 csv파일 읽어오기\n",
    "sentiment_result['date'] = pd.to_datetime(sentiment_result['date'])\n",
    "sentiment_result['month'] = sentiment_result['date'].dt.month\n",
    "\n",
    "sentiments_data = []\n",
    "\n",
    "for index, row in sentiment_result.iterrows():\n",
    "    \n",
    "    month = row['month']\n",
    "    prediction = row['prediction']\n",
    "    score = row['score']\n",
    "   \n",
    "    sentiments_data.append([month, company, prediction, score])\n",
    "\n",
    "sentiments_df = pd.DataFrame(sentiments_data, columns=['month', 'company', 'prediction', 'score'])\n",
    "\n",
    "# 감성에 따른 가중치 매핑\n",
    "weights = {'호재': 1, '악재': -1, '중립': 0}\n",
    "sentiments_df['total'] = sentiments_df['prediction'].map(weights) * sentiments_df['score']\n",
    "sentiments_df = sentiments_df.drop('company', axis=1)\n",
    "sentiments_df = sentiments_df.rename(columns={'레인보우로보틱스': 'total'})\n",
    "sentiments_df['month'] = sentiments_df['month'].astype(str) + '월'\n",
    "\n",
    "# 'month' 기준 그룹화 및 합계\n",
    "df_monthly_total = sentiments_df.groupby('month')['total'].sum().reset_index()\n",
    "\n",
    "df_monthly_total['month'] = pd.Categorical(df_monthly_total['month'], categories=['1월', '2월', '3월', '4월', '5월', '6월', '7월', '8월', '9월', '10월', '11월', '12월'], ordered=True)\n",
    "df_monthly_total = df_monthly_total.sort_values('month')\n",
    "df_monthly_total = df_monthly_total.reset_index(drop=True)\n",
    "\n",
    "# 월별 감성분석 변동\n",
    "monthly_avg_total = df_monthly_total['total']\n",
    "monthly_avg_total_diff = monthly_avg_total.pct_change()\n",
    "\n",
    "print(monthly_avg_total_diff)\n"
   ]
  },
  {
   "cell_type": "code",
   "execution_count": 12,
   "metadata": {},
   "outputs": [
    {
     "data": {
      "text/plain": [
       "[0.2901873663914156,\n",
       " 0.44225884576761754,\n",
       " -0.012676114023591034,\n",
       " -0.04156970111795577,\n",
       " -0.053649644965584775,\n",
       " -0.035599635858368006,\n",
       " 0.2926768680445151,\n",
       " 0.44866403296376545,\n",
       " -0.2328827375890684,\n",
       " 0.18078611117868015,\n",
       " 0.050418486385949146]"
      ]
     },
     "execution_count": 12,
     "metadata": {},
     "output_type": "execute_result"
    }
   ],
   "source": [
    "sentiment_predicted_diff = monthly_avg_total_diff.tolist()\n",
    "month_avg_gain = monthly_avg_returns.tolist()\n",
    "\n",
    "if pd.isna(month_avg_gain[0]):\n",
    "    month_avg_gain = month_avg_gain[1:]\n",
    "    sentiment_predicted_diff = sentiment_predicted_diff[1:]\n",
    "\n",
    "month_avg_gain"
   ]
  },
  {
   "cell_type": "code",
   "execution_count": 13,
   "metadata": {},
   "outputs": [
    {
     "name": "stdout",
     "output_type": "stream",
     "text": [
      "Correlation Coefficient: 0.5250551967221427\n",
      "P-value: 0.09722555034432241\n",
      "No statistically significant correlation.\n"
     ]
    }
   ],
   "source": [
    "import numpy as np\n",
    "import scipy.stats\n",
    "\n",
    "# 두 리스트 간의 상관 계수 계산\n",
    "correlation_coefficient, p_value = scipy.stats.pearsonr(sentiment_predicted_diff, month_avg_gain)\n",
    "\n",
    "print(f\"Correlation Coefficient: {correlation_coefficient}\")\n",
    "print(f\"P-value: {p_value}\")\n",
    "\n",
    "if p_value < 0.05:\n",
    "    print(\"Statistically significant correlation.\")\n",
    "else:\n",
    "    print(\"No statistically significant correlation.\")"
   ]
  },
  {
   "cell_type": "code",
   "execution_count": 14,
   "metadata": {},
   "outputs": [
    {
     "name": "stdout",
     "output_type": "stream",
     "text": [
      "              월별 평균 수익률 변동  월별 감성분석 변동\n",
      "월별 평균 수익률 변동      1.000000    0.525055\n",
      "월별 감성분석 변동        0.525055    1.000000\n"
     ]
    }
   ],
   "source": [
    "import pandas as pd\n",
    "\n",
    "correlation_data = pd.DataFrame({'월별 평균 수익률 변동': month_avg_gain, '월별 감성분석 변동': sentiment_predicted_diff})\n",
    "\n",
    "# 상관 행렬\n",
    "correlation_matrix = correlation_data.corr()\n",
    "\n",
    "print(correlation_matrix)"
   ]
  },
  {
   "cell_type": "code",
   "execution_count": 15,
   "metadata": {},
   "outputs": [
    {
     "data": {
      "text/html": [
       "<div>\n",
       "<style scoped>\n",
       "    .dataframe tbody tr th:only-of-type {\n",
       "        vertical-align: middle;\n",
       "    }\n",
       "\n",
       "    .dataframe tbody tr th {\n",
       "        vertical-align: top;\n",
       "    }\n",
       "\n",
       "    .dataframe thead th {\n",
       "        text-align: right;\n",
       "    }\n",
       "</style>\n",
       "<table border=\"1\" class=\"dataframe\">\n",
       "  <thead>\n",
       "    <tr style=\"text-align: right;\">\n",
       "      <th></th>\n",
       "      <th>월별 평균 수익률 변동</th>\n",
       "      <th>월별 감성분석 변동</th>\n",
       "    </tr>\n",
       "  </thead>\n",
       "  <tbody>\n",
       "    <tr>\n",
       "      <th>2월</th>\n",
       "      <td>0.290187</td>\n",
       "      <td>-0.485846</td>\n",
       "    </tr>\n",
       "    <tr>\n",
       "      <th>3월</th>\n",
       "      <td>0.442259</td>\n",
       "      <td>1.528153</td>\n",
       "    </tr>\n",
       "    <tr>\n",
       "      <th>4월</th>\n",
       "      <td>-0.012676</td>\n",
       "      <td>-0.566592</td>\n",
       "    </tr>\n",
       "    <tr>\n",
       "      <th>5월</th>\n",
       "      <td>-0.041570</td>\n",
       "      <td>-0.591276</td>\n",
       "    </tr>\n",
       "    <tr>\n",
       "      <th>6월</th>\n",
       "      <td>-0.053650</td>\n",
       "      <td>0.467980</td>\n",
       "    </tr>\n",
       "    <tr>\n",
       "      <th>7월</th>\n",
       "      <td>-0.035600</td>\n",
       "      <td>-0.426457</td>\n",
       "    </tr>\n",
       "    <tr>\n",
       "      <th>8월</th>\n",
       "      <td>0.292677</td>\n",
       "      <td>-0.371769</td>\n",
       "    </tr>\n",
       "    <tr>\n",
       "      <th>9월</th>\n",
       "      <td>0.448664</td>\n",
       "      <td>6.320809</td>\n",
       "    </tr>\n",
       "    <tr>\n",
       "      <th>10월</th>\n",
       "      <td>-0.232883</td>\n",
       "      <td>-1.251807</td>\n",
       "    </tr>\n",
       "    <tr>\n",
       "      <th>11월</th>\n",
       "      <td>0.180786</td>\n",
       "      <td>-3.547848</td>\n",
       "    </tr>\n",
       "    <tr>\n",
       "      <th>12월</th>\n",
       "      <td>0.050418</td>\n",
       "      <td>-0.410752</td>\n",
       "    </tr>\n",
       "  </tbody>\n",
       "</table>\n",
       "</div>"
      ],
      "text/plain": [
       "     월별 평균 수익률 변동  월별 감성분석 변동\n",
       "2월       0.290187   -0.485846\n",
       "3월       0.442259    1.528153\n",
       "4월      -0.012676   -0.566592\n",
       "5월      -0.041570   -0.591276\n",
       "6월      -0.053650    0.467980\n",
       "7월      -0.035600   -0.426457\n",
       "8월       0.292677   -0.371769\n",
       "9월       0.448664    6.320809\n",
       "10월     -0.232883   -1.251807\n",
       "11월      0.180786   -3.547848\n",
       "12월      0.050418   -0.410752"
      ]
     },
     "execution_count": 15,
     "metadata": {},
     "output_type": "execute_result"
    }
   ],
   "source": [
    "import seaborn as sns\n",
    "import matplotlib.pyplot as plt\n",
    "\n",
    "# 데이터프레임에 인덱스 설정\n",
    "index_months = [str(i) + '월' for i in range(2, 13)]\n",
    "correlation_data.index = index_months\n",
    "\n",
    "correlation_data\n"
   ]
  },
  {
   "cell_type": "code",
   "execution_count": 16,
   "metadata": {},
   "outputs": [
    {
     "data": {
      "image/png": "[encoded data removed]",
      "text/plain": [
       "<Figure size 1000x600 with 1 Axes>"
      ]
     },
     "metadata": {},
     "output_type": "display_data"
    }
   ],
   "source": [
    "import seaborn as sns\n",
    "import matplotlib.pyplot as plt\n",
    "\n",
    "# 월별 평균 수익률 변동에 적절한 가중치 설정\n",
    "correlation_data['월별 평균 수익률 변동'] = correlation_data['월별 평균 수익률 변동'] * 3\n",
    "\n",
    "# 히스토그램\n",
    "plt.figure(figsize=(10, 6))\n",
    "plt.grid(axis='y', which='major', alpha=0.5)\n",
    "sns.barplot(x=index_months, y='월별 평균 수익률 변동', data=correlation_data, alpha=0.7, label='월별 평균 수익률 변동', color='Blue')\n",
    "sns.barplot(x=index_months, y='월별 감성분석 변동', data=correlation_data, alpha=0.8, label='월별 감성분석 변동', color = 'Gray')\n",
    "plt.title('월별 평균 수익률 변동 & 감성분석 변동 분포')\n",
    "plt.xlabel('월')\n",
    "plt.ylabel('수치')\n",
    "plt.legend()\n",
    "plt.show()"
   ]
  },
  {
   "cell_type": "code",
   "execution_count": null,
   "metadata": {},
   "outputs": [],
   "source": []
  }
 ],
 "metadata": {
  "kernelspec": {
   "display_name": "eda_venv",
   "language": "python",
   "name": "python3"
  },
  "language_info": {
   "codemirror_mode": {
    "name": "ipython",
    "version": 3
   },
   "file_extension": ".py",
   "mimetype": "text/x-python",
   "name": "python",
   "nbconvert_exporter": "python",
   "pygments_lexer": "ipython3",
   "version": "3.10.12"
  }
 },
 "nbformat": 4,
 "nbformat_minor": 2
}
