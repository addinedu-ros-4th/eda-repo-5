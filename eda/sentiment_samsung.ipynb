{
 "cells": [
  {
   "cell_type": "markdown",
   "metadata": {},
   "source": [
    "# 감성분석 결과와 주가 데이터 비교"
   ]
  },
  {
   "cell_type": "markdown",
   "metadata": {},
   "source": [
    "## 감성분석 결과 데이터프레임"
   ]
  },
  {
   "cell_type": "code",
   "execution_count": 1,
   "metadata": {},
   "outputs": [
    {
     "data": {
      "text/html": [
       "<div>\n",
       "<style scoped>\n",
       "    .dataframe tbody tr th:only-of-type {\n",
       "        vertical-align: middle;\n",
       "    }\n",
       "\n",
       "    .dataframe tbody tr th {\n",
       "        vertical-align: top;\n",
       "    }\n",
       "\n",
       "    .dataframe thead th {\n",
       "        text-align: right;\n",
       "    }\n",
       "</style>\n",
       "<table border=\"1\" class=\"dataframe\">\n",
       "  <thead>\n",
       "    <tr style=\"text-align: right;\">\n",
       "      <th></th>\n",
       "      <th>month</th>\n",
       "      <th>company</th>\n",
       "      <th>prediction</th>\n",
       "      <th>score</th>\n",
       "    </tr>\n",
       "  </thead>\n",
       "  <tbody>\n",
       "    <tr>\n",
       "      <th>0</th>\n",
       "      <td>1</td>\n",
       "      <td>삼성전자</td>\n",
       "      <td>호재</td>\n",
       "      <td>2.949686</td>\n",
       "    </tr>\n",
       "    <tr>\n",
       "      <th>1</th>\n",
       "      <td>1</td>\n",
       "      <td>삼성전자</td>\n",
       "      <td>호재</td>\n",
       "      <td>6.362477</td>\n",
       "    </tr>\n",
       "    <tr>\n",
       "      <th>2</th>\n",
       "      <td>1</td>\n",
       "      <td>삼성전자</td>\n",
       "      <td>호재</td>\n",
       "      <td>5.188083</td>\n",
       "    </tr>\n",
       "    <tr>\n",
       "      <th>3</th>\n",
       "      <td>1</td>\n",
       "      <td>삼성전자</td>\n",
       "      <td>악재</td>\n",
       "      <td>6.192028</td>\n",
       "    </tr>\n",
       "    <tr>\n",
       "      <th>4</th>\n",
       "      <td>1</td>\n",
       "      <td>삼성전자</td>\n",
       "      <td>중립</td>\n",
       "      <td>5.007812</td>\n",
       "    </tr>\n",
       "    <tr>\n",
       "      <th>...</th>\n",
       "      <td>...</td>\n",
       "      <td>...</td>\n",
       "      <td>...</td>\n",
       "      <td>...</td>\n",
       "    </tr>\n",
       "    <tr>\n",
       "      <th>6456</th>\n",
       "      <td>12</td>\n",
       "      <td>삼성전자</td>\n",
       "      <td>호재</td>\n",
       "      <td>5.736773</td>\n",
       "    </tr>\n",
       "    <tr>\n",
       "      <th>6457</th>\n",
       "      <td>12</td>\n",
       "      <td>삼성전자</td>\n",
       "      <td>중립</td>\n",
       "      <td>5.329077</td>\n",
       "    </tr>\n",
       "    <tr>\n",
       "      <th>6458</th>\n",
       "      <td>12</td>\n",
       "      <td>삼성전자</td>\n",
       "      <td>호재</td>\n",
       "      <td>6.616199</td>\n",
       "    </tr>\n",
       "    <tr>\n",
       "      <th>6459</th>\n",
       "      <td>12</td>\n",
       "      <td>삼성전자</td>\n",
       "      <td>호재</td>\n",
       "      <td>6.603549</td>\n",
       "    </tr>\n",
       "    <tr>\n",
       "      <th>6460</th>\n",
       "      <td>12</td>\n",
       "      <td>삼성전자</td>\n",
       "      <td>호재</td>\n",
       "      <td>6.609569</td>\n",
       "    </tr>\n",
       "  </tbody>\n",
       "</table>\n",
       "<p>6461 rows × 4 columns</p>\n",
       "</div>"
      ],
      "text/plain": [
       "      month company prediction     score\n",
       "0         1    삼성전자         호재  2.949686\n",
       "1         1    삼성전자         호재  6.362477\n",
       "2         1    삼성전자         호재  5.188083\n",
       "3         1    삼성전자         악재  6.192028\n",
       "4         1    삼성전자         중립  5.007812\n",
       "...     ...     ...        ...       ...\n",
       "6456     12    삼성전자         호재  5.736773\n",
       "6457     12    삼성전자         중립  5.329077\n",
       "6458     12    삼성전자         호재  6.616199\n",
       "6459     12    삼성전자         호재  6.603549\n",
       "6460     12    삼성전자         호재  6.609569\n",
       "\n",
       "[6461 rows x 4 columns]"
      ]
     },
     "execution_count": 1,
     "metadata": {},
     "output_type": "execute_result"
    }
   ],
   "source": [
    "import koreanize_matplotlib\n",
    "import pandas as pd\n",
    "import numpy as np\n",
    "import seaborn as sns\n",
    "import matplotlib.pyplot as plt\n",
    "\n",
    "months = ['1월', '2월', '3월', '4월', '5월', '6월',\n",
    "           '7월', '8월', '9월', '10월', '11월', '12월']\n",
    "company = \"삼성전자\"\n",
    "\n",
    "sentiment_result = pd.read_csv(\"../data/project/predicted_삼성전자_2023.csv\") # 감성분석 결과 csv파일 읽어오기\n",
    "sentiment_result['date'] = pd.to_datetime(sentiment_result['date'])\n",
    "sentiment_result['month'] = sentiment_result['date'].dt.month\n",
    "\n",
    "sentiments_data = []\n",
    "\n",
    "for index, row in sentiment_result.iterrows():\n",
    "    \n",
    "    month = row['month']\n",
    "    prediction = row['prediction']\n",
    "    score = row['score']\n",
    "   \n",
    "    sentiments_data.append([month, company, prediction, score])\n",
    "\n",
    "sentiments_df = pd.DataFrame(sentiments_data, columns=['month', 'company', 'prediction', 'score'])\n",
    "sentiments_df"
   ]
  },
  {
   "cell_type": "code",
   "execution_count": 2,
   "metadata": {},
   "outputs": [
    {
     "data": {
      "text/html": [
       "<div>\n",
       "<style scoped>\n",
       "    .dataframe tbody tr th:only-of-type {\n",
       "        vertical-align: middle;\n",
       "    }\n",
       "\n",
       "    .dataframe tbody tr th {\n",
       "        vertical-align: top;\n",
       "    }\n",
       "\n",
       "    .dataframe thead th {\n",
       "        text-align: right;\n",
       "    }\n",
       "</style>\n",
       "<table border=\"1\" class=\"dataframe\">\n",
       "  <thead>\n",
       "    <tr style=\"text-align: right;\">\n",
       "      <th>company</th>\n",
       "      <th>삼성전자</th>\n",
       "    </tr>\n",
       "    <tr>\n",
       "      <th>month</th>\n",
       "      <th></th>\n",
       "    </tr>\n",
       "  </thead>\n",
       "  <tbody>\n",
       "    <tr>\n",
       "      <th>1월</th>\n",
       "      <td>-392.151479</td>\n",
       "    </tr>\n",
       "    <tr>\n",
       "      <th>2월</th>\n",
       "      <td>-219.816006</td>\n",
       "    </tr>\n",
       "    <tr>\n",
       "      <th>3월</th>\n",
       "      <td>377.953342</td>\n",
       "    </tr>\n",
       "    <tr>\n",
       "      <th>4월</th>\n",
       "      <td>-503.363980</td>\n",
       "    </tr>\n",
       "    <tr>\n",
       "      <th>5월</th>\n",
       "      <td>616.028683</td>\n",
       "    </tr>\n",
       "    <tr>\n",
       "      <th>6월</th>\n",
       "      <td>939.939568</td>\n",
       "    </tr>\n",
       "    <tr>\n",
       "      <th>7월</th>\n",
       "      <td>312.755958</td>\n",
       "    </tr>\n",
       "    <tr>\n",
       "      <th>8월</th>\n",
       "      <td>302.089980</td>\n",
       "    </tr>\n",
       "    <tr>\n",
       "      <th>9월</th>\n",
       "      <td>438.592495</td>\n",
       "    </tr>\n",
       "    <tr>\n",
       "      <th>10월</th>\n",
       "      <td>788.782363</td>\n",
       "    </tr>\n",
       "    <tr>\n",
       "      <th>11월</th>\n",
       "      <td>853.433961</td>\n",
       "    </tr>\n",
       "    <tr>\n",
       "      <th>12월</th>\n",
       "      <td>1186.816789</td>\n",
       "    </tr>\n",
       "  </tbody>\n",
       "</table>\n",
       "</div>"
      ],
      "text/plain": [
       "company         삼성전자\n",
       "month               \n",
       "1월       -392.151479\n",
       "2월       -219.816006\n",
       "3월        377.953342\n",
       "4월       -503.363980\n",
       "5월        616.028683\n",
       "6월        939.939568\n",
       "7월        312.755958\n",
       "8월        302.089980\n",
       "9월        438.592495\n",
       "10월       788.782363\n",
       "11월       853.433961\n",
       "12월      1186.816789"
      ]
     },
     "execution_count": 2,
     "metadata": {},
     "output_type": "execute_result"
    }
   ],
   "source": [
    "# 감성에 따른 가중치 매핑\n",
    "weights = {'호재': 1, '악재': -1, '중립': 0}\n",
    "sentiments_df['total'] = sentiments_df['prediction'].map(weights) * sentiments_df['score']\n",
    "sentiments_df['month'] = sentiments_df['month'].astype(str) + '월'\n",
    "\n",
    "df_monthly_total = sentiments_df.groupby(['month', 'company'])['total'].sum().unstack()\n",
    "df_monthly_total = df_monthly_total.reindex(months)\n",
    "\n",
    "df_monthly_total"
   ]
  },
  {
   "cell_type": "code",
   "execution_count": 3,
   "metadata": {},
   "outputs": [
    {
     "name": "stdout",
     "output_type": "stream",
     "text": [
      "<class 'pandas.core.frame.DataFrame'>\n",
      "RangeIndex: 6461 entries, 0 to 6460\n",
      "Data columns (total 5 columns):\n",
      " #   Column      Non-Null Count  Dtype  \n",
      "---  ------      --------------  -----  \n",
      " 0   month       6461 non-null   object \n",
      " 1   company     6461 non-null   object \n",
      " 2   prediction  6461 non-null   object \n",
      " 3   score       6461 non-null   float64\n",
      " 4   total       6461 non-null   float64\n",
      "dtypes: float64(2), object(3)\n",
      "memory usage: 252.5+ KB\n"
     ]
    }
   ],
   "source": [
    "sentiments_df.info()"
   ]
  },
  {
   "cell_type": "code",
   "execution_count": 4,
   "metadata": {},
   "outputs": [
    {
     "data": {
      "text/html": [
       "<div>\n",
       "<style scoped>\n",
       "    .dataframe tbody tr th:only-of-type {\n",
       "        vertical-align: middle;\n",
       "    }\n",
       "\n",
       "    .dataframe tbody tr th {\n",
       "        vertical-align: top;\n",
       "    }\n",
       "\n",
       "    .dataframe thead th {\n",
       "        text-align: right;\n",
       "    }\n",
       "</style>\n",
       "<table border=\"1\" class=\"dataframe\">\n",
       "  <thead>\n",
       "    <tr style=\"text-align: right;\">\n",
       "      <th></th>\n",
       "      <th>Code</th>\n",
       "      <th>ISU_CD</th>\n",
       "      <th>Name</th>\n",
       "      <th>Market</th>\n",
       "      <th>Dept</th>\n",
       "      <th>Close</th>\n",
       "      <th>ChangeCode</th>\n",
       "      <th>Changes</th>\n",
       "      <th>ChagesRatio</th>\n",
       "      <th>Open</th>\n",
       "      <th>High</th>\n",
       "      <th>Low</th>\n",
       "      <th>Volume</th>\n",
       "      <th>Amount</th>\n",
       "      <th>Marcap</th>\n",
       "      <th>Stocks</th>\n",
       "      <th>MarketId</th>\n",
       "    </tr>\n",
       "  </thead>\n",
       "  <tbody>\n",
       "    <tr>\n",
       "      <th>0</th>\n",
       "      <td>005930</td>\n",
       "      <td>KR7005930003</td>\n",
       "      <td>삼성전자</td>\n",
       "      <td>KOSPI</td>\n",
       "      <td></td>\n",
       "      <td>75200</td>\n",
       "      <td>1</td>\n",
       "      <td>100</td>\n",
       "      <td>0.13</td>\n",
       "      <td>75700</td>\n",
       "      <td>75800</td>\n",
       "      <td>74300</td>\n",
       "      <td>14756181</td>\n",
       "      <td>1106952682800</td>\n",
       "      <td>448927647760000</td>\n",
       "      <td>5969782550</td>\n",
       "      <td>STK</td>\n",
       "    </tr>\n",
       "  </tbody>\n",
       "</table>\n",
       "</div>"
      ],
      "text/plain": [
       "     Code        ISU_CD  Name Market Dept  Close ChangeCode  Changes  \\\n",
       "0  005930  KR7005930003  삼성전자  KOSPI       75200          1      100   \n",
       "\n",
       "   ChagesRatio   Open   High    Low    Volume         Amount           Marcap  \\\n",
       "0         0.13  75700  75800  74300  14756181  1106952682800  448927647760000   \n",
       "\n",
       "       Stocks MarketId  \n",
       "0  5969782550      STK  "
      ]
     },
     "execution_count": 4,
     "metadata": {},
     "output_type": "execute_result"
    }
   ],
   "source": [
    "import FinanceDataReader as fdr\n",
    "\n",
    "df_krx = fdr.StockListing('KRX')\n",
    "samsung = df_krx[df_krx[\"Name\"].isin([\"삼성전자\"])]\n",
    "samsung"
   ]
  },
  {
   "cell_type": "code",
   "execution_count": 5,
   "metadata": {},
   "outputs": [
    {
     "data": {
      "text/html": [
       "<div>\n",
       "<style scoped>\n",
       "    .dataframe tbody tr th:only-of-type {\n",
       "        vertical-align: middle;\n",
       "    }\n",
       "\n",
       "    .dataframe tbody tr th {\n",
       "        vertical-align: top;\n",
       "    }\n",
       "\n",
       "    .dataframe thead th {\n",
       "        text-align: right;\n",
       "    }\n",
       "</style>\n",
       "<table border=\"1\" class=\"dataframe\">\n",
       "  <thead>\n",
       "    <tr style=\"text-align: right;\">\n",
       "      <th></th>\n",
       "      <th>Open</th>\n",
       "      <th>High</th>\n",
       "      <th>Low</th>\n",
       "      <th>Close</th>\n",
       "      <th>Volume</th>\n",
       "      <th>Change</th>\n",
       "    </tr>\n",
       "    <tr>\n",
       "      <th>Date</th>\n",
       "      <th></th>\n",
       "      <th></th>\n",
       "      <th></th>\n",
       "      <th></th>\n",
       "      <th></th>\n",
       "      <th></th>\n",
       "    </tr>\n",
       "  </thead>\n",
       "  <tbody>\n",
       "    <tr>\n",
       "      <th>2023-01-02</th>\n",
       "      <td>55500</td>\n",
       "      <td>56100</td>\n",
       "      <td>55200</td>\n",
       "      <td>55500</td>\n",
       "      <td>10031448</td>\n",
       "      <td>0.003617</td>\n",
       "    </tr>\n",
       "    <tr>\n",
       "      <th>2023-01-03</th>\n",
       "      <td>55400</td>\n",
       "      <td>56000</td>\n",
       "      <td>54500</td>\n",
       "      <td>55400</td>\n",
       "      <td>13547030</td>\n",
       "      <td>-0.001802</td>\n",
       "    </tr>\n",
       "    <tr>\n",
       "      <th>2023-01-04</th>\n",
       "      <td>55700</td>\n",
       "      <td>58000</td>\n",
       "      <td>55600</td>\n",
       "      <td>57800</td>\n",
       "      <td>20188071</td>\n",
       "      <td>0.043321</td>\n",
       "    </tr>\n",
       "    <tr>\n",
       "      <th>2023-01-05</th>\n",
       "      <td>58200</td>\n",
       "      <td>58800</td>\n",
       "      <td>57600</td>\n",
       "      <td>58200</td>\n",
       "      <td>15682826</td>\n",
       "      <td>0.006920</td>\n",
       "    </tr>\n",
       "    <tr>\n",
       "      <th>2023-01-06</th>\n",
       "      <td>58300</td>\n",
       "      <td>59400</td>\n",
       "      <td>57900</td>\n",
       "      <td>59000</td>\n",
       "      <td>17334989</td>\n",
       "      <td>0.013746</td>\n",
       "    </tr>\n",
       "  </tbody>\n",
       "</table>\n",
       "</div>"
      ],
      "text/plain": [
       "             Open   High    Low  Close    Volume    Change\n",
       "Date                                                      \n",
       "2023-01-02  55500  56100  55200  55500  10031448  0.003617\n",
       "2023-01-03  55400  56000  54500  55400  13547030 -0.001802\n",
       "2023-01-04  55700  58000  55600  57800  20188071  0.043321\n",
       "2023-01-05  58200  58800  57600  58200  15682826  0.006920\n",
       "2023-01-06  58300  59400  57900  59000  17334989  0.013746"
      ]
     },
     "execution_count": 5,
     "metadata": {},
     "output_type": "execute_result"
    }
   ],
   "source": [
    "ds_stock = fdr.DataReader('005930', '2023-01-01', '2023-12-31')\n",
    "ds_stock.head()"
   ]
  },
  {
   "cell_type": "markdown",
   "metadata": {},
   "source": [
    "## 감성분석 결과 시각화"
   ]
  },
  {
   "cell_type": "code",
   "execution_count": 6,
   "metadata": {},
   "outputs": [
    {
     "data": {
      "image/png": "[encoded data removed]",
      "text/plain": [
       "<Figure size 1200x600 with 1 Axes>"
      ]
     },
     "metadata": {},
     "output_type": "display_data"
    }
   ],
   "source": [
    "import random\n",
    "import koreanize_matplotlib\n",
    "from datetime import datetime, timedelta\n",
    "import FinanceDataReader as fdr\n",
    "\n",
    "company = \"삼성전자\"\n",
    "\n",
    "sentiment_result = pd.read_csv(\"../data/project/predicted_삼성전자_2023.csv\") # 감성분석 결과 csv파일 읽어오기\n",
    "\n",
    "sentiment_result['date'] = pd.to_datetime(sentiment_result['date'])\n",
    "sentiment_result[\"date\"] = sentiment_result[\"date\"].dt.date\n",
    "\n",
    "sentiments_data = []\n",
    "\n",
    "for index, row in sentiment_result.iterrows():\n",
    "    date = row['date']\n",
    "    prediction = row['prediction']\n",
    "    score = row['score']\n",
    "    sentiments_data.append([date, company, prediction, score])\n",
    "\n",
    "sentiments_df2 = pd.DataFrame(sentiments_data, columns=['date', 'company', 'prediction', 'score'])\n",
    "\n",
    "# 감성에 따른 가중치 매핑\n",
    "weights = {'호재': 1, '악재': -1, '중립': 0}\n",
    "sentiments_df2['total'] = sentiments_df2['prediction'].map(weights) * sentiments_df2['score']\n",
    "\n",
    "df_ss = sentiments_df2.groupby(['date', 'company']).agg({'total': 'sum'}).reset_index()\n",
    "df_ss['date'] = pd.to_datetime(df_ss['date'])\n",
    "df_ss = df_ss.set_index('date')\n",
    "\n",
    "# 주가 데이터에 감성분석 결과 총점 추가\n",
    "ss_stock = fdr.DataReader('005930', '2023-01-01', '2023-12-31')\n",
    "ss_stock['Sentiment_Total'] = df_ss['total']\n",
    "ss_stock['Sentiment_Total'] = ss_stock['Sentiment_Total'].fillna(0)\n",
    "\n",
    "# 감성분석 결과 Scaling\n",
    "scaling_factor = 5\n",
    "ss_stock['Sentiment_Total'] = ss_stock['Sentiment_Total'] * scaling_factor\n",
    "\n",
    "# 누적 합 계산\n",
    "ss_stock['Sentiment_Total_Cumulative'] = ss_stock['Sentiment_Total'].cumsum()\n",
    "\n",
    "# 오프셋 설정\n",
    "offset = 55500\n",
    "ss_stock['Sentiment_Total_Cumulative_Offset'] = ss_stock['Sentiment_Total_Cumulative'] + offset\n",
    "\n",
    "plt.figure(figsize=(12, 6))\n",
    "plt.plot(ss_stock['Close'], label='삼성 주가', color='blue')\n",
    "plt.plot(ss_stock['Sentiment_Total_Cumulative_Offset'], label='예측 주가', linestyle='--', color='orange')\n",
    "plt.title('삼성 주가 예측 비교')\n",
    "plt.xlabel('날짜')\n",
    "plt.ylabel('가격')\n",
    "plt.legend()\n",
    "plt.show()"
   ]
  },
  {
   "cell_type": "code",
   "execution_count": 7,
   "metadata": {},
   "outputs": [
    {
     "data": {
      "text/html": [
       "<div>\n",
       "<style scoped>\n",
       "    .dataframe tbody tr th:only-of-type {\n",
       "        vertical-align: middle;\n",
       "    }\n",
       "\n",
       "    .dataframe tbody tr th {\n",
       "        vertical-align: top;\n",
       "    }\n",
       "\n",
       "    .dataframe thead th {\n",
       "        text-align: right;\n",
       "    }\n",
       "</style>\n",
       "<table border=\"1\" class=\"dataframe\">\n",
       "  <thead>\n",
       "    <tr style=\"text-align: right;\">\n",
       "      <th></th>\n",
       "      <th>Open</th>\n",
       "      <th>High</th>\n",
       "      <th>Low</th>\n",
       "      <th>Close</th>\n",
       "      <th>Volume</th>\n",
       "      <th>Change</th>\n",
       "      <th>Sentiment_Total</th>\n",
       "      <th>Sentiment_Total_Cumulative</th>\n",
       "      <th>Sentiment_Total_Cumulative_Offset</th>\n",
       "    </tr>\n",
       "    <tr>\n",
       "      <th>Date</th>\n",
       "      <th></th>\n",
       "      <th></th>\n",
       "      <th></th>\n",
       "      <th></th>\n",
       "      <th></th>\n",
       "      <th></th>\n",
       "      <th></th>\n",
       "      <th></th>\n",
       "      <th></th>\n",
       "    </tr>\n",
       "  </thead>\n",
       "  <tbody>\n",
       "    <tr>\n",
       "      <th>2023-01-02</th>\n",
       "      <td>55500</td>\n",
       "      <td>56100</td>\n",
       "      <td>55200</td>\n",
       "      <td>55500</td>\n",
       "      <td>10031448</td>\n",
       "      <td>0.003617</td>\n",
       "      <td>-43.207459</td>\n",
       "      <td>-43.207459</td>\n",
       "      <td>55456.792541</td>\n",
       "    </tr>\n",
       "    <tr>\n",
       "      <th>2023-01-03</th>\n",
       "      <td>55400</td>\n",
       "      <td>56000</td>\n",
       "      <td>54500</td>\n",
       "      <td>55400</td>\n",
       "      <td>13547030</td>\n",
       "      <td>-0.001802</td>\n",
       "      <td>505.974786</td>\n",
       "      <td>462.767327</td>\n",
       "      <td>55962.767327</td>\n",
       "    </tr>\n",
       "    <tr>\n",
       "      <th>2023-01-04</th>\n",
       "      <td>55700</td>\n",
       "      <td>58000</td>\n",
       "      <td>55600</td>\n",
       "      <td>57800</td>\n",
       "      <td>20188071</td>\n",
       "      <td>0.043321</td>\n",
       "      <td>245.847194</td>\n",
       "      <td>708.614521</td>\n",
       "      <td>56208.614521</td>\n",
       "    </tr>\n",
       "    <tr>\n",
       "      <th>2023-01-05</th>\n",
       "      <td>58200</td>\n",
       "      <td>58800</td>\n",
       "      <td>57600</td>\n",
       "      <td>58200</td>\n",
       "      <td>15682826</td>\n",
       "      <td>0.006920</td>\n",
       "      <td>119.389336</td>\n",
       "      <td>828.003857</td>\n",
       "      <td>56328.003857</td>\n",
       "    </tr>\n",
       "    <tr>\n",
       "      <th>2023-01-06</th>\n",
       "      <td>58300</td>\n",
       "      <td>59400</td>\n",
       "      <td>57900</td>\n",
       "      <td>59000</td>\n",
       "      <td>17334989</td>\n",
       "      <td>0.013746</td>\n",
       "      <td>-1055.233812</td>\n",
       "      <td>-227.229955</td>\n",
       "      <td>55272.770045</td>\n",
       "    </tr>\n",
       "    <tr>\n",
       "      <th>...</th>\n",
       "      <td>...</td>\n",
       "      <td>...</td>\n",
       "      <td>...</td>\n",
       "      <td>...</td>\n",
       "      <td>...</td>\n",
       "      <td>...</td>\n",
       "      <td>...</td>\n",
       "      <td>...</td>\n",
       "      <td>...</td>\n",
       "    </tr>\n",
       "    <tr>\n",
       "      <th>2023-12-21</th>\n",
       "      <td>74600</td>\n",
       "      <td>75000</td>\n",
       "      <td>74300</td>\n",
       "      <td>75000</td>\n",
       "      <td>13478766</td>\n",
       "      <td>0.002674</td>\n",
       "      <td>191.200926</td>\n",
       "      <td>20701.547687</td>\n",
       "      <td>76201.547687</td>\n",
       "    </tr>\n",
       "    <tr>\n",
       "      <th>2023-12-22</th>\n",
       "      <td>75800</td>\n",
       "      <td>76300</td>\n",
       "      <td>75400</td>\n",
       "      <td>75900</td>\n",
       "      <td>14515608</td>\n",
       "      <td>0.012000</td>\n",
       "      <td>540.927731</td>\n",
       "      <td>21242.475418</td>\n",
       "      <td>76742.475418</td>\n",
       "    </tr>\n",
       "    <tr>\n",
       "      <th>2023-12-26</th>\n",
       "      <td>76100</td>\n",
       "      <td>76700</td>\n",
       "      <td>75700</td>\n",
       "      <td>76600</td>\n",
       "      <td>13164909</td>\n",
       "      <td>0.009223</td>\n",
       "      <td>157.495108</td>\n",
       "      <td>21399.970526</td>\n",
       "      <td>76899.970526</td>\n",
       "    </tr>\n",
       "    <tr>\n",
       "      <th>2023-12-27</th>\n",
       "      <td>76700</td>\n",
       "      <td>78000</td>\n",
       "      <td>76500</td>\n",
       "      <td>78000</td>\n",
       "      <td>20651042</td>\n",
       "      <td>0.018277</td>\n",
       "      <td>157.198231</td>\n",
       "      <td>21557.168757</td>\n",
       "      <td>77057.168757</td>\n",
       "    </tr>\n",
       "    <tr>\n",
       "      <th>2023-12-28</th>\n",
       "      <td>77700</td>\n",
       "      <td>78500</td>\n",
       "      <td>77500</td>\n",
       "      <td>78500</td>\n",
       "      <td>17797536</td>\n",
       "      <td>0.006410</td>\n",
       "      <td>11.750360</td>\n",
       "      <td>21568.919117</td>\n",
       "      <td>77068.919117</td>\n",
       "    </tr>\n",
       "  </tbody>\n",
       "</table>\n",
       "<p>245 rows × 9 columns</p>\n",
       "</div>"
      ],
      "text/plain": [
       "             Open   High    Low  Close    Volume    Change  Sentiment_Total  \\\n",
       "Date                                                                          \n",
       "2023-01-02  55500  56100  55200  55500  10031448  0.003617       -43.207459   \n",
       "2023-01-03  55400  56000  54500  55400  13547030 -0.001802       505.974786   \n",
       "2023-01-04  55700  58000  55600  57800  20188071  0.043321       245.847194   \n",
       "2023-01-05  58200  58800  57600  58200  15682826  0.006920       119.389336   \n",
       "2023-01-06  58300  59400  57900  59000  17334989  0.013746     -1055.233812   \n",
       "...           ...    ...    ...    ...       ...       ...              ...   \n",
       "2023-12-21  74600  75000  74300  75000  13478766  0.002674       191.200926   \n",
       "2023-12-22  75800  76300  75400  75900  14515608  0.012000       540.927731   \n",
       "2023-12-26  76100  76700  75700  76600  13164909  0.009223       157.495108   \n",
       "2023-12-27  76700  78000  76500  78000  20651042  0.018277       157.198231   \n",
       "2023-12-28  77700  78500  77500  78500  17797536  0.006410        11.750360   \n",
       "\n",
       "            Sentiment_Total_Cumulative  Sentiment_Total_Cumulative_Offset  \n",
       "Date                                                                       \n",
       "2023-01-02                  -43.207459                       55456.792541  \n",
       "2023-01-03                  462.767327                       55962.767327  \n",
       "2023-01-04                  708.614521                       56208.614521  \n",
       "2023-01-05                  828.003857                       56328.003857  \n",
       "2023-01-06                 -227.229955                       55272.770045  \n",
       "...                                ...                                ...  \n",
       "2023-12-21                20701.547687                       76201.547687  \n",
       "2023-12-22                21242.475418                       76742.475418  \n",
       "2023-12-26                21399.970526                       76899.970526  \n",
       "2023-12-27                21557.168757                       77057.168757  \n",
       "2023-12-28                21568.919117                       77068.919117  \n",
       "\n",
       "[245 rows x 9 columns]"
      ]
     },
     "execution_count": 7,
     "metadata": {},
     "output_type": "execute_result"
    }
   ],
   "source": [
    "ss_stock"
   ]
  },
  {
   "cell_type": "markdown",
   "metadata": {},
   "source": [
    "### 감성분석 결과 기반 경향선과 주가 데이터 최적경향선 비교"
   ]
  },
  {
   "cell_type": "code",
   "execution_count": 8,
   "metadata": {},
   "outputs": [
    {
     "data": {
      "image/png": "[encoded data removed]",
      "text/plain": [
       "<Figure size 1200x600 with 1 Axes>"
      ]
     },
     "metadata": {},
     "output_type": "display_data"
    }
   ],
   "source": [
    "import FinanceDataReader as fdr\n",
    "import seaborn as sns\n",
    "import matplotlib.pyplot as plt\n",
    "\n",
    "# 주가 데이터 가져오기\n",
    "ss_stock = fdr.DataReader('005930', '2023-01-01', '2023-12-31')\n",
    "\n",
    "# 감성분석 결과의 크기를 조절\n",
    "scaling_factor = 5\n",
    "df_ss['Sentiment_Total'] = df_ss['total'] * scaling_factor\n",
    "\n",
    "ss_stock = ss_stock.sort_index()\n",
    "df_ss = df_ss.sort_index()\n",
    "\n",
    "# 날짜를 일로 나타내는 정수로 변환\n",
    "ss_stock['Date_Integer'] = (ss_stock.index - ss_stock.index.min()).days\n",
    "df_ss['Date_Integer'] = (df_ss.index - df_ss.index.min()).days\n",
    "\n",
    "# 주식 데이터와 감성분석 결과 날짜기준 병합\n",
    "merged_data = pd.merge(ss_stock, df_ss, left_on='Date_Integer', right_on='Date_Integer', how='left')\n",
    "\n",
    "# 결측치 처리\n",
    "merged_data['Sentiment_Total'] = merged_data['Sentiment_Total'].fillna(0)\n",
    "\n",
    "# 감성분석 결과기반 1차 함수의 계수 및 y값 계산\n",
    "coeff = np.polyfit(merged_data['Date_Integer'], merged_data['Sentiment_Total'].cumsum(), 1)\n",
    "merged_data['Sentiment_Linear'] = np.polyval(coeff, merged_data['Date_Integer'])\n",
    "\n",
    "# 오프셋 설정\n",
    "offset = merged_data['Close'].mean() - merged_data['Sentiment_Linear'].iloc[len(merged_data) // 2]\n",
    "merged_data['Sentiment_Linear_Offset'] = merged_data['Sentiment_Linear'] + offset\n",
    "\n",
    "plt.figure(figsize=(12, 6))\n",
    "plt.plot(merged_data['Close'], label='삼성주가', color='blue')\n",
    "plt.plot(merged_data['Sentiment_Linear_Offset'], label='감성분석 경향선', linestyle='--', color='orange')\n",
    "plt.title('삼성전자 주가 예측 비교')\n",
    "plt.xlabel('날짜')\n",
    "plt.ylabel('주가')\n",
    "plt.legend()\n",
    "plt.show()\n"
   ]
  },
  {
   "cell_type": "code",
   "execution_count": 9,
   "metadata": {},
   "outputs": [
    {
     "data": {
      "text/html": [
       "        <script type=\"text/javascript\">\n",
       "        window.PlotlyConfig = {MathJaxConfig: 'local'};\n",
       "        if (window.MathJax && window.MathJax.Hub && window.MathJax.Hub.Config) {window.MathJax.Hub.Config({SVG: {font: \"STIX-Web\"}});}\n",
       "        if (typeof require !== 'undefined') {\n",
       "        require.undef(\"plotly\");\n",
       "        requirejs.config({\n",
       "            paths: {\n",
       "                'plotly': ['https://cdn.plot.ly/plotly-2.27.0.min']\n",
       "            }\n",
       "        });\n",
       "        require(['plotly'], function(Plotly) {\n",
       "            window._Plotly = Plotly;\n",
       "        });\n",
       "        }\n",
       "        </script>\n",
       "        "
      ]
     },
     "metadata": {},
     "output_type": "display_data"
    },
    {
     "data": {
      "application/vnd.plotly.v1+json": {
       "config": {
        "linkText": "Export to plot.ly",
        "plotlyServerURL": "https://plot.ly",
        "showLink": true
       },
       "data": [
        {
         "line": {
          "color": "rgba(255, 153, 51, 1.0)",
          "dash": "solid",
          "shape": "linear",
          "width": 1.3
         },
         "mode": "lines",
         "name": "Close",
         "text": "",
         "type": "scatter",
         "x": [
          "2023-01-02",
          "2023-01-03",
          "2023-01-04",
          "2023-01-05",
          "2023-01-06",
          "2023-01-09",
          "2023-01-10",
          "2023-01-11",
          "2023-01-12",
          "2023-01-13",
          "2023-01-16",
          "2023-01-17",
          "2023-01-18",
          "2023-01-19",
          "2023-01-20",
          "2023-01-25",
          "2023-01-26",
          "2023-01-27",
          "2023-01-30",
          "2023-01-31",
          "2023-02-01",
          "2023-02-02",
          "2023-02-03",
          "2023-02-06",
          "2023-02-07",
          "2023-02-08",
          "2023-02-09",
          "2023-02-10",
          "2023-02-13",
          "2023-02-14",
          "2023-02-15",
          "2023-02-16",
          "2023-02-17",
          "2023-02-20",
          "2023-02-21",
          "2023-02-22",
          "2023-02-23",
          "2023-02-24",
          "2023-02-27",
          "2023-02-28",
          "2023-03-02",
          "2023-03-03",
          "2023-03-06",
          "2023-03-07",
          "2023-03-08",
          "2023-03-09",
          "2023-03-10",
          "2023-03-13",
          "2023-03-14",
          "2023-03-15",
          "2023-03-16",
          "2023-03-17",
          "2023-03-20",
          "2023-03-21",
          "2023-03-22",
          "2023-03-23",
          "2023-03-24",
          "2023-03-27",
          "2023-03-28",
          "2023-03-29",
          "2023-03-30",
          "2023-03-31",
          "2023-04-03",
          "2023-04-04",
          "2023-04-05",
          "2023-04-06",
          "2023-04-07",
          "2023-04-10",
          "2023-04-11",
          "2023-04-12",
          "2023-04-13",
          "2023-04-14",
          "2023-04-17",
          "2023-04-18",
          "2023-04-19",
          "2023-04-20",
          "2023-04-21",
          "2023-04-24",
          "2023-04-25",
          "2023-04-26",
          "2023-04-27",
          "2023-04-28",
          "2023-05-02",
          "2023-05-03",
          "2023-05-04",
          "2023-05-08",
          "2023-05-09",
          "2023-05-10",
          "2023-05-11",
          "2023-05-12",
          "2023-05-15",
          "2023-05-16",
          "2023-05-17",
          "2023-05-18",
          "2023-05-19",
          "2023-05-22",
          "2023-05-23",
          "2023-05-24",
          "2023-05-25",
          "2023-05-26",
          "2023-05-30",
          "2023-05-31",
          "2023-06-01",
          "2023-06-02",
          "2023-06-05",
          "2023-06-07",
          "2023-06-08",
          "2023-06-09",
          "2023-06-12",
          "2023-06-13",
          "2023-06-14",
          "2023-06-15",
          "2023-06-16",
          "2023-06-19",
          "2023-06-20",
          "2023-06-21",
          "2023-06-22",
          "2023-06-23",
          "2023-06-26",
          "2023-06-27",
          "2023-06-28",
          "2023-06-29",
          "2023-06-30",
          "2023-07-03",
          "2023-07-04",
          "2023-07-05",
          "2023-07-06",
          "2023-07-07",
          "2023-07-10",
          "2023-07-11",
          "2023-07-12",
          "2023-07-13",
          "2023-07-14",
          "2023-07-17",
          "2023-07-18",
          "2023-07-19",
          "2023-07-20",
          "2023-07-21",
          "2023-07-24",
          "2023-07-25",
          "2023-07-26",
          "2023-07-27",
          "2023-07-28",
          "2023-07-31",
          "2023-08-01",
          "2023-08-02",
          "2023-08-03",
          "2023-08-04",
          "2023-08-07",
          "2023-08-08",
          "2023-08-09",
          "2023-08-10",
          "2023-08-11",
          "2023-08-14",
          "2023-08-16",
          "2023-08-17",
          "2023-08-18",
          "2023-08-21",
          "2023-08-22",
          "2023-08-23",
          "2023-08-24",
          "2023-08-25",
          "2023-08-28",
          "2023-08-29",
          "2023-08-30",
          "2023-08-31",
          "2023-09-01",
          "2023-09-04",
          "2023-09-05",
          "2023-09-06",
          "2023-09-07",
          "2023-09-08",
          "2023-09-11",
          "2023-09-12",
          "2023-09-13",
          "2023-09-14",
          "2023-09-15",
          "2023-09-18",
          "2023-09-19",
          "2023-09-20",
          "2023-09-21",
          "2023-09-22",
          "2023-09-25",
          "2023-09-26",
          "2023-09-27",
          "2023-10-04",
          "2023-10-05",
          "2023-10-06",
          "2023-10-10",
          "2023-10-11",
          "2023-10-12",
          "2023-10-13",
          "2023-10-16",
          "2023-10-17",
          "2023-10-18",
          "2023-10-19",
          "2023-10-20",
          "2023-10-23",
          "2023-10-24",
          "2023-10-25",
          "2023-10-26",
          "2023-10-27",
          "2023-10-30",
          "2023-10-31",
          "2023-11-01",
          "2023-11-02",
          "2023-11-03",
          "2023-11-06",
          "2023-11-07",
          "2023-11-08",
          "2023-11-09",
          "2023-11-10",
          "2023-11-13",
          "2023-11-14",
          "2023-11-15",
          "2023-11-16",
          "2023-11-17",
          "2023-11-20",
          "2023-11-21",
          "2023-11-22",
          "2023-11-23",
          "2023-11-24",
          "2023-11-27",
          "2023-11-28",
          "2023-11-29",
          "2023-11-30",
          "2023-12-01",
          "2023-12-04",
          "2023-12-05",
          "2023-12-06",
          "2023-12-07",
          "2023-12-08",
          "2023-12-11",
          "2023-12-12",
          "2023-12-13",
          "2023-12-14",
          "2023-12-15",
          "2023-12-18",
          "2023-12-19",
          "2023-12-20",
          "2023-12-21",
          "2023-12-22",
          "2023-12-26",
          "2023-12-27",
          "2023-12-28"
         ],
         "y": [
          55500,
          55400,
          57800,
          58200,
          59000,
          60700,
          60400,
          60500,
          60500,
          60800,
          61100,
          61000,
          60400,
          61500,
          61800,
          63400,
          63900,
          64600,
          63300,
          61000,
          61800,
          63500,
          63800,
          61600,
          61900,
          63100,
          63000,
          62800,
          62900,
          63200,
          62200,
          63700,
          62600,
          62700,
          62100,
          61100,
          62000,
          61300,
          60500,
          60600,
          60800,
          60500,
          61500,
          60700,
          60300,
          60100,
          59500,
          60000,
          59000,
          59800,
          59900,
          61300,
          60200,
          60300,
          61100,
          62300,
          63000,
          62100,
          62900,
          62700,
          63200,
          64000,
          63100,
          63600,
          63900,
          62300,
          65000,
          65700,
          65900,
          66000,
          66100,
          65100,
          65300,
          65600,
          65500,
          65300,
          65700,
          65200,
          63600,
          64100,
          64600,
          65500,
          65700,
          65400,
          65100,
          65900,
          65300,
          64600,
          64200,
          64100,
          64500,
          65400,
          65000,
          66200,
          68400,
          68500,
          68400,
          68500,
          68800,
          70300,
          72300,
          71400,
          70900,
          72200,
          71700,
          71000,
          70900,
          72000,
          71000,
          72000,
          71900,
          71500,
          71800,
          71200,
          71400,
          70500,
          71300,
          71600,
          72400,
          72600,
          72700,
          72400,
          72200,
          73000,
          73000,
          72000,
          71600,
          69900,
          69500,
          71500,
          71900,
          71900,
          73400,
          73300,
          72000,
          71700,
          71000,
          70300,
          70400,
          70000,
          69800,
          71700,
          70600,
          69800,
          71100,
          69900,
          68800,
          68300,
          68500,
          67600,
          68900,
          68000,
          67500,
          67300,
          67000,
          66700,
          66300,
          66600,
          66600,
          67100,
          68200,
          67100,
          66800,
          66800,
          67100,
          66900,
          71000,
          71200,
          70700,
          70000,
          70400,
          70300,
          70800,
          70500,
          70900,
          71700,
          72000,
          70200,
          69800,
          69600,
          68900,
          68800,
          69400,
          68600,
          68400,
          67500,
          66700,
          66000,
          66400,
          68200,
          68900,
          68000,
          67300,
          69400,
          70500,
          69500,
          68800,
          68400,
          68500,
          68000,
          66700,
          67300,
          67300,
          66900,
          68600,
          69700,
          69600,
          70900,
          70900,
          69900,
          70300,
          70500,
          70400,
          70800,
          72200,
          72800,
          72500,
          72700,
          72800,
          72800,
          72400,
          71700,
          71300,
          72700,
          72700,
          72800,
          72000,
          72600,
          71200,
          71700,
          71500,
          72600,
          73000,
          73500,
          72800,
          73100,
          73300,
          72900,
          73400,
          74800,
          75000,
          75900,
          76600,
          78000,
          78500
         ]
        },
        {
         "line": {
          "color": "rgba(55, 128, 191, 1.0)",
          "dash": "dash",
          "shape": "linear",
          "width": 3
         },
         "mode": "lines",
         "name": "52.13*x+61045.70",
         "type": "scatter",
         "x": [
          "2023-01-02",
          "2023-01-03",
          "2023-01-04",
          "2023-01-05",
          "2023-01-06",
          "2023-01-09",
          "2023-01-10",
          "2023-01-11",
          "2023-01-12",
          "2023-01-13",
          "2023-01-16",
          "2023-01-17",
          "2023-01-18",
          "2023-01-19",
          "2023-01-20",
          "2023-01-25",
          "2023-01-26",
          "2023-01-27",
          "2023-01-30",
          "2023-01-31",
          "2023-02-01",
          "2023-02-02",
          "2023-02-03",
          "2023-02-06",
          "2023-02-07",
          "2023-02-08",
          "2023-02-09",
          "2023-02-10",
          "2023-02-13",
          "2023-02-14",
          "2023-02-15",
          "2023-02-16",
          "2023-02-17",
          "2023-02-20",
          "2023-02-21",
          "2023-02-22",
          "2023-02-23",
          "2023-02-24",
          "2023-02-27",
          "2023-02-28",
          "2023-03-02",
          "2023-03-03",
          "2023-03-06",
          "2023-03-07",
          "2023-03-08",
          "2023-03-09",
          "2023-03-10",
          "2023-03-13",
          "2023-03-14",
          "2023-03-15",
          "2023-03-16",
          "2023-03-17",
          "2023-03-20",
          "2023-03-21",
          "2023-03-22",
          "2023-03-23",
          "2023-03-24",
          "2023-03-27",
          "2023-03-28",
          "2023-03-29",
          "2023-03-30",
          "2023-03-31",
          "2023-04-03",
          "2023-04-04",
          "2023-04-05",
          "2023-04-06",
          "2023-04-07",
          "2023-04-10",
          "2023-04-11",
          "2023-04-12",
          "2023-04-13",
          "2023-04-14",
          "2023-04-17",
          "2023-04-18",
          "2023-04-19",
          "2023-04-20",
          "2023-04-21",
          "2023-04-24",
          "2023-04-25",
          "2023-04-26",
          "2023-04-27",
          "2023-04-28",
          "2023-05-02",
          "2023-05-03",
          "2023-05-04",
          "2023-05-08",
          "2023-05-09",
          "2023-05-10",
          "2023-05-11",
          "2023-05-12",
          "2023-05-15",
          "2023-05-16",
          "2023-05-17",
          "2023-05-18",
          "2023-05-19",
          "2023-05-22",
          "2023-05-23",
          "2023-05-24",
          "2023-05-25",
          "2023-05-26",
          "2023-05-30",
          "2023-05-31",
          "2023-06-01",
          "2023-06-02",
          "2023-06-05",
          "2023-06-07",
          "2023-06-08",
          "2023-06-09",
          "2023-06-12",
          "2023-06-13",
          "2023-06-14",
          "2023-06-15",
          "2023-06-16",
          "2023-06-19",
          "2023-06-20",
          "2023-06-21",
          "2023-06-22",
          "2023-06-23",
          "2023-06-26",
          "2023-06-27",
          "2023-06-28",
          "2023-06-29",
          "2023-06-30",
          "2023-07-03",
          "2023-07-04",
          "2023-07-05",
          "2023-07-06",
          "2023-07-07",
          "2023-07-10",
          "2023-07-11",
          "2023-07-12",
          "2023-07-13",
          "2023-07-14",
          "2023-07-17",
          "2023-07-18",
          "2023-07-19",
          "2023-07-20",
          "2023-07-21",
          "2023-07-24",
          "2023-07-25",
          "2023-07-26",
          "2023-07-27",
          "2023-07-28",
          "2023-07-31",
          "2023-08-01",
          "2023-08-02",
          "2023-08-03",
          "2023-08-04",
          "2023-08-07",
          "2023-08-08",
          "2023-08-09",
          "2023-08-10",
          "2023-08-11",
          "2023-08-14",
          "2023-08-16",
          "2023-08-17",
          "2023-08-18",
          "2023-08-21",
          "2023-08-22",
          "2023-08-23",
          "2023-08-24",
          "2023-08-25",
          "2023-08-28",
          "2023-08-29",
          "2023-08-30",
          "2023-08-31",
          "2023-09-01",
          "2023-09-04",
          "2023-09-05",
          "2023-09-06",
          "2023-09-07",
          "2023-09-08",
          "2023-09-11",
          "2023-09-12",
          "2023-09-13",
          "2023-09-14",
          "2023-09-15",
          "2023-09-18",
          "2023-09-19",
          "2023-09-20",
          "2023-09-21",
          "2023-09-22",
          "2023-09-25",
          "2023-09-26",
          "2023-09-27",
          "2023-10-04",
          "2023-10-05",
          "2023-10-06",
          "2023-10-10",
          "2023-10-11",
          "2023-10-12",
          "2023-10-13",
          "2023-10-16",
          "2023-10-17",
          "2023-10-18",
          "2023-10-19",
          "2023-10-20",
          "2023-10-23",
          "2023-10-24",
          "2023-10-25",
          "2023-10-26",
          "2023-10-27",
          "2023-10-30",
          "2023-10-31",
          "2023-11-01",
          "2023-11-02",
          "2023-11-03",
          "2023-11-06",
          "2023-11-07",
          "2023-11-08",
          "2023-11-09",
          "2023-11-10",
          "2023-11-13",
          "2023-11-14",
          "2023-11-15",
          "2023-11-16",
          "2023-11-17",
          "2023-11-20",
          "2023-11-21",
          "2023-11-22",
          "2023-11-23",
          "2023-11-24",
          "2023-11-27",
          "2023-11-28",
          "2023-11-29",
          "2023-11-30",
          "2023-12-01",
          "2023-12-04",
          "2023-12-05",
          "2023-12-06",
          "2023-12-07",
          "2023-12-08",
          "2023-12-11",
          "2023-12-12",
          "2023-12-13",
          "2023-12-14",
          "2023-12-15",
          "2023-12-18",
          "2023-12-19",
          "2023-12-20",
          "2023-12-21",
          "2023-12-22",
          "2023-12-26",
          "2023-12-27",
          "2023-12-28"
         ],
         "y": [
          61097.82976605279,
          61149.955283192874,
          61202.08080033295,
          61254.206317473036,
          61306.33183461312,
          61358.457351753204,
          61410.58286889328,
          61462.708386033366,
          61514.83390317345,
          61566.959420313535,
          61619.08493745362,
          61671.210454593696,
          61723.33597173378,
          61775.461488873865,
          61827.58700601395,
          61879.71252315403,
          61931.83804029411,
          61983.963557434196,
          62036.08907457428,
          62088.214591714364,
          62140.34010885444,
          62192.465625994526,
          62244.59114313461,
          62296.716660274695,
          62348.84217741477,
          62400.967694554856,
          62453.09321169494,
          62505.218728835025,
          62557.34424597511,
          62609.46976311519,
          62661.59528025527,
          62713.720797395355,
          62765.84631453544,
          62817.97183167552,
          62870.0973488156,
          62922.222865955686,
          62974.34838309577,
          63026.473900235855,
          63078.59941737593,
          63130.724934516016,
          63182.8504516561,
          63234.975968796185,
          63287.10148593626,
          63339.22700307635,
          63391.35252021643,
          63443.478037356515,
          63495.6035544966,
          63547.72907163668,
          63599.85458877676,
          63651.980105916846,
          63704.10562305693,
          63756.23114019701,
          63808.35665733709,
          63860.482174477176,
          63912.60769161726,
          63964.733208757345,
          64016.85872589742,
          64068.98424303751,
          64121.10976017759,
          64173.235277317675,
          64225.36079445775,
          64277.48631159784,
          64329.61182873792,
          64381.737345878006,
          64433.86286301808,
          64485.98838015817,
          64538.11389729825,
          64590.239414438336,
          64642.36493157842,
          64694.4904487185,
          64746.61596585858,
          64798.74148299867,
          64850.86700013875,
          64902.99251727883,
          64955.11803441891,
          65007.243551559,
          65059.36906869908,
          65111.494585839166,
          65163.62010297924,
          65215.74562011933,
          65267.87113725941,
          65319.996654399496,
          65372.12217153958,
          65424.24768867966,
          65476.37320581974,
          65528.49872295983,
          65580.6242400999,
          65632.74975723999,
          65684.87527438007,
          65737.00079152016,
          65789.12630866024,
          65841.25182580033,
          65893.37734294041,
          65945.50286008048,
          65997.62837722056,
          66049.75389436065,
          66101.87941150073,
          66154.00492864082,
          66206.1304457809,
          66258.25596292099,
          66310.38148006107,
          66362.50699720116,
          66414.63251434124,
          66466.75803148131,
          66518.8835486214,
          66571.00906576148,
          66623.13458290156,
          66675.26010004165,
          66727.38561718173,
          66779.51113432182,
          66831.6366514619,
          66883.76216860197,
          66935.88768574205,
          66988.01320288214,
          67040.13872002222,
          67092.26423716231,
          67144.38975430239,
          67196.51527144248,
          67248.64078858256,
          67300.76630572265,
          67352.89182286273,
          67405.0173400028,
          67457.14285714288,
          67509.26837428297,
          67561.39389142305,
          67613.51940856314,
          67665.64492570322,
          67717.7704428433,
          67769.89595998339,
          67822.02147712346,
          67874.14699426354,
          67926.27251140363,
          67978.39802854371,
          68030.5235456838,
          68082.64906282388,
          68134.77457996397,
          68186.90009710405,
          68239.02561424414,
          68291.1511313842,
          68343.27664852429,
          68395.40216566437,
          68447.52768280446,
          68499.65319994454,
          68551.77871708463,
          68603.90423422471,
          68656.0297513648,
          68708.15526850488,
          68760.28078564495,
          68812.40630278504,
          68864.53181992512,
          68916.6573370652,
          68968.78285420529,
          69020.90837134537,
          69073.03388848546,
          69125.15940562554,
          69177.28492276563,
          69229.4104399057,
          69281.53595704578,
          69333.66147418586,
          69385.78699132595,
          69437.91250846603,
          69490.03802560612,
          69542.1635427462,
          69594.28905988629,
          69646.41457702636,
          69698.54009416644,
          69750.66561130653,
          69802.79112844661,
          69854.9166455867,
          69907.04216272678,
          69959.16767986686,
          70011.29319700695,
          70063.41871414703,
          70115.54423128712,
          70167.66974842719,
          70219.79526556727,
          70271.92078270736,
          70324.04629984744,
          70376.17181698752,
          70428.29733412761,
          70480.4228512677,
          70532.54836840778,
          70584.67388554785,
          70636.79940268793,
          70688.92491982802,
          70741.0504369681,
          70793.17595410818,
          70845.30147124827,
          70897.42698838835,
          70949.55250552844,
          71001.67802266852,
          71053.8035398086,
          71105.92905694868,
          71158.05457408876,
          71210.18009122885,
          71262.30560836893,
          71314.43112550901,
          71366.5566426491,
          71418.68215978918,
          71470.80767692927,
          71522.93319406934,
          71575.05871120942,
          71627.1842283495,
          71679.30974548959,
          71731.43526262967,
          71783.56077976976,
          71835.68629690984,
          71887.81181404993,
          71939.93733119001,
          71992.0628483301,
          72044.18836547017,
          72096.31388261025,
          72148.43939975034,
          72200.56491689042,
          72252.6904340305,
          72304.81595117059,
          72356.94146831067,
          72409.06698545076,
          72461.19250259083,
          72513.31801973091,
          72565.443536871,
          72617.56905401108,
          72669.69457115117,
          72721.82008829125,
          72773.94560543133,
          72826.07112257142,
          72878.1966397115,
          72930.32215685159,
          72982.44767399166,
          73034.57319113174,
          73086.69870827183,
          73138.82422541191,
          73190.949742552,
          73243.07525969208,
          73295.20077683216,
          73347.32629397225,
          73399.45181111232,
          73451.5773282524,
          73503.70284539249,
          73555.82836253257,
          73607.95387967266,
          73660.07939681274,
          73712.20491395282,
          73764.33043109291,
          73816.455948233
         ]
        }
       ],
       "layout": {
        "legend": {
         "bgcolor": "#F5F6F9",
         "font": {
          "color": "#4D5663"
         }
        },
        "paper_bgcolor": "#F5F6F9",
        "plot_bgcolor": "#F5F6F9",
        "template": {
         "data": {
          "bar": [
           {
            "error_x": {
             "color": "#2a3f5f"
            },
            "error_y": {
             "color": "#2a3f5f"
            },
            "marker": {
             "line": {
              "color": "#E5ECF6",
              "width": 0.5
             },
             "pattern": {
              "fillmode": "overlay",
              "size": 10,
              "solidity": 0.2
             }
            },
            "type": "bar"
           }
          ],
          "barpolar": [
           {
            "marker": {
             "line": {
              "color": "#E5ECF6",
              "width": 0.5
             },
             "pattern": {
              "fillmode": "overlay",
              "size": 10,
              "solidity": 0.2
             }
            },
            "type": "barpolar"
           }
          ],
          "carpet": [
           {
            "aaxis": {
             "endlinecolor": "#2a3f5f",
             "gridcolor": "white",
             "linecolor": "white",
             "minorgridcolor": "white",
             "startlinecolor": "#2a3f5f"
            },
            "baxis": {
             "endlinecolor": "#2a3f5f",
             "gridcolor": "white",
             "linecolor": "white",
             "minorgridcolor": "white",
             "startlinecolor": "#2a3f5f"
            },
            "type": "carpet"
           }
          ],
          "choropleth": [
           {
            "colorbar": {
             "outlinewidth": 0,
             "ticks": ""
            },
            "type": "choropleth"
           }
          ],
          "contour": [
           {
            "colorbar": {
             "outlinewidth": 0,
             "ticks": ""
            },
            "colorscale": [
             [
              0,
              "#0d0887"
             ],
             [
              0.1111111111111111,
              "#46039f"
             ],
             [
              0.2222222222222222,
              "#7201a8"
             ],
             [
              0.3333333333333333,
              "#9c179e"
             ],
             [
              0.4444444444444444,
              "#bd3786"
             ],
             [
              0.5555555555555556,
              "#d8576b"
             ],
             [
              0.6666666666666666,
              "#ed7953"
             ],
             [
              0.7777777777777778,
              "#fb9f3a"
             ],
             [
              0.8888888888888888,
              "#fdca26"
             ],
             [
              1,
              "#f0f921"
             ]
            ],
            "type": "contour"
           }
          ],
          "contourcarpet": [
           {
            "colorbar": {
             "outlinewidth": 0,
             "ticks": ""
            },
            "type": "contourcarpet"
           }
          ],
          "heatmap": [
           {
            "colorbar": {
             "outlinewidth": 0,
             "ticks": ""
            },
            "colorscale": [
             [
              0,
              "#0d0887"
             ],
             [
              0.1111111111111111,
              "#46039f"
             ],
             [
              0.2222222222222222,
              "#7201a8"
             ],
             [
              0.3333333333333333,
              "#9c179e"
             ],
             [
              0.4444444444444444,
              "#bd3786"
             ],
             [
              0.5555555555555556,
              "#d8576b"
             ],
             [
              0.6666666666666666,
              "#ed7953"
             ],
             [
              0.7777777777777778,
              "#fb9f3a"
             ],
             [
              0.8888888888888888,
              "#fdca26"
             ],
             [
              1,
              "#f0f921"
             ]
            ],
            "type": "heatmap"
           }
          ],
          "heatmapgl": [
           {
            "colorbar": {
             "outlinewidth": 0,
             "ticks": ""
            },
            "colorscale": [
             [
              0,
              "#0d0887"
             ],
             [
              0.1111111111111111,
              "#46039f"
             ],
             [
              0.2222222222222222,
              "#7201a8"
             ],
             [
              0.3333333333333333,
              "#9c179e"
             ],
             [
              0.4444444444444444,
              "#bd3786"
             ],
             [
              0.5555555555555556,
              "#d8576b"
             ],
             [
              0.6666666666666666,
              "#ed7953"
             ],
             [
              0.7777777777777778,
              "#fb9f3a"
             ],
             [
              0.8888888888888888,
              "#fdca26"
             ],
             [
              1,
              "#f0f921"
             ]
            ],
            "type": "heatmapgl"
           }
          ],
          "histogram": [
           {
            "marker": {
             "pattern": {
              "fillmode": "overlay",
              "size": 10,
              "solidity": 0.2
             }
            },
            "type": "histogram"
           }
          ],
          "histogram2d": [
           {
            "colorbar": {
             "outlinewidth": 0,
             "ticks": ""
            },
            "colorscale": [
             [
              0,
              "#0d0887"
             ],
             [
              0.1111111111111111,
              "#46039f"
             ],
             [
              0.2222222222222222,
              "#7201a8"
             ],
             [
              0.3333333333333333,
              "#9c179e"
             ],
             [
              0.4444444444444444,
              "#bd3786"
             ],
             [
              0.5555555555555556,
              "#d8576b"
             ],
             [
              0.6666666666666666,
              "#ed7953"
             ],
             [
              0.7777777777777778,
              "#fb9f3a"
             ],
             [
              0.8888888888888888,
              "#fdca26"
             ],
             [
              1,
              "#f0f921"
             ]
            ],
            "type": "histogram2d"
           }
          ],
          "histogram2dcontour": [
           {
            "colorbar": {
             "outlinewidth": 0,
             "ticks": ""
            },
            "colorscale": [
             [
              0,
              "#0d0887"
             ],
             [
              0.1111111111111111,
              "#46039f"
             ],
             [
              0.2222222222222222,
              "#7201a8"
             ],
             [
              0.3333333333333333,
              "#9c179e"
             ],
             [
              0.4444444444444444,
              "#bd3786"
             ],
             [
              0.5555555555555556,
              "#d8576b"
             ],
             [
              0.6666666666666666,
              "#ed7953"
             ],
             [
              0.7777777777777778,
              "#fb9f3a"
             ],
             [
              0.8888888888888888,
              "#fdca26"
             ],
             [
              1,
              "#f0f921"
             ]
            ],
            "type": "histogram2dcontour"
           }
          ],
          "mesh3d": [
           {
            "colorbar": {
             "outlinewidth": 0,
             "ticks": ""
            },
            "type": "mesh3d"
           }
          ],
          "parcoords": [
           {
            "line": {
             "colorbar": {
              "outlinewidth": 0,
              "ticks": ""
             }
            },
            "type": "parcoords"
           }
          ],
          "pie": [
           {
            "automargin": true,
            "type": "pie"
           }
          ],
          "scatter": [
           {
            "fillpattern": {
             "fillmode": "overlay",
             "size": 10,
             "solidity": 0.2
            },
            "type": "scatter"
           }
          ],
          "scatter3d": [
           {
            "line": {
             "colorbar": {
              "outlinewidth": 0,
              "ticks": ""
             }
            },
            "marker": {
             "colorbar": {
              "outlinewidth": 0,
              "ticks": ""
             }
            },
            "type": "scatter3d"
           }
          ],
          "scattercarpet": [
           {
            "marker": {
             "colorbar": {
              "outlinewidth": 0,
              "ticks": ""
             }
            },
            "type": "scattercarpet"
           }
          ],
          "scattergeo": [
           {
            "marker": {
             "colorbar": {
              "outlinewidth": 0,
              "ticks": ""
             }
            },
            "type": "scattergeo"
           }
          ],
          "scattergl": [
           {
            "marker": {
             "colorbar": {
              "outlinewidth": 0,
              "ticks": ""
             }
            },
            "type": "scattergl"
           }
          ],
          "scattermapbox": [
           {
            "marker": {
             "colorbar": {
              "outlinewidth": 0,
              "ticks": ""
             }
            },
            "type": "scattermapbox"
           }
          ],
          "scatterpolar": [
           {
            "marker": {
             "colorbar": {
              "outlinewidth": 0,
              "ticks": ""
             }
            },
            "type": "scatterpolar"
           }
          ],
          "scatterpolargl": [
           {
            "marker": {
             "colorbar": {
              "outlinewidth": 0,
              "ticks": ""
             }
            },
            "type": "scatterpolargl"
           }
          ],
          "scatterternary": [
           {
            "marker": {
             "colorbar": {
              "outlinewidth": 0,
              "ticks": ""
             }
            },
            "type": "scatterternary"
           }
          ],
          "surface": [
           {
            "colorbar": {
             "outlinewidth": 0,
             "ticks": ""
            },
            "colorscale": [
             [
              0,
              "#0d0887"
             ],
             [
              0.1111111111111111,
              "#46039f"
             ],
             [
              0.2222222222222222,
              "#7201a8"
             ],
             [
              0.3333333333333333,
              "#9c179e"
             ],
             [
              0.4444444444444444,
              "#bd3786"
             ],
             [
              0.5555555555555556,
              "#d8576b"
             ],
             [
              0.6666666666666666,
              "#ed7953"
             ],
             [
              0.7777777777777778,
              "#fb9f3a"
             ],
             [
              0.8888888888888888,
              "#fdca26"
             ],
             [
              1,
              "#f0f921"
             ]
            ],
            "type": "surface"
           }
          ],
          "table": [
           {
            "cells": {
             "fill": {
              "color": "#EBF0F8"
             },
             "line": {
              "color": "white"
             }
            },
            "header": {
             "fill": {
              "color": "#C8D4E3"
             },
             "line": {
              "color": "white"
             }
            },
            "type": "table"
           }
          ]
         },
         "layout": {
          "annotationdefaults": {
           "arrowcolor": "#2a3f5f",
           "arrowhead": 0,
           "arrowwidth": 1
          },
          "autotypenumbers": "strict",
          "coloraxis": {
           "colorbar": {
            "outlinewidth": 0,
            "ticks": ""
           }
          },
          "colorscale": {
           "diverging": [
            [
             0,
             "#8e0152"
            ],
            [
             0.1,
             "#c51b7d"
            ],
            [
             0.2,
             "#de77ae"
            ],
            [
             0.3,
             "#f1b6da"
            ],
            [
             0.4,
             "#fde0ef"
            ],
            [
             0.5,
             "#f7f7f7"
            ],
            [
             0.6,
             "#e6f5d0"
            ],
            [
             0.7,
             "#b8e186"
            ],
            [
             0.8,
             "#7fbc41"
            ],
            [
             0.9,
             "#4d9221"
            ],
            [
             1,
             "#276419"
            ]
           ],
           "sequential": [
            [
             0,
             "#0d0887"
            ],
            [
             0.1111111111111111,
             "#46039f"
            ],
            [
             0.2222222222222222,
             "#7201a8"
            ],
            [
             0.3333333333333333,
             "#9c179e"
            ],
            [
             0.4444444444444444,
             "#bd3786"
            ],
            [
             0.5555555555555556,
             "#d8576b"
            ],
            [
             0.6666666666666666,
             "#ed7953"
            ],
            [
             0.7777777777777778,
             "#fb9f3a"
            ],
            [
             0.8888888888888888,
             "#fdca26"
            ],
            [
             1,
             "#f0f921"
            ]
           ],
           "sequentialminus": [
            [
             0,
             "#0d0887"
            ],
            [
             0.1111111111111111,
             "#46039f"
            ],
            [
             0.2222222222222222,
             "#7201a8"
            ],
            [
             0.3333333333333333,
             "#9c179e"
            ],
            [
             0.4444444444444444,
             "#bd3786"
            ],
            [
             0.5555555555555556,
             "#d8576b"
            ],
            [
             0.6666666666666666,
             "#ed7953"
            ],
            [
             0.7777777777777778,
             "#fb9f3a"
            ],
            [
             0.8888888888888888,
             "#fdca26"
            ],
            [
             1,
             "#f0f921"
            ]
           ]
          },
          "colorway": [
           "#636efa",
           "#EF553B",
           "#00cc96",
           "#ab63fa",
           "#FFA15A",
           "#19d3f3",
           "#FF6692",
           "#B6E880",
           "#FF97FF",
           "#FECB52"
          ],
          "font": {
           "color": "#2a3f5f"
          },
          "geo": {
           "bgcolor": "white",
           "lakecolor": "white",
           "landcolor": "#E5ECF6",
           "showlakes": true,
           "showland": true,
           "subunitcolor": "white"
          },
          "hoverlabel": {
           "align": "left"
          },
          "hovermode": "closest",
          "mapbox": {
           "style": "light"
          },
          "paper_bgcolor": "white",
          "plot_bgcolor": "#E5ECF6",
          "polar": {
           "angularaxis": {
            "gridcolor": "white",
            "linecolor": "white",
            "ticks": ""
           },
           "bgcolor": "#E5ECF6",
           "radialaxis": {
            "gridcolor": "white",
            "linecolor": "white",
            "ticks": ""
           }
          },
          "scene": {
           "xaxis": {
            "backgroundcolor": "#E5ECF6",
            "gridcolor": "white",
            "gridwidth": 2,
            "linecolor": "white",
            "showbackground": true,
            "ticks": "",
            "zerolinecolor": "white"
           },
           "yaxis": {
            "backgroundcolor": "#E5ECF6",
            "gridcolor": "white",
            "gridwidth": 2,
            "linecolor": "white",
            "showbackground": true,
            "ticks": "",
            "zerolinecolor": "white"
           },
           "zaxis": {
            "backgroundcolor": "#E5ECF6",
            "gridcolor": "white",
            "gridwidth": 2,
            "linecolor": "white",
            "showbackground": true,
            "ticks": "",
            "zerolinecolor": "white"
           }
          },
          "shapedefaults": {
           "line": {
            "color": "#2a3f5f"
           }
          },
          "ternary": {
           "aaxis": {
            "gridcolor": "white",
            "linecolor": "white",
            "ticks": ""
           },
           "baxis": {
            "gridcolor": "white",
            "linecolor": "white",
            "ticks": ""
           },
           "bgcolor": "#E5ECF6",
           "caxis": {
            "gridcolor": "white",
            "linecolor": "white",
            "ticks": ""
           }
          },
          "title": {
           "x": 0.05
          },
          "xaxis": {
           "automargin": true,
           "gridcolor": "white",
           "linecolor": "white",
           "ticks": "",
           "title": {
            "standoff": 15
           },
           "zerolinecolor": "white",
           "zerolinewidth": 2
          },
          "yaxis": {
           "automargin": true,
           "gridcolor": "white",
           "linecolor": "white",
           "ticks": "",
           "title": {
            "standoff": 15
           },
           "zerolinecolor": "white",
           "zerolinewidth": 2
          }
         }
        },
        "title": {
         "font": {
          "color": "#4D5663"
         },
         "text": "삼성전자 최적경향선"
        },
        "xaxis": {
         "gridcolor": "#E1E5ED",
         "showgrid": true,
         "tickfont": {
          "color": "#4D5663"
         },
         "title": {
          "font": {
           "color": "#4D5663"
          },
          "text": ""
         },
         "zerolinecolor": "#E1E5ED"
        },
        "yaxis": {
         "gridcolor": "#E1E5ED",
         "showgrid": true,
         "tickfont": {
          "color": "#4D5663"
         },
         "title": {
          "font": {
           "color": "#4D5663"
          },
          "text": ""
         },
         "zerolinecolor": "#E1E5ED"
        }
       }
      },
      "text/html": [
       "<div>                            <div id=\"0173f17c-e94d-4cc2-9f9c-095cd7043908\" class=\"plotly-graph-div\" style=\"height:525px; width:100%;\"></div>            <script type=\"text/javascript\">                require([\"plotly\"], function(Plotly) {                    window.PLOTLYENV=window.PLOTLYENV || {};\n",
       "                    window.PLOTLYENV.BASE_URL='https://plot.ly';                                    if (document.getElementById(\"0173f17c-e94d-4cc2-9f9c-095cd7043908\")) {                    Plotly.newPlot(                        \"0173f17c-e94d-4cc2-9f9c-095cd7043908\",                        [{\"line\":{\"color\":\"rgba(255, 153, 51, 1.0)\",\"dash\":\"solid\",\"shape\":\"linear\",\"width\":1.3},\"mode\":\"lines\",\"name\":\"Close\",\"text\":\"\",\"x\":[\"2023-01-02\",\"2023-01-03\",\"2023-01-04\",\"2023-01-05\",\"2023-01-06\",\"2023-01-09\",\"2023-01-10\",\"2023-01-11\",\"2023-01-12\",\"2023-01-13\",\"2023-01-16\",\"2023-01-17\",\"2023-01-18\",\"2023-01-19\",\"2023-01-20\",\"2023-01-25\",\"2023-01-26\",\"2023-01-27\",\"2023-01-30\",\"2023-01-31\",\"2023-02-01\",\"2023-02-02\",\"2023-02-03\",\"2023-02-06\",\"2023-02-07\",\"2023-02-08\",\"2023-02-09\",\"2023-02-10\",\"2023-02-13\",\"2023-02-14\",\"2023-02-15\",\"2023-02-16\",\"2023-02-17\",\"2023-02-20\",\"2023-02-21\",\"2023-02-22\",\"2023-02-23\",\"2023-02-24\",\"2023-02-27\",\"2023-02-28\",\"2023-03-02\",\"2023-03-03\",\"2023-03-06\",\"2023-03-07\",\"2023-03-08\",\"2023-03-09\",\"2023-03-10\",\"2023-03-13\",\"2023-03-14\",\"2023-03-15\",\"2023-03-16\",\"2023-03-17\",\"2023-03-20\",\"2023-03-21\",\"2023-03-22\",\"2023-03-23\",\"2023-03-24\",\"2023-03-27\",\"2023-03-28\",\"2023-03-29\",\"2023-03-30\",\"2023-03-31\",\"2023-04-03\",\"2023-04-04\",\"2023-04-05\",\"2023-04-06\",\"2023-04-07\",\"2023-04-10\",\"2023-04-11\",\"2023-04-12\",\"2023-04-13\",\"2023-04-14\",\"2023-04-17\",\"2023-04-18\",\"2023-04-19\",\"2023-04-20\",\"2023-04-21\",\"2023-04-24\",\"2023-04-25\",\"2023-04-26\",\"2023-04-27\",\"2023-04-28\",\"2023-05-02\",\"2023-05-03\",\"2023-05-04\",\"2023-05-08\",\"2023-05-09\",\"2023-05-10\",\"2023-05-11\",\"2023-05-12\",\"2023-05-15\",\"2023-05-16\",\"2023-05-17\",\"2023-05-18\",\"2023-05-19\",\"2023-05-22\",\"2023-05-23\",\"2023-05-24\",\"2023-05-25\",\"2023-05-26\",\"2023-05-30\",\"2023-05-31\",\"2023-06-01\",\"2023-06-02\",\"2023-06-05\",\"2023-06-07\",\"2023-06-08\",\"2023-06-09\",\"2023-06-12\",\"2023-06-13\",\"2023-06-14\",\"2023-06-15\",\"2023-06-16\",\"2023-06-19\",\"2023-06-20\",\"2023-06-21\",\"2023-06-22\",\"2023-06-23\",\"2023-06-26\",\"2023-06-27\",\"2023-06-28\",\"2023-06-29\",\"2023-06-30\",\"2023-07-03\",\"2023-07-04\",\"2023-07-05\",\"2023-07-06\",\"2023-07-07\",\"2023-07-10\",\"2023-07-11\",\"2023-07-12\",\"2023-07-13\",\"2023-07-14\",\"2023-07-17\",\"2023-07-18\",\"2023-07-19\",\"2023-07-20\",\"2023-07-21\",\"2023-07-24\",\"2023-07-25\",\"2023-07-26\",\"2023-07-27\",\"2023-07-28\",\"2023-07-31\",\"2023-08-01\",\"2023-08-02\",\"2023-08-03\",\"2023-08-04\",\"2023-08-07\",\"2023-08-08\",\"2023-08-09\",\"2023-08-10\",\"2023-08-11\",\"2023-08-14\",\"2023-08-16\",\"2023-08-17\",\"2023-08-18\",\"2023-08-21\",\"2023-08-22\",\"2023-08-23\",\"2023-08-24\",\"2023-08-25\",\"2023-08-28\",\"2023-08-29\",\"2023-08-30\",\"2023-08-31\",\"2023-09-01\",\"2023-09-04\",\"2023-09-05\",\"2023-09-06\",\"2023-09-07\",\"2023-09-08\",\"2023-09-11\",\"2023-09-12\",\"2023-09-13\",\"2023-09-14\",\"2023-09-15\",\"2023-09-18\",\"2023-09-19\",\"2023-09-20\",\"2023-09-21\",\"2023-09-22\",\"2023-09-25\",\"2023-09-26\",\"2023-09-27\",\"2023-10-04\",\"2023-10-05\",\"2023-10-06\",\"2023-10-10\",\"2023-10-11\",\"2023-10-12\",\"2023-10-13\",\"2023-10-16\",\"2023-10-17\",\"2023-10-18\",\"2023-10-19\",\"2023-10-20\",\"2023-10-23\",\"2023-10-24\",\"2023-10-25\",\"2023-10-26\",\"2023-10-27\",\"2023-10-30\",\"2023-10-31\",\"2023-11-01\",\"2023-11-02\",\"2023-11-03\",\"2023-11-06\",\"2023-11-07\",\"2023-11-08\",\"2023-11-09\",\"2023-11-10\",\"2023-11-13\",\"2023-11-14\",\"2023-11-15\",\"2023-11-16\",\"2023-11-17\",\"2023-11-20\",\"2023-11-21\",\"2023-11-22\",\"2023-11-23\",\"2023-11-24\",\"2023-11-27\",\"2023-11-28\",\"2023-11-29\",\"2023-11-30\",\"2023-12-01\",\"2023-12-04\",\"2023-12-05\",\"2023-12-06\",\"2023-12-07\",\"2023-12-08\",\"2023-12-11\",\"2023-12-12\",\"2023-12-13\",\"2023-12-14\",\"2023-12-15\",\"2023-12-18\",\"2023-12-19\",\"2023-12-20\",\"2023-12-21\",\"2023-12-22\",\"2023-12-26\",\"2023-12-27\",\"2023-12-28\"],\"y\":[55500,55400,57800,58200,59000,60700,60400,60500,60500,60800,61100,61000,60400,61500,61800,63400,63900,64600,63300,61000,61800,63500,63800,61600,61900,63100,63000,62800,62900,63200,62200,63700,62600,62700,62100,61100,62000,61300,60500,60600,60800,60500,61500,60700,60300,60100,59500,60000,59000,59800,59900,61300,60200,60300,61100,62300,63000,62100,62900,62700,63200,64000,63100,63600,63900,62300,65000,65700,65900,66000,66100,65100,65300,65600,65500,65300,65700,65200,63600,64100,64600,65500,65700,65400,65100,65900,65300,64600,64200,64100,64500,65400,65000,66200,68400,68500,68400,68500,68800,70300,72300,71400,70900,72200,71700,71000,70900,72000,71000,72000,71900,71500,71800,71200,71400,70500,71300,71600,72400,72600,72700,72400,72200,73000,73000,72000,71600,69900,69500,71500,71900,71900,73400,73300,72000,71700,71000,70300,70400,70000,69800,71700,70600,69800,71100,69900,68800,68300,68500,67600,68900,68000,67500,67300,67000,66700,66300,66600,66600,67100,68200,67100,66800,66800,67100,66900,71000,71200,70700,70000,70400,70300,70800,70500,70900,71700,72000,70200,69800,69600,68900,68800,69400,68600,68400,67500,66700,66000,66400,68200,68900,68000,67300,69400,70500,69500,68800,68400,68500,68000,66700,67300,67300,66900,68600,69700,69600,70900,70900,69900,70300,70500,70400,70800,72200,72800,72500,72700,72800,72800,72400,71700,71300,72700,72700,72800,72000,72600,71200,71700,71500,72600,73000,73500,72800,73100,73300,72900,73400,74800,75000,75900,76600,78000,78500],\"type\":\"scatter\"},{\"line\":{\"color\":\"rgba(55, 128, 191, 1.0)\",\"dash\":\"dash\",\"shape\":\"linear\",\"width\":3},\"mode\":\"lines\",\"name\":\"52.13*x+61045.70\",\"x\":[\"2023-01-02\",\"2023-01-03\",\"2023-01-04\",\"2023-01-05\",\"2023-01-06\",\"2023-01-09\",\"2023-01-10\",\"2023-01-11\",\"2023-01-12\",\"2023-01-13\",\"2023-01-16\",\"2023-01-17\",\"2023-01-18\",\"2023-01-19\",\"2023-01-20\",\"2023-01-25\",\"2023-01-26\",\"2023-01-27\",\"2023-01-30\",\"2023-01-31\",\"2023-02-01\",\"2023-02-02\",\"2023-02-03\",\"2023-02-06\",\"2023-02-07\",\"2023-02-08\",\"2023-02-09\",\"2023-02-10\",\"2023-02-13\",\"2023-02-14\",\"2023-02-15\",\"2023-02-16\",\"2023-02-17\",\"2023-02-20\",\"2023-02-21\",\"2023-02-22\",\"2023-02-23\",\"2023-02-24\",\"2023-02-27\",\"2023-02-28\",\"2023-03-02\",\"2023-03-03\",\"2023-03-06\",\"2023-03-07\",\"2023-03-08\",\"2023-03-09\",\"2023-03-10\",\"2023-03-13\",\"2023-03-14\",\"2023-03-15\",\"2023-03-16\",\"2023-03-17\",\"2023-03-20\",\"2023-03-21\",\"2023-03-22\",\"2023-03-23\",\"2023-03-24\",\"2023-03-27\",\"2023-03-28\",\"2023-03-29\",\"2023-03-30\",\"2023-03-31\",\"2023-04-03\",\"2023-04-04\",\"2023-04-05\",\"2023-04-06\",\"2023-04-07\",\"2023-04-10\",\"2023-04-11\",\"2023-04-12\",\"2023-04-13\",\"2023-04-14\",\"2023-04-17\",\"2023-04-18\",\"2023-04-19\",\"2023-04-20\",\"2023-04-21\",\"2023-04-24\",\"2023-04-25\",\"2023-04-26\",\"2023-04-27\",\"2023-04-28\",\"2023-05-02\",\"2023-05-03\",\"2023-05-04\",\"2023-05-08\",\"2023-05-09\",\"2023-05-10\",\"2023-05-11\",\"2023-05-12\",\"2023-05-15\",\"2023-05-16\",\"2023-05-17\",\"2023-05-18\",\"2023-05-19\",\"2023-05-22\",\"2023-05-23\",\"2023-05-24\",\"2023-05-25\",\"2023-05-26\",\"2023-05-30\",\"2023-05-31\",\"2023-06-01\",\"2023-06-02\",\"2023-06-05\",\"2023-06-07\",\"2023-06-08\",\"2023-06-09\",\"2023-06-12\",\"2023-06-13\",\"2023-06-14\",\"2023-06-15\",\"2023-06-16\",\"2023-06-19\",\"2023-06-20\",\"2023-06-21\",\"2023-06-22\",\"2023-06-23\",\"2023-06-26\",\"2023-06-27\",\"2023-06-28\",\"2023-06-29\",\"2023-06-30\",\"2023-07-03\",\"2023-07-04\",\"2023-07-05\",\"2023-07-06\",\"2023-07-07\",\"2023-07-10\",\"2023-07-11\",\"2023-07-12\",\"2023-07-13\",\"2023-07-14\",\"2023-07-17\",\"2023-07-18\",\"2023-07-19\",\"2023-07-20\",\"2023-07-21\",\"2023-07-24\",\"2023-07-25\",\"2023-07-26\",\"2023-07-27\",\"2023-07-28\",\"2023-07-31\",\"2023-08-01\",\"2023-08-02\",\"2023-08-03\",\"2023-08-04\",\"2023-08-07\",\"2023-08-08\",\"2023-08-09\",\"2023-08-10\",\"2023-08-11\",\"2023-08-14\",\"2023-08-16\",\"2023-08-17\",\"2023-08-18\",\"2023-08-21\",\"2023-08-22\",\"2023-08-23\",\"2023-08-24\",\"2023-08-25\",\"2023-08-28\",\"2023-08-29\",\"2023-08-30\",\"2023-08-31\",\"2023-09-01\",\"2023-09-04\",\"2023-09-05\",\"2023-09-06\",\"2023-09-07\",\"2023-09-08\",\"2023-09-11\",\"2023-09-12\",\"2023-09-13\",\"2023-09-14\",\"2023-09-15\",\"2023-09-18\",\"2023-09-19\",\"2023-09-20\",\"2023-09-21\",\"2023-09-22\",\"2023-09-25\",\"2023-09-26\",\"2023-09-27\",\"2023-10-04\",\"2023-10-05\",\"2023-10-06\",\"2023-10-10\",\"2023-10-11\",\"2023-10-12\",\"2023-10-13\",\"2023-10-16\",\"2023-10-17\",\"2023-10-18\",\"2023-10-19\",\"2023-10-20\",\"2023-10-23\",\"2023-10-24\",\"2023-10-25\",\"2023-10-26\",\"2023-10-27\",\"2023-10-30\",\"2023-10-31\",\"2023-11-01\",\"2023-11-02\",\"2023-11-03\",\"2023-11-06\",\"2023-11-07\",\"2023-11-08\",\"2023-11-09\",\"2023-11-10\",\"2023-11-13\",\"2023-11-14\",\"2023-11-15\",\"2023-11-16\",\"2023-11-17\",\"2023-11-20\",\"2023-11-21\",\"2023-11-22\",\"2023-11-23\",\"2023-11-24\",\"2023-11-27\",\"2023-11-28\",\"2023-11-29\",\"2023-11-30\",\"2023-12-01\",\"2023-12-04\",\"2023-12-05\",\"2023-12-06\",\"2023-12-07\",\"2023-12-08\",\"2023-12-11\",\"2023-12-12\",\"2023-12-13\",\"2023-12-14\",\"2023-12-15\",\"2023-12-18\",\"2023-12-19\",\"2023-12-20\",\"2023-12-21\",\"2023-12-22\",\"2023-12-26\",\"2023-12-27\",\"2023-12-28\"],\"y\":[61097.82976605279,61149.955283192874,61202.08080033295,61254.206317473036,61306.33183461312,61358.457351753204,61410.58286889328,61462.708386033366,61514.83390317345,61566.959420313535,61619.08493745362,61671.210454593696,61723.33597173378,61775.461488873865,61827.58700601395,61879.71252315403,61931.83804029411,61983.963557434196,62036.08907457428,62088.214591714364,62140.34010885444,62192.465625994526,62244.59114313461,62296.716660274695,62348.84217741477,62400.967694554856,62453.09321169494,62505.218728835025,62557.34424597511,62609.46976311519,62661.59528025527,62713.720797395355,62765.84631453544,62817.97183167552,62870.0973488156,62922.222865955686,62974.34838309577,63026.473900235855,63078.59941737593,63130.724934516016,63182.8504516561,63234.975968796185,63287.10148593626,63339.22700307635,63391.35252021643,63443.478037356515,63495.6035544966,63547.72907163668,63599.85458877676,63651.980105916846,63704.10562305693,63756.23114019701,63808.35665733709,63860.482174477176,63912.60769161726,63964.733208757345,64016.85872589742,64068.98424303751,64121.10976017759,64173.235277317675,64225.36079445775,64277.48631159784,64329.61182873792,64381.737345878006,64433.86286301808,64485.98838015817,64538.11389729825,64590.239414438336,64642.36493157842,64694.4904487185,64746.61596585858,64798.74148299867,64850.86700013875,64902.99251727883,64955.11803441891,65007.243551559,65059.36906869908,65111.494585839166,65163.62010297924,65215.74562011933,65267.87113725941,65319.996654399496,65372.12217153958,65424.24768867966,65476.37320581974,65528.49872295983,65580.6242400999,65632.74975723999,65684.87527438007,65737.00079152016,65789.12630866024,65841.25182580033,65893.37734294041,65945.50286008048,65997.62837722056,66049.75389436065,66101.87941150073,66154.00492864082,66206.1304457809,66258.25596292099,66310.38148006107,66362.50699720116,66414.63251434124,66466.75803148131,66518.8835486214,66571.00906576148,66623.13458290156,66675.26010004165,66727.38561718173,66779.51113432182,66831.6366514619,66883.76216860197,66935.88768574205,66988.01320288214,67040.13872002222,67092.26423716231,67144.38975430239,67196.51527144248,67248.64078858256,67300.76630572265,67352.89182286273,67405.0173400028,67457.14285714288,67509.26837428297,67561.39389142305,67613.51940856314,67665.64492570322,67717.7704428433,67769.89595998339,67822.02147712346,67874.14699426354,67926.27251140363,67978.39802854371,68030.5235456838,68082.64906282388,68134.77457996397,68186.90009710405,68239.02561424414,68291.1511313842,68343.27664852429,68395.40216566437,68447.52768280446,68499.65319994454,68551.77871708463,68603.90423422471,68656.0297513648,68708.15526850488,68760.28078564495,68812.40630278504,68864.53181992512,68916.6573370652,68968.78285420529,69020.90837134537,69073.03388848546,69125.15940562554,69177.28492276563,69229.4104399057,69281.53595704578,69333.66147418586,69385.78699132595,69437.91250846603,69490.03802560612,69542.1635427462,69594.28905988629,69646.41457702636,69698.54009416644,69750.66561130653,69802.79112844661,69854.9166455867,69907.04216272678,69959.16767986686,70011.29319700695,70063.41871414703,70115.54423128712,70167.66974842719,70219.79526556727,70271.92078270736,70324.04629984744,70376.17181698752,70428.29733412761,70480.4228512677,70532.54836840778,70584.67388554785,70636.79940268793,70688.92491982802,70741.0504369681,70793.17595410818,70845.30147124827,70897.42698838835,70949.55250552844,71001.67802266852,71053.8035398086,71105.92905694868,71158.05457408876,71210.18009122885,71262.30560836893,71314.43112550901,71366.5566426491,71418.68215978918,71470.80767692927,71522.93319406934,71575.05871120942,71627.1842283495,71679.30974548959,71731.43526262967,71783.56077976976,71835.68629690984,71887.81181404993,71939.93733119001,71992.0628483301,72044.18836547017,72096.31388261025,72148.43939975034,72200.56491689042,72252.6904340305,72304.81595117059,72356.94146831067,72409.06698545076,72461.19250259083,72513.31801973091,72565.443536871,72617.56905401108,72669.69457115117,72721.82008829125,72773.94560543133,72826.07112257142,72878.1966397115,72930.32215685159,72982.44767399166,73034.57319113174,73086.69870827183,73138.82422541191,73190.949742552,73243.07525969208,73295.20077683216,73347.32629397225,73399.45181111232,73451.5773282524,73503.70284539249,73555.82836253257,73607.95387967266,73660.07939681274,73712.20491395282,73764.33043109291,73816.455948233],\"type\":\"scatter\"}],                        {\"legend\":{\"bgcolor\":\"#F5F6F9\",\"font\":{\"color\":\"#4D5663\"}},\"paper_bgcolor\":\"#F5F6F9\",\"plot_bgcolor\":\"#F5F6F9\",\"template\":{\"data\":{\"barpolar\":[{\"marker\":{\"line\":{\"color\":\"#E5ECF6\",\"width\":0.5},\"pattern\":{\"fillmode\":\"overlay\",\"size\":10,\"solidity\":0.2}},\"type\":\"barpolar\"}],\"bar\":[{\"error_x\":{\"color\":\"#2a3f5f\"},\"error_y\":{\"color\":\"#2a3f5f\"},\"marker\":{\"line\":{\"color\":\"#E5ECF6\",\"width\":0.5},\"pattern\":{\"fillmode\":\"overlay\",\"size\":10,\"solidity\":0.2}},\"type\":\"bar\"}],\"carpet\":[{\"aaxis\":{\"endlinecolor\":\"#2a3f5f\",\"gridcolor\":\"white\",\"linecolor\":\"white\",\"minorgridcolor\":\"white\",\"startlinecolor\":\"#2a3f5f\"},\"baxis\":{\"endlinecolor\":\"#2a3f5f\",\"gridcolor\":\"white\",\"linecolor\":\"white\",\"minorgridcolor\":\"white\",\"startlinecolor\":\"#2a3f5f\"},\"type\":\"carpet\"}],\"choropleth\":[{\"colorbar\":{\"outlinewidth\":0,\"ticks\":\"\"},\"type\":\"choropleth\"}],\"contourcarpet\":[{\"colorbar\":{\"outlinewidth\":0,\"ticks\":\"\"},\"type\":\"contourcarpet\"}],\"contour\":[{\"colorbar\":{\"outlinewidth\":0,\"ticks\":\"\"},\"colorscale\":[[0.0,\"#0d0887\"],[0.1111111111111111,\"#46039f\"],[0.2222222222222222,\"#7201a8\"],[0.3333333333333333,\"#9c179e\"],[0.4444444444444444,\"#bd3786\"],[0.5555555555555556,\"#d8576b\"],[0.6666666666666666,\"#ed7953\"],[0.7777777777777778,\"#fb9f3a\"],[0.8888888888888888,\"#fdca26\"],[1.0,\"#f0f921\"]],\"type\":\"contour\"}],\"heatmapgl\":[{\"colorbar\":{\"outlinewidth\":0,\"ticks\":\"\"},\"colorscale\":[[0.0,\"#0d0887\"],[0.1111111111111111,\"#46039f\"],[0.2222222222222222,\"#7201a8\"],[0.3333333333333333,\"#9c179e\"],[0.4444444444444444,\"#bd3786\"],[0.5555555555555556,\"#d8576b\"],[0.6666666666666666,\"#ed7953\"],[0.7777777777777778,\"#fb9f3a\"],[0.8888888888888888,\"#fdca26\"],[1.0,\"#f0f921\"]],\"type\":\"heatmapgl\"}],\"heatmap\":[{\"colorbar\":{\"outlinewidth\":0,\"ticks\":\"\"},\"colorscale\":[[0.0,\"#0d0887\"],[0.1111111111111111,\"#46039f\"],[0.2222222222222222,\"#7201a8\"],[0.3333333333333333,\"#9c179e\"],[0.4444444444444444,\"#bd3786\"],[0.5555555555555556,\"#d8576b\"],[0.6666666666666666,\"#ed7953\"],[0.7777777777777778,\"#fb9f3a\"],[0.8888888888888888,\"#fdca26\"],[1.0,\"#f0f921\"]],\"type\":\"heatmap\"}],\"histogram2dcontour\":[{\"colorbar\":{\"outlinewidth\":0,\"ticks\":\"\"},\"colorscale\":[[0.0,\"#0d0887\"],[0.1111111111111111,\"#46039f\"],[0.2222222222222222,\"#7201a8\"],[0.3333333333333333,\"#9c179e\"],[0.4444444444444444,\"#bd3786\"],[0.5555555555555556,\"#d8576b\"],[0.6666666666666666,\"#ed7953\"],[0.7777777777777778,\"#fb9f3a\"],[0.8888888888888888,\"#fdca26\"],[1.0,\"#f0f921\"]],\"type\":\"histogram2dcontour\"}],\"histogram2d\":[{\"colorbar\":{\"outlinewidth\":0,\"ticks\":\"\"},\"colorscale\":[[0.0,\"#0d0887\"],[0.1111111111111111,\"#46039f\"],[0.2222222222222222,\"#7201a8\"],[0.3333333333333333,\"#9c179e\"],[0.4444444444444444,\"#bd3786\"],[0.5555555555555556,\"#d8576b\"],[0.6666666666666666,\"#ed7953\"],[0.7777777777777778,\"#fb9f3a\"],[0.8888888888888888,\"#fdca26\"],[1.0,\"#f0f921\"]],\"type\":\"histogram2d\"}],\"histogram\":[{\"marker\":{\"pattern\":{\"fillmode\":\"overlay\",\"size\":10,\"solidity\":0.2}},\"type\":\"histogram\"}],\"mesh3d\":[{\"colorbar\":{\"outlinewidth\":0,\"ticks\":\"\"},\"type\":\"mesh3d\"}],\"parcoords\":[{\"line\":{\"colorbar\":{\"outlinewidth\":0,\"ticks\":\"\"}},\"type\":\"parcoords\"}],\"pie\":[{\"automargin\":true,\"type\":\"pie\"}],\"scatter3d\":[{\"line\":{\"colorbar\":{\"outlinewidth\":0,\"ticks\":\"\"}},\"marker\":{\"colorbar\":{\"outlinewidth\":0,\"ticks\":\"\"}},\"type\":\"scatter3d\"}],\"scattercarpet\":[{\"marker\":{\"colorbar\":{\"outlinewidth\":0,\"ticks\":\"\"}},\"type\":\"scattercarpet\"}],\"scattergeo\":[{\"marker\":{\"colorbar\":{\"outlinewidth\":0,\"ticks\":\"\"}},\"type\":\"scattergeo\"}],\"scattergl\":[{\"marker\":{\"colorbar\":{\"outlinewidth\":0,\"ticks\":\"\"}},\"type\":\"scattergl\"}],\"scattermapbox\":[{\"marker\":{\"colorbar\":{\"outlinewidth\":0,\"ticks\":\"\"}},\"type\":\"scattermapbox\"}],\"scatterpolargl\":[{\"marker\":{\"colorbar\":{\"outlinewidth\":0,\"ticks\":\"\"}},\"type\":\"scatterpolargl\"}],\"scatterpolar\":[{\"marker\":{\"colorbar\":{\"outlinewidth\":0,\"ticks\":\"\"}},\"type\":\"scatterpolar\"}],\"scatter\":[{\"fillpattern\":{\"fillmode\":\"overlay\",\"size\":10,\"solidity\":0.2},\"type\":\"scatter\"}],\"scatterternary\":[{\"marker\":{\"colorbar\":{\"outlinewidth\":0,\"ticks\":\"\"}},\"type\":\"scatterternary\"}],\"surface\":[{\"colorbar\":{\"outlinewidth\":0,\"ticks\":\"\"},\"colorscale\":[[0.0,\"#0d0887\"],[0.1111111111111111,\"#46039f\"],[0.2222222222222222,\"#7201a8\"],[0.3333333333333333,\"#9c179e\"],[0.4444444444444444,\"#bd3786\"],[0.5555555555555556,\"#d8576b\"],[0.6666666666666666,\"#ed7953\"],[0.7777777777777778,\"#fb9f3a\"],[0.8888888888888888,\"#fdca26\"],[1.0,\"#f0f921\"]],\"type\":\"surface\"}],\"table\":[{\"cells\":{\"fill\":{\"color\":\"#EBF0F8\"},\"line\":{\"color\":\"white\"}},\"header\":{\"fill\":{\"color\":\"#C8D4E3\"},\"line\":{\"color\":\"white\"}},\"type\":\"table\"}]},\"layout\":{\"annotationdefaults\":{\"arrowcolor\":\"#2a3f5f\",\"arrowhead\":0,\"arrowwidth\":1},\"autotypenumbers\":\"strict\",\"coloraxis\":{\"colorbar\":{\"outlinewidth\":0,\"ticks\":\"\"}},\"colorscale\":{\"diverging\":[[0,\"#8e0152\"],[0.1,\"#c51b7d\"],[0.2,\"#de77ae\"],[0.3,\"#f1b6da\"],[0.4,\"#fde0ef\"],[0.5,\"#f7f7f7\"],[0.6,\"#e6f5d0\"],[0.7,\"#b8e186\"],[0.8,\"#7fbc41\"],[0.9,\"#4d9221\"],[1,\"#276419\"]],\"sequential\":[[0.0,\"#0d0887\"],[0.1111111111111111,\"#46039f\"],[0.2222222222222222,\"#7201a8\"],[0.3333333333333333,\"#9c179e\"],[0.4444444444444444,\"#bd3786\"],[0.5555555555555556,\"#d8576b\"],[0.6666666666666666,\"#ed7953\"],[0.7777777777777778,\"#fb9f3a\"],[0.8888888888888888,\"#fdca26\"],[1.0,\"#f0f921\"]],\"sequentialminus\":[[0.0,\"#0d0887\"],[0.1111111111111111,\"#46039f\"],[0.2222222222222222,\"#7201a8\"],[0.3333333333333333,\"#9c179e\"],[0.4444444444444444,\"#bd3786\"],[0.5555555555555556,\"#d8576b\"],[0.6666666666666666,\"#ed7953\"],[0.7777777777777778,\"#fb9f3a\"],[0.8888888888888888,\"#fdca26\"],[1.0,\"#f0f921\"]]},\"colorway\":[\"#636efa\",\"#EF553B\",\"#00cc96\",\"#ab63fa\",\"#FFA15A\",\"#19d3f3\",\"#FF6692\",\"#B6E880\",\"#FF97FF\",\"#FECB52\"],\"font\":{\"color\":\"#2a3f5f\"},\"geo\":{\"bgcolor\":\"white\",\"lakecolor\":\"white\",\"landcolor\":\"#E5ECF6\",\"showlakes\":true,\"showland\":true,\"subunitcolor\":\"white\"},\"hoverlabel\":{\"align\":\"left\"},\"hovermode\":\"closest\",\"mapbox\":{\"style\":\"light\"},\"paper_bgcolor\":\"white\",\"plot_bgcolor\":\"#E5ECF6\",\"polar\":{\"angularaxis\":{\"gridcolor\":\"white\",\"linecolor\":\"white\",\"ticks\":\"\"},\"bgcolor\":\"#E5ECF6\",\"radialaxis\":{\"gridcolor\":\"white\",\"linecolor\":\"white\",\"ticks\":\"\"}},\"scene\":{\"xaxis\":{\"backgroundcolor\":\"#E5ECF6\",\"gridcolor\":\"white\",\"gridwidth\":2,\"linecolor\":\"white\",\"showbackground\":true,\"ticks\":\"\",\"zerolinecolor\":\"white\"},\"yaxis\":{\"backgroundcolor\":\"#E5ECF6\",\"gridcolor\":\"white\",\"gridwidth\":2,\"linecolor\":\"white\",\"showbackground\":true,\"ticks\":\"\",\"zerolinecolor\":\"white\"},\"zaxis\":{\"backgroundcolor\":\"#E5ECF6\",\"gridcolor\":\"white\",\"gridwidth\":2,\"linecolor\":\"white\",\"showbackground\":true,\"ticks\":\"\",\"zerolinecolor\":\"white\"}},\"shapedefaults\":{\"line\":{\"color\":\"#2a3f5f\"}},\"ternary\":{\"aaxis\":{\"gridcolor\":\"white\",\"linecolor\":\"white\",\"ticks\":\"\"},\"baxis\":{\"gridcolor\":\"white\",\"linecolor\":\"white\",\"ticks\":\"\"},\"bgcolor\":\"#E5ECF6\",\"caxis\":{\"gridcolor\":\"white\",\"linecolor\":\"white\",\"ticks\":\"\"}},\"title\":{\"x\":0.05},\"xaxis\":{\"automargin\":true,\"gridcolor\":\"white\",\"linecolor\":\"white\",\"ticks\":\"\",\"title\":{\"standoff\":15},\"zerolinecolor\":\"white\",\"zerolinewidth\":2},\"yaxis\":{\"automargin\":true,\"gridcolor\":\"white\",\"linecolor\":\"white\",\"ticks\":\"\",\"title\":{\"standoff\":15},\"zerolinecolor\":\"white\",\"zerolinewidth\":2}}},\"title\":{\"font\":{\"color\":\"#4D5663\"},\"text\":\"\\uc0bc\\uc131\\uc804\\uc790 \\ucd5c\\uc801\\uacbd\\ud5a5\\uc120\"},\"xaxis\":{\"gridcolor\":\"#E1E5ED\",\"showgrid\":true,\"tickfont\":{\"color\":\"#4D5663\"},\"title\":{\"font\":{\"color\":\"#4D5663\"},\"text\":\"\"},\"zerolinecolor\":\"#E1E5ED\"},\"yaxis\":{\"gridcolor\":\"#E1E5ED\",\"showgrid\":true,\"tickfont\":{\"color\":\"#4D5663\"},\"title\":{\"font\":{\"color\":\"#4D5663\"},\"text\":\"\"},\"zerolinecolor\":\"#E1E5ED\"}},                        {\"showLink\": true, \"linkText\": \"Export to plot.ly\", \"plotlyServerURL\": \"https://plot.ly\", \"responsive\": true}                    ).then(function(){\n",
       "                            \n",
       "var gd = document.getElementById('0173f17c-e94d-4cc2-9f9c-095cd7043908');\n",
       "var x = new MutationObserver(function (mutations, observer) {{\n",
       "        var display = window.getComputedStyle(gd).display;\n",
       "        if (!display || display === 'none') {{\n",
       "            console.log([gd, 'removed!']);\n",
       "            Plotly.purge(gd);\n",
       "            observer.disconnect();\n",
       "        }}\n",
       "}});\n",
       "\n",
       "// Listen for the removal of the full notebook cells\n",
       "var notebookContainer = gd.closest('#notebook-container');\n",
       "if (notebookContainer) {{\n",
       "    x.observe(notebookContainer, {childList: true});\n",
       "}}\n",
       "\n",
       "// Listen for the clearing of the current output cell\n",
       "var outputEl = gd.closest('.output');\n",
       "if (outputEl) {{\n",
       "    x.observe(outputEl, {childList: true});\n",
       "}}\n",
       "\n",
       "                        })                };                });            </script>        </div>"
      ]
     },
     "metadata": {},
     "output_type": "display_data"
    }
   ],
   "source": [
    "import pandas as pd\n",
    "import cufflinks as cf\n",
    "import numpy as np\n",
    "import warnings\n",
    "from datetime import datetime\n",
    "warnings.filterwarnings(\"ignore\")\n",
    "cf.set_config_file(theme='pearl', world_readable=False)\n",
    "cf.go_offline()\n",
    "single_stock = fdr.DataReader('005930', '2023-01-01', '2023-12-31')\n",
    "single_stock['Close'].iplot(title='삼성전자 최적경향선', bestfit=True, bestfit_colors=['blue']) # 수익률 시각화, bestfit:최적 경향선 추가(추세 파악 용이)"
   ]
  },
  {
   "cell_type": "markdown",
   "metadata": {},
   "source": [
    "# 상관분석"
   ]
  },
  {
   "cell_type": "code",
   "execution_count": 10,
   "metadata": {},
   "outputs": [
    {
     "name": "stdout",
     "output_type": "stream",
     "text": [
      "Date\n",
      "2023-01-31         NaN\n",
      "2023-02-28    0.029402\n",
      "2023-03-31   -0.018847\n",
      "2023-04-30    0.060668\n",
      "2023-05-31    0.031532\n",
      "2023-06-30    0.071393\n",
      "2023-07-31   -0.004584\n",
      "2023-08-31   -0.051316\n",
      "2023-09-30    0.036670\n",
      "2023-10-31   -0.032178\n",
      "2023-11-30    0.051517\n",
      "2023-12-31    0.033629\n",
      "Freq: M, Name: Close, dtype: float64\n"
     ]
    }
   ],
   "source": [
    "ss_stock.index = pd.to_datetime(ss_stock.index)\n",
    "\n",
    "# 월별 평균 수익률 계산\n",
    "monthly_avg_returns = ss_stock['Close'].resample('M').mean().pct_change()\n",
    "\n",
    "print(monthly_avg_returns)"
   ]
  },
  {
   "cell_type": "code",
   "execution_count": 11,
   "metadata": {},
   "outputs": [
    {
     "data": {
      "text/html": [
       "<div>\n",
       "<style scoped>\n",
       "    .dataframe tbody tr th:only-of-type {\n",
       "        vertical-align: middle;\n",
       "    }\n",
       "\n",
       "    .dataframe tbody tr th {\n",
       "        vertical-align: top;\n",
       "    }\n",
       "\n",
       "    .dataframe thead th {\n",
       "        text-align: right;\n",
       "    }\n",
       "</style>\n",
       "<table border=\"1\" class=\"dataframe\">\n",
       "  <thead>\n",
       "    <tr style=\"text-align: right;\">\n",
       "      <th></th>\n",
       "      <th>Open</th>\n",
       "      <th>High</th>\n",
       "      <th>Low</th>\n",
       "      <th>Close</th>\n",
       "      <th>Volume</th>\n",
       "      <th>Change</th>\n",
       "      <th>Date_Integer</th>\n",
       "    </tr>\n",
       "    <tr>\n",
       "      <th>Date</th>\n",
       "      <th></th>\n",
       "      <th></th>\n",
       "      <th></th>\n",
       "      <th></th>\n",
       "      <th></th>\n",
       "      <th></th>\n",
       "      <th></th>\n",
       "    </tr>\n",
       "  </thead>\n",
       "  <tbody>\n",
       "    <tr>\n",
       "      <th>2023-01-02</th>\n",
       "      <td>55500</td>\n",
       "      <td>56100</td>\n",
       "      <td>55200</td>\n",
       "      <td>55500</td>\n",
       "      <td>10031448</td>\n",
       "      <td>0.003617</td>\n",
       "      <td>0</td>\n",
       "    </tr>\n",
       "    <tr>\n",
       "      <th>2023-01-03</th>\n",
       "      <td>55400</td>\n",
       "      <td>56000</td>\n",
       "      <td>54500</td>\n",
       "      <td>55400</td>\n",
       "      <td>13547030</td>\n",
       "      <td>-0.001802</td>\n",
       "      <td>1</td>\n",
       "    </tr>\n",
       "    <tr>\n",
       "      <th>2023-01-04</th>\n",
       "      <td>55700</td>\n",
       "      <td>58000</td>\n",
       "      <td>55600</td>\n",
       "      <td>57800</td>\n",
       "      <td>20188071</td>\n",
       "      <td>0.043321</td>\n",
       "      <td>2</td>\n",
       "    </tr>\n",
       "    <tr>\n",
       "      <th>2023-01-05</th>\n",
       "      <td>58200</td>\n",
       "      <td>58800</td>\n",
       "      <td>57600</td>\n",
       "      <td>58200</td>\n",
       "      <td>15682826</td>\n",
       "      <td>0.006920</td>\n",
       "      <td>3</td>\n",
       "    </tr>\n",
       "    <tr>\n",
       "      <th>2023-01-06</th>\n",
       "      <td>58300</td>\n",
       "      <td>59400</td>\n",
       "      <td>57900</td>\n",
       "      <td>59000</td>\n",
       "      <td>17334989</td>\n",
       "      <td>0.013746</td>\n",
       "      <td>4</td>\n",
       "    </tr>\n",
       "    <tr>\n",
       "      <th>...</th>\n",
       "      <td>...</td>\n",
       "      <td>...</td>\n",
       "      <td>...</td>\n",
       "      <td>...</td>\n",
       "      <td>...</td>\n",
       "      <td>...</td>\n",
       "      <td>...</td>\n",
       "    </tr>\n",
       "    <tr>\n",
       "      <th>2023-12-21</th>\n",
       "      <td>74600</td>\n",
       "      <td>75000</td>\n",
       "      <td>74300</td>\n",
       "      <td>75000</td>\n",
       "      <td>13478766</td>\n",
       "      <td>0.002674</td>\n",
       "      <td>353</td>\n",
       "    </tr>\n",
       "    <tr>\n",
       "      <th>2023-12-22</th>\n",
       "      <td>75800</td>\n",
       "      <td>76300</td>\n",
       "      <td>75400</td>\n",
       "      <td>75900</td>\n",
       "      <td>14515608</td>\n",
       "      <td>0.012000</td>\n",
       "      <td>354</td>\n",
       "    </tr>\n",
       "    <tr>\n",
       "      <th>2023-12-26</th>\n",
       "      <td>76100</td>\n",
       "      <td>76700</td>\n",
       "      <td>75700</td>\n",
       "      <td>76600</td>\n",
       "      <td>13164909</td>\n",
       "      <td>0.009223</td>\n",
       "      <td>358</td>\n",
       "    </tr>\n",
       "    <tr>\n",
       "      <th>2023-12-27</th>\n",
       "      <td>76700</td>\n",
       "      <td>78000</td>\n",
       "      <td>76500</td>\n",
       "      <td>78000</td>\n",
       "      <td>20651042</td>\n",
       "      <td>0.018277</td>\n",
       "      <td>359</td>\n",
       "    </tr>\n",
       "    <tr>\n",
       "      <th>2023-12-28</th>\n",
       "      <td>77700</td>\n",
       "      <td>78500</td>\n",
       "      <td>77500</td>\n",
       "      <td>78500</td>\n",
       "      <td>17797536</td>\n",
       "      <td>0.006410</td>\n",
       "      <td>360</td>\n",
       "    </tr>\n",
       "  </tbody>\n",
       "</table>\n",
       "<p>245 rows × 7 columns</p>\n",
       "</div>"
      ],
      "text/plain": [
       "             Open   High    Low  Close    Volume    Change  Date_Integer\n",
       "Date                                                                    \n",
       "2023-01-02  55500  56100  55200  55500  10031448  0.003617             0\n",
       "2023-01-03  55400  56000  54500  55400  13547030 -0.001802             1\n",
       "2023-01-04  55700  58000  55600  57800  20188071  0.043321             2\n",
       "2023-01-05  58200  58800  57600  58200  15682826  0.006920             3\n",
       "2023-01-06  58300  59400  57900  59000  17334989  0.013746             4\n",
       "...           ...    ...    ...    ...       ...       ...           ...\n",
       "2023-12-21  74600  75000  74300  75000  13478766  0.002674           353\n",
       "2023-12-22  75800  76300  75400  75900  14515608  0.012000           354\n",
       "2023-12-26  76100  76700  75700  76600  13164909  0.009223           358\n",
       "2023-12-27  76700  78000  76500  78000  20651042  0.018277           359\n",
       "2023-12-28  77700  78500  77500  78500  17797536  0.006410           360\n",
       "\n",
       "[245 rows x 7 columns]"
      ]
     },
     "execution_count": 11,
     "metadata": {},
     "output_type": "execute_result"
    }
   ],
   "source": [
    "ss_stock"
   ]
  },
  {
   "cell_type": "code",
   "execution_count": 12,
   "metadata": {},
   "outputs": [
    {
     "name": "stdout",
     "output_type": "stream",
     "text": [
      "0          NaN\n",
      "1    -0.439461\n",
      "2    -2.719408\n",
      "3    -2.331815\n",
      "4    -2.223824\n",
      "5     0.525805\n",
      "6    -0.667260\n",
      "7    -0.034103\n",
      "8     0.451860\n",
      "9     0.798440\n",
      "10    0.081964\n",
      "11    0.390637\n",
      "Name: total, dtype: float64\n"
     ]
    }
   ],
   "source": [
    "company = \"삼성전자\"\n",
    "\n",
    "sentiment_result = pd.read_csv(\"../data/project/predicted_삼성전자_2023.csv\") # 감성분석 결과 csv파일 읽어오기\n",
    "sentiment_result['date'] = pd.to_datetime(sentiment_result['date'])\n",
    "sentiment_result['month'] = sentiment_result['date'].dt.month\n",
    "\n",
    "sentiments_data = []\n",
    "\n",
    "for index, row in sentiment_result.iterrows():\n",
    "    \n",
    "    month = row['month']\n",
    "    prediction = row['prediction']\n",
    "    score = row['score']\n",
    "   \n",
    "    sentiments_data.append([month, company, prediction, score])\n",
    "\n",
    "sentiments_df = pd.DataFrame(sentiments_data, columns=['month', 'company', 'prediction', 'score'])\n",
    "\n",
    "# 감성에 따른 가중치 매핑\n",
    "weights = {'호재': 1, '악재': -1, '중립': 0}\n",
    "sentiments_df['total'] = sentiments_df['prediction'].map(weights) * sentiments_df['score']\n",
    "sentiments_df = sentiments_df.drop('company', axis=1)\n",
    "sentiments_df = sentiments_df.rename(columns={'삼성전자': 'total'})\n",
    "sentiments_df['month'] = sentiments_df['month'].astype(str) + '월'\n",
    "\n",
    "# 'month' 기준 그룹화 및 합계\n",
    "df_monthly_total = sentiments_df.groupby('month')['total'].sum().reset_index()\n",
    "\n",
    "df_monthly_total['month'] = pd.Categorical(df_monthly_total['month'], categories=['1월', '2월', '3월', '4월', '5월', '6월', '7월', '8월', '9월', '10월', '11월', '12월'], ordered=True)\n",
    "df_monthly_total = df_monthly_total.sort_values('month')\n",
    "df_monthly_total = df_monthly_total.reset_index(drop=True)\n",
    "\n",
    "# 월별 감성분석 변동\n",
    "monthly_avg_total = df_monthly_total['total']\n",
    "monthly_avg_total_diff = monthly_avg_total.pct_change()\n",
    "\n",
    "print(monthly_avg_total_diff)\n"
   ]
  },
  {
   "cell_type": "code",
   "execution_count": 13,
   "metadata": {},
   "outputs": [],
   "source": [
    "sentiment_predicted_diff = monthly_avg_total_diff.tolist()\n",
    "month_avg_gain = monthly_avg_returns.tolist()\n",
    "\n",
    "if pd.isna(month_avg_gain[0]):\n",
    "    month_avg_gain = month_avg_gain[1:]\n",
    "    sentiment_predicted_diff = sentiment_predicted_diff[1:]\n"
   ]
  },
  {
   "cell_type": "code",
   "execution_count": 14,
   "metadata": {},
   "outputs": [
    {
     "name": "stdout",
     "output_type": "stream",
     "text": [
      "Correlation Coefficient: -0.012050343190822651\n",
      "P-value: 0.971949029542867\n",
      "No statistically significant correlation.\n"
     ]
    }
   ],
   "source": [
    "import numpy as np\n",
    "import scipy.stats\n",
    "\n",
    "# 두 리스트 간의 상관 계수 계산\n",
    "correlation_coefficient, p_value = scipy.stats.pearsonr(sentiment_predicted_diff, month_avg_gain)\n",
    "\n",
    "print(f\"Correlation Coefficient: {correlation_coefficient}\")\n",
    "print(f\"P-value: {p_value}\")\n",
    "\n",
    "if p_value < 0.05:\n",
    "    print(\"Statistically significant correlation.\")\n",
    "else:\n",
    "    print(\"No statistically significant correlation.\")"
   ]
  },
  {
   "cell_type": "code",
   "execution_count": 15,
   "metadata": {},
   "outputs": [
    {
     "name": "stdout",
     "output_type": "stream",
     "text": [
      "              월별 평균 수익률 변동  월별 감성분석 변동\n",
      "월별 평균 수익률 변동       1.00000    -0.01205\n",
      "월별 감성분석 변동        -0.01205     1.00000\n"
     ]
    }
   ],
   "source": [
    "import pandas as pd\n",
    "\n",
    "correlation_data = pd.DataFrame({'월별 평균 수익률 변동': month_avg_gain, '월별 감성분석 변동': sentiment_predicted_diff})\n",
    "\n",
    "# 상관 행렬\n",
    "correlation_matrix = correlation_data.corr()\n",
    "\n",
    "print(correlation_matrix)"
   ]
  },
  {
   "cell_type": "code",
   "execution_count": 16,
   "metadata": {},
   "outputs": [
    {
     "data": {
      "text/html": [
       "<div>\n",
       "<style scoped>\n",
       "    .dataframe tbody tr th:only-of-type {\n",
       "        vertical-align: middle;\n",
       "    }\n",
       "\n",
       "    .dataframe tbody tr th {\n",
       "        vertical-align: top;\n",
       "    }\n",
       "\n",
       "    .dataframe thead th {\n",
       "        text-align: right;\n",
       "    }\n",
       "</style>\n",
       "<table border=\"1\" class=\"dataframe\">\n",
       "  <thead>\n",
       "    <tr style=\"text-align: right;\">\n",
       "      <th></th>\n",
       "      <th>월별 평균 수익률 변동</th>\n",
       "      <th>월별 감성분석 변동</th>\n",
       "    </tr>\n",
       "  </thead>\n",
       "  <tbody>\n",
       "    <tr>\n",
       "      <th>2월</th>\n",
       "      <td>0.029402</td>\n",
       "      <td>-0.439461</td>\n",
       "    </tr>\n",
       "    <tr>\n",
       "      <th>3월</th>\n",
       "      <td>-0.018847</td>\n",
       "      <td>-2.719408</td>\n",
       "    </tr>\n",
       "    <tr>\n",
       "      <th>4월</th>\n",
       "      <td>0.060668</td>\n",
       "      <td>-2.331815</td>\n",
       "    </tr>\n",
       "    <tr>\n",
       "      <th>5월</th>\n",
       "      <td>0.031532</td>\n",
       "      <td>-2.223824</td>\n",
       "    </tr>\n",
       "    <tr>\n",
       "      <th>6월</th>\n",
       "      <td>0.071393</td>\n",
       "      <td>0.525805</td>\n",
       "    </tr>\n",
       "    <tr>\n",
       "      <th>7월</th>\n",
       "      <td>-0.004584</td>\n",
       "      <td>-0.667260</td>\n",
       "    </tr>\n",
       "    <tr>\n",
       "      <th>8월</th>\n",
       "      <td>-0.051316</td>\n",
       "      <td>-0.034103</td>\n",
       "    </tr>\n",
       "    <tr>\n",
       "      <th>9월</th>\n",
       "      <td>0.036670</td>\n",
       "      <td>0.451860</td>\n",
       "    </tr>\n",
       "    <tr>\n",
       "      <th>10월</th>\n",
       "      <td>-0.032178</td>\n",
       "      <td>0.798440</td>\n",
       "    </tr>\n",
       "    <tr>\n",
       "      <th>11월</th>\n",
       "      <td>0.051517</td>\n",
       "      <td>0.081964</td>\n",
       "    </tr>\n",
       "    <tr>\n",
       "      <th>12월</th>\n",
       "      <td>0.033629</td>\n",
       "      <td>0.390637</td>\n",
       "    </tr>\n",
       "  </tbody>\n",
       "</table>\n",
       "</div>"
      ],
      "text/plain": [
       "     월별 평균 수익률 변동  월별 감성분석 변동\n",
       "2월       0.029402   -0.439461\n",
       "3월      -0.018847   -2.719408\n",
       "4월       0.060668   -2.331815\n",
       "5월       0.031532   -2.223824\n",
       "6월       0.071393    0.525805\n",
       "7월      -0.004584   -0.667260\n",
       "8월      -0.051316   -0.034103\n",
       "9월       0.036670    0.451860\n",
       "10월     -0.032178    0.798440\n",
       "11월      0.051517    0.081964\n",
       "12월      0.033629    0.390637"
      ]
     },
     "execution_count": 16,
     "metadata": {},
     "output_type": "execute_result"
    }
   ],
   "source": [
    "import seaborn as sns\n",
    "import matplotlib.pyplot as plt\n",
    "\n",
    "# 데이터프레임에 인덱스 설정\n",
    "index_months = [str(i) + '월' for i in range(2, 13)]\n",
    "correlation_data.index = index_months\n",
    "\n",
    "correlation_data\n"
   ]
  },
  {
   "cell_type": "code",
   "execution_count": 17,
   "metadata": {},
   "outputs": [
    {
     "data": {
      "image/png": "[encoded data removed]",
      "text/plain": [
       "<Figure size 1000x600 with 1 Axes>"
      ]
     },
     "metadata": {},
     "output_type": "display_data"
    }
   ],
   "source": [
    "import seaborn as sns\n",
    "import matplotlib.pyplot as plt\n",
    "\n",
    "# 월별 평균 수익률 변동에 적절한 가중치 설정\n",
    "correlation_data['월별 평균 수익률 변동'] = correlation_data['월별 평균 수익률 변동'] * 10\n",
    "\n",
    "# 히스토그램\n",
    "plt.figure(figsize=(10, 6))\n",
    "plt.grid(axis='y', which='major', alpha=0.5)\n",
    "sns.barplot(x=index_months, y='월별 평균 수익률 변동', data=correlation_data, alpha=0.7, label='월별 평균 수익률 변동', color='Blue')\n",
    "sns.barplot(x=index_months, y='월별 감성분석 변동', data=correlation_data, alpha=0.8, label='월별 감성분석 변동', color = 'Gray')\n",
    "plt.title('월별 평균 수익률 변동 & 감성분석 변동 분포')\n",
    "plt.xlabel('월')\n",
    "plt.ylabel('수치')\n",
    "plt.legend()\n",
    "plt.show()"
   ]
  },
  {
   "cell_type": "code",
   "execution_count": null,
   "metadata": {},
   "outputs": [],
   "source": []
  }
 ],
 "metadata": {
  "kernelspec": {
   "display_name": "eda_venv",
   "language": "python",
   "name": "python3"
  },
  "language_info": {
   "codemirror_mode": {
    "name": "ipython",
    "version": 3
   },
   "file_extension": ".py",
   "mimetype": "text/x-python",
   "name": "python",
   "nbconvert_exporter": "python",
   "pygments_lexer": "ipython3",
   "version": "3.10.12"
  }
 },
 "nbformat": 4,
 "nbformat_minor": 2
}
